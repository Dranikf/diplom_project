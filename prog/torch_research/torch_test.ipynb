{
 "cells": [
  {
   "cell_type": "markdown",
   "id": "4248f2f8-d9bc-4b88-8628-0d4e53761327",
   "metadata": {},
   "source": [
    "# Исследование pytorch"
   ]
  },
  {
   "cell_type": "code",
   "execution_count": 23,
   "id": "81a5b115-967c-42c9-b3e1-5db4750aa6d5",
   "metadata": {},
   "outputs": [],
   "source": [
    "from torch import optim\n",
    "from torch import nn\n",
    "from torch import tensor\n",
    "import numpy as np\n",
    "\n",
    "from sys import path\n",
    "model_path = \"/home/dranik/KFA/university/diplom_project/prog/model\"\n",
    "if model_path not in path:\n",
    "    path.append(model_path)\n",
    "    \n",
    "from nets_algo import ResultNet"
   ]
  },
  {
   "cell_type": "markdown",
   "id": "55cf2411-4348-4551-ba2b-18c8e2023f8c",
   "metadata": {},
   "source": [
    "## Какой класс возвращает функция потерь"
   ]
  },
  {
   "cell_type": "markdown",
   "id": "aafbc15f-704e-4339-9af7-e9d765bdb9dc",
   "metadata": {},
   "source": [
    "Подготовка данных"
   ]
  },
  {
   "cell_type": "code",
   "execution_count": 39,
   "id": "24ca769a-e45c-4350-982b-6916eacdc335",
   "metadata": {},
   "outputs": [],
   "source": [
    "X = np.concatenate([\n",
    "    np.random.normal(5, 1, 20),\n",
    "    np.random.normal(10, 1, 20)\n",
    "]).reshape(40,1).astype('float32')\n",
    "Y = np.concatenate([\n",
    "    (np.random.rand(20) < 0.3).astype('int'),\n",
    "    (np.random.rand(20) < 0.7).astype('int')\n",
    "]).reshape(40,1).astype('float32')"
   ]
  },
  {
   "cell_type": "code",
   "execution_count": 47,
   "id": "c1203109-5b84-4e98-af59-50366ebde1f7",
   "metadata": {},
   "outputs": [
    {
     "name": "stdout",
     "output_type": "stream",
     "text": [
      "type of loss is  <class 'torch.Tensor'>\n"
     ]
    }
   ],
   "source": [
    "net = ResultNet([1,2])\n",
    "optimizer = optim.Adam(\n",
    "    net.parameters()\n",
    ")\n",
    "loss_fn = nn.BCELoss()\n",
    "\n",
    "optimizer.zero_grad()\n",
    "output = net(tensor(X))\n",
    "loss = loss_fn(output, tensor(Y))\n",
    "print(\"type of loss is \", type(loss))\n",
    "loss.backward()"
   ]
  }
 ],
 "metadata": {
  "kernelspec": {
   "display_name": "Python 3 (ipykernel)",
   "language": "python",
   "name": "python3"
  },
  "language_info": {
   "codemirror_mode": {
    "name": "ipython",
    "version": 3
   },
   "file_extension": ".py",
   "mimetype": "text/x-python",
   "name": "python",
   "nbconvert_exporter": "python",
   "pygments_lexer": "ipython3",
   "version": "3.10.4"
  }
 },
 "nbformat": 4,
 "nbformat_minor": 5
}
