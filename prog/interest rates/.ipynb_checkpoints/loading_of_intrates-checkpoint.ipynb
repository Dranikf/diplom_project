{
 "cells": [
  {
   "cell_type": "markdown",
   "id": "31ed45b4-cb32-4c05-a6e3-1ad0c3d7bb72",
   "metadata": {},
   "source": [
    "# Для оценки профита получаемого от модели нужно достать процентные ставки\n",
    "\n",
    "Для того чтобы получить сколько модель сэкономит по сравнению с предыдущими наблюдениями нужно достать процентные ставки по кредитам."
   ]
  },
  {
   "cell_type": "code",
   "execution_count": 20,
   "id": "144314b6-ec43-407d-86db-9c51c38d7772",
   "metadata": {},
   "outputs": [],
   "source": [
    "from openpyxl import load_workbook\n",
    "import numpy as np\n",
    "import pandas as pd\n",
    "\n",
    "wb = load_workbook(\"/home/dranik/KFA/university/diplom_project/prog/interest rates/avgintrates2000-2020_ru.xlsx\",\n",
    "                  read_only = True)"
   ]
  },
  {
   "cell_type": "markdown",
   "id": "087b4c3c-5e65-4229-b412-9df9747faafe",
   "metadata": {},
   "source": [
    "# Извлечение требуемой информации с переданного листа"
   ]
  },
  {
   "cell_type": "code",
   "execution_count": 18,
   "id": "7d7b5e92-1e43-4cd9-8f76-ade7d9631aae",
   "metadata": {},
   "outputs": [],
   "source": [
    "def load_info_from_sheet(sheet):\n",
    "    \n",
    "    result = np.zeros([2,12])\n",
    "    \n",
    "    for i, row in enumerate(sheet[\"B9\":\"M10\"]):\n",
    "        for j, cell in enumerate(row):\n",
    "            result[i,j] = cell.value\n",
    "            \n",
    "    return result"
   ]
  },
  {
   "cell_type": "code",
   "execution_count": 21,
   "id": "2179ab7b-39e7-498a-9154-0e121f3c3741",
   "metadata": {},
   "outputs": [],
   "source": [
    "result_df = pd.DataFrame()\n",
    "\n",
    "for sheet_name in wb.sheetnames:\n",
    "    sheet_info = load_info_from_sheet(wb[sheet_name])\n",
    "    result_df = pd.concatenate(result_df,\n",
    "                   pd.DataFrame(sheet_info.T, columns = ['до года' , 'свыше года']))"
   ]
  }
 ],
 "metadata": {
  "kernelspec": {
   "display_name": "Python 3 (ipykernel)",
   "language": "python",
   "name": "python3"
  },
  "language_info": {
   "codemirror_mode": {
    "name": "ipython",
    "version": 3
   },
   "file_extension": ".py",
   "mimetype": "text/x-python",
   "name": "python",
   "nbconvert_exporter": "python",
   "pygments_lexer": "ipython3",
   "version": "3.10.4"
  }
 },
 "nbformat": 4,
 "nbformat_minor": 5
}
