{
 "cells": [
  {
   "cell_type": "markdown",
   "id": "7831d721-7429-414c-ac1d-3e331235dbca",
   "metadata": {},
   "source": [
    "# Исследование влияния батча на целевую функцию классификатора\n",
    "\n",
    "Сгенерируем некоторый набор данных с двумя классами. Для него сформируем простой линейный классификатор, веса которого сможем легко изменять посмторим как функция кросс энтропии будет себя вести. "
   ]
  },
  {
   "cell_type": "code",
   "execution_count": 1,
   "id": "f87ad14b-b084-4fac-bf74-099baa474591",
   "metadata": {},
   "outputs": [],
   "source": [
    "import numpy as np\n",
    "from math import sqrt\n",
    "import matplotlib.pyplot as plt\n",
    "\n",
    "import plotly.graph_objects as go"
   ]
  },
  {
   "cell_type": "markdown",
   "id": "6f0a9838-706f-4b90-9cc4-d57e3f4d693c",
   "metadata": {},
   "source": [
    "# Подготовка метода для формирования данных\n",
    "\n",
    "Будет две двумерные-нормальные случайные величины. С настройками близости и дисперсии."
   ]
  },
  {
   "cell_type": "code",
   "execution_count": 142,
   "id": "4ef27163-a5b4-426f-b71e-b23e8c6f50f1",
   "metadata": {},
   "outputs": [],
   "source": [
    "def create_exmaple_data(\n",
    "    distance, sigma, \n",
    "    class0_count = 200, \n",
    "    class1_count = 200\n",
    "):\n",
    "    pos = distance/(2*sqrt(np.abs(distance)))\n",
    "    data =\\\n",
    "    np.concatenate([\n",
    "        np.concatenate([\n",
    "            np.random.normal(pos, sigma, [class0_count, 2]),\n",
    "            np.zeros([class0_count,1])\n",
    "        ], axis = 1),\n",
    "        np.concatenate([\n",
    "            np.random.normal(-pos, sigma, [class1_count, 2]),\n",
    "            np.ones([class1_count,1])\n",
    "        ],axis = 1)\n",
    "    ])\n",
    "    \n",
    "    return data"
   ]
  },
  {
   "cell_type": "markdown",
   "id": "054eec15-d03e-4f7d-b8c9-3a6a75063786",
   "metadata": {},
   "source": [
    "Нанести диаграмму рассеяния"
   ]
  },
  {
   "cell_type": "code",
   "execution_count": 143,
   "id": "7740b9b9-bf8f-4728-bf2f-8894fcfabdb0",
   "metadata": {},
   "outputs": [],
   "source": [
    "def plot_scatter(data):\n",
    "    for level in np.unique(data[:, 2]):\n",
    "        cond = (data[:,2] == level)\n",
    "        plt.scatter(data[cond,0], data[cond,1])\n",
    "    \n",
    "    plt.xlabel('$x_1$', loc = 'right', fontsize = 13)\n",
    "    plt.ylabel('$x_2$', loc = 'top', fontsize = 13)"
   ]
  },
  {
   "cell_type": "markdown",
   "id": "d1be87c3-3a64-4338-8ac1-8cc63377800b",
   "metadata": {},
   "source": [
    "Примерить линейный классификатор с преданными весами - идентификационная форма логистическая регрессия."
   ]
  },
  {
   "cell_type": "code",
   "execution_count": 217,
   "id": "91eee83a-a841-4316-80f7-6345dbf20b07",
   "metadata": {},
   "outputs": [],
   "source": [
    "def linear_classy_pred(w1, w2, X1, X2):\n",
    "    # output - np.array - вектор предсказаний модели\n",
    "    return 1/(1+np.exp(-w1*X1 - w1*X2 + w2))"
   ]
  },
  {
   "cell_type": "markdown",
   "id": "c1540eb4-f88a-4984-80ce-d54cb6265412",
   "metadata": {},
   "source": [
    "Вычисление функци кросс-энропии"
   ]
  },
  {
   "cell_type": "code",
   "execution_count": 218,
   "id": "eed8e52a-c90c-44ee-8781-e5a53de04f44",
   "metadata": {},
   "outputs": [],
   "source": [
    "def cross_entropy_fun(y,p):\n",
    "    return -np.mean(y*np.log(p) + (1-y)*np.log(1-p))"
   ]
  },
  {
   "cell_type": "markdown",
   "id": "2c61e638-2cfb-404e-8ea5-0e01db6ab6ee",
   "metadata": {},
   "source": [
    "Для указанный множеств весов подготовить сетку и значения ошибки"
   ]
  },
  {
   "cell_type": "code",
   "execution_count": 219,
   "id": "c0911c99-85a2-421a-bfd4-ee3f45a640c3",
   "metadata": {},
   "outputs": [],
   "source": [
    "def get_losses(w1, w2, data):\n",
    "\n",
    "    ww1, ww2 = np.meshgrid(w1, w2)\n",
    "    losses = np.zeros(ww1.shape)\n",
    "\n",
    "    for i in range(ww1.shape[0]):\n",
    "        for j in range( ww1.shape[1]):\n",
    "            preds = linear_classy_pred(\n",
    "                ww1[i,j], ww2[i,j], \n",
    "                data[:,0], data[:,1]\n",
    "            )\n",
    "            losses[i,j] = cross_entropy_fun(data[:, 2], preds)\n",
    "            \n",
    "    return ww1, ww2, losses"
   ]
  },
  {
   "cell_type": "markdown",
   "id": "82382133-05f6-4056-8d78-bc9e9876a563",
   "metadata": {},
   "source": [
    "# Вычисления"
   ]
  },
  {
   "cell_type": "markdown",
   "id": "d1d6e2d0-5a7c-492c-90e7-f6bccc0a1305",
   "metadata": {},
   "source": [
    "Создание данных"
   ]
  },
  {
   "cell_type": "code",
   "execution_count": 220,
   "id": "2d13f028-0173-4c4d-904e-f34fcb3a3785",
   "metadata": {},
   "outputs": [
    {
     "ename": "SyntaxError",
     "evalue": "leading zeros in decimal integer literals are not permitted; use an 0o prefix for octal integers (2450782653.py, line 17)",
     "output_type": "error",
     "traceback": [
      "\u001b[0;36m  Input \u001b[0;32mIn [220]\u001b[0;36m\u001b[0m\n\u001b[0;31m    np.random.normal(05, 0.1, [200,2]),\u001b[0m\n\u001b[0m                     ^\u001b[0m\n\u001b[0;31mSyntaxError\u001b[0m\u001b[0;31m:\u001b[0m leading zeros in decimal integer literals are not permitted; use an 0o prefix for octal integers\n"
     ]
    }
   ],
   "source": [
    "data =\\\n",
    "np.concatenate([\n",
    "    np.random.normal(-0.5, 0.1, [200,2]),\n",
    "    np.zeros([200,1])\n",
    "], axis = 1)\n",
    "\n",
    "data = np.concatenate([data,\n",
    "    np.concatenate([\n",
    "        np.random.normal(0, 0.1, [200,2]),\n",
    "        np.ones([200,1])\n",
    "    ], axis = 1)\n",
    "])\n",
    "\n",
    "\n",
    "data = np.concatenate([data,\n",
    "    np.concatenate([\n",
    "        np.random.normal(05, 0.1, [200,2]),\n",
    "        np.zeros([200,1])\n",
    "    ], axis = 1)\n",
    "])"
   ]
  },
  {
   "cell_type": "markdown",
   "id": "a317699a-452f-4fe5-bf88-9fd0591ef6b7",
   "metadata": {},
   "source": [
    "Данные и функция"
   ]
  },
  {
   "cell_type": "code",
   "execution_count": 241,
   "id": "95b4197e-3fef-43d1-bedd-e918918fe515",
   "metadata": {},
   "outputs": [
    {
     "data": {
      "text/plain": [
       "0.7939307825270425"
      ]
     },
     "execution_count": 241,
     "metadata": {},
     "output_type": "execute_result"
    },
    {
     "data": {
      "image/png": "[encoded data removed]",
      "text/plain": [
       "<Figure size 432x288 with 1 Axes>"
      ]
     },
     "metadata": {
      "needs_background": "light"
     },
     "output_type": "display_data"
    }
   ],
   "source": [
    "w1 = -0.1\n",
    "w2 = 2\n",
    "\n",
    "x1_max = np.max(data[:, 0])\n",
    "x1_min = np.min(data[:, 0])\n",
    "x2_max = np.max(data[:, 1])\n",
    "x2_min = np.min(data[:, 1])\n",
    "\n",
    "l_mesh_x, l_mesh_y = np.meshgrid(\n",
    "    np.linspace(x1_min, x1_max, 50),\n",
    "    np.linspace(x2_min, x2_max, 50)\n",
    ")\n",
    "\n",
    "\n",
    "plt.contourf(\n",
    "    l_mesh_x, l_mesh_y, \n",
    "    linear_classy_pred(w1, w2, l_mesh_x, l_mesh_y),\n",
    "    levels = 50, cmap = 'inferno'\n",
    ")\n",
    "\n",
    "plot_scatter(data)\n",
    "cross_entropy_fun(\n",
    "    data[:,2],\n",
    "    linear_classy_pred(\n",
    "        w1, w2, data[:,0], data[:,1]\n",
    "    )\n",
    ")"
   ]
  },
  {
   "cell_type": "code",
   "execution_count": 236,
   "id": "5313cd95-7b14-44b5-85be-866d7109dfd6",
   "metadata": {},
   "outputs": [
    {
     "data": {
      "text/plain": [
       "[<matplotlib.lines.Line2D at 0x7f6aac8e53c0>]"
      ]
     },
     "execution_count": 236,
     "metadata": {},
     "output_type": "execute_result"
    },
    {
     "data": {
      "image/png": "[encoded data removed]",
      "text/plain": [
       "<Figure size 432x288 with 1 Axes>"
      ]
     },
     "metadata": {
      "needs_background": "light"
     },
     "output_type": "display_data"
    }
   ],
   "source": [
    "w1 = np.linspace(-1,1,500)\n",
    "w2 = np.array([2])\n",
    "#w2 = np.linspace(-10, 10, 500)\n",
    "\n",
    "ww1, ww2, losses = get_losses(w1, w2, data)\n",
    "plt.plot(w1, losses.ravel())"
   ]
  },
  {
   "cell_type": "code",
   "execution_count": 203,
   "id": "26ab2a8b-defb-463b-8bf3-c7274c0ec105",
   "metadata": {},
   "outputs": [
    {
     "name": "stdout",
     "output_type": "stream",
     "text": [
      "Оптимум по первому весу [1]\n",
      "Оптимум по второму весу [0.82164329]\n"
     ]
    }
   ],
   "source": [
    "my_min = np.argmin(losses)\n",
    "print(\"Оптимум по первому весу \" + str(ww1[my_min]))\n",
    "print(\"Оптимум по второму весу \" + str(ww2[my_min]))"
   ]
  },
  {
   "cell_type": "markdown",
   "id": "25d7e4d3-55f0-4f0c-8121-c7a9ea37a151",
   "metadata": {},
   "source": [
    "# Простой одномерный пример"
   ]
  },
  {
   "cell_type": "code",
   "execution_count": 214,
   "id": "43bd0ad0-7dc6-4a36-aa64-262ff0a37b40",
   "metadata": {},
   "outputs": [
    {
     "data": {
      "text/plain": [
       "<matplotlib.collections.PathCollection at 0x7f6aafafb130>"
      ]
     },
     "execution_count": 214,
     "metadata": {},
     "output_type": "execute_result"
    },
    {
     "data": {
      "image/png": "[encoded data removed]",
      "text/plain": [
       "<Figure size 432x288 with 1 Axes>"
      ]
     },
     "metadata": {
      "needs_background": "light"
     },
     "output_type": "display_data"
    }
   ],
   "source": [
    "x = [-1,-0.9, 0, 0.9, 1]\n",
    "y = [1,1,0,1,1]\n",
    "\n",
    "cross_entropy_fun\n",
    "\n",
    "x_plot = np.linspace(-1.5, 1.5, 20)\n",
    "y_plot = 1/(1+np.exp(5*x_plot))\n",
    "\n",
    "plt.plot(x_plot, y_plot)\n",
    "plt.scatter(x,y)"
   ]
  },
  {
   "cell_type": "code",
   "execution_count": null,
   "id": "414b5c62-b94e-4364-a17c-86470ef5d7e3",
   "metadata": {},
   "outputs": [],
   "source": []
  }
 ],
 "metadata": {
  "kernelspec": {
   "display_name": "Python 3 (ipykernel)",
   "language": "python",
   "name": "python3"
  },
  "language_info": {
   "codemirror_mode": {
    "name": "ipython",
    "version": 3
   },
   "file_extension": ".py",
   "mimetype": "text/x-python",
   "name": "python",
   "nbconvert_exporter": "python",
   "pygments_lexer": "ipython3",
   "version": "3.10.4"
  }
 },
 "nbformat": 4,
 "nbformat_minor": 5
}
