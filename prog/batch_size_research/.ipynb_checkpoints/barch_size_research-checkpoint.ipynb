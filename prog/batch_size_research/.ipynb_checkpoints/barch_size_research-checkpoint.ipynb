{
 "cells": [
  {
   "cell_type": "markdown",
   "id": "7831d721-7429-414c-ac1d-3e331235dbca",
   "metadata": {},
   "source": [
    "# Исследование влияния батча на целевую функцию классификатора\n",
    "\n",
    "Сгенерируем некоторый набор данных с двумя классами. Для него сформируем простой линейный классификатор, веса которого сможем легко изменять посмторим как функция кросс энтропии будет себя вести. "
   ]
  },
  {
   "cell_type": "code",
   "execution_count": 2,
   "id": "f87ad14b-b084-4fac-bf74-099baa474591",
   "metadata": {},
   "outputs": [],
   "source": [
    "import numpy as np\n",
    "from math import sqrt\n",
    "import matplotlib.pyplot as plt"
   ]
  },
  {
   "cell_type": "markdown",
   "id": "6f0a9838-706f-4b90-9cc4-d57e3f4d693c",
   "metadata": {},
   "source": [
    "# Подготовка метода для формирования данных\n",
    "\n",
    "Будет две двумерные-нормальные случайные величины. С настройками близости и дисперсии."
   ]
  },
  {
   "cell_type": "code",
   "execution_count": 3,
   "id": "4ef27163-a5b4-426f-b71e-b23e8c6f50f1",
   "metadata": {},
   "outputs": [],
   "source": [
    "def create_exmaple_data(\n",
    "    distance, sigma, \n",
    "    class0_count = 200, \n",
    "    class1_count = 200\n",
    "):\n",
    "    pos = distance/(2*sqrt(distance))\n",
    "    data =\\\n",
    "    np.concatenate([\n",
    "        np.concatenate([\n",
    "            np.random.normal(pos, sigma, [class0_count, 2]),\n",
    "            np.zeros([class0_count,1])\n",
    "        ], axis = 1),\n",
    "        np.concatenate([\n",
    "            np.random.normal(-pos, sigma, [class1_count, 2]),\n",
    "            np.ones([class1_count,1])\n",
    "        ],axis = 1)\n",
    "    ])\n",
    "    \n",
    "    return data"
   ]
  },
  {
   "cell_type": "markdown",
   "id": "054eec15-d03e-4f7d-b8c9-3a6a75063786",
   "metadata": {},
   "source": [
    "Нанести диаграмму рассеяния"
   ]
  },
  {
   "cell_type": "code",
   "execution_count": 4,
   "id": "7740b9b9-bf8f-4728-bf2f-8894fcfabdb0",
   "metadata": {},
   "outputs": [],
   "source": [
    "def plot_scatter(data):\n",
    "    for level in np.unique(data[:, 2]):\n",
    "        cond = (data[:,2] == level)\n",
    "        plt.scatter(data[cond,0], data[cond,1])\n",
    "    \n",
    "    plt.xlabel('$x_1$', loc = 'right', fontsize = 13)\n",
    "    plt.ylabel('$x_2$', loc = 'top', fontsize = 13)\n",
    "    plt.legend(np.unique(data[:,2].astype('int')))"
   ]
  },
  {
   "cell_type": "markdown",
   "id": "d1be87c3-3a64-4338-8ac1-8cc63377800b",
   "metadata": {},
   "source": [
    "Примерить линейный классификатор с преданными весами - идентификационная форма логистическая регрессия."
   ]
  },
  {
   "cell_type": "code",
   "execution_count": 14,
   "id": "91eee83a-a841-4316-80f7-6345dbf20b07",
   "metadata": {},
   "outputs": [],
   "source": [
    "def linear_classy_pred(w1, w2, data):\n",
    "    # output - np.array - вектор предсказаний модели\n",
    "    return 1/(1+np.exp(-w1*data[:,0] - w2*data[:,1]))"
   ]
  },
  {
   "cell_type": "markdown",
   "id": "c1540eb4-f88a-4984-80ce-d54cb6265412",
   "metadata": {},
   "source": [
    "Вычисление функци кросс-энропии"
   ]
  },
  {
   "cell_type": "code",
   "execution_count": 15,
   "id": "eed8e52a-c90c-44ee-8781-e5a53de04f44",
   "metadata": {},
   "outputs": [],
   "source": [
    "def cross_entropy_fun(y,p):\n",
    "    return np.mean(y*np.log(p) + (1-y)*np.log(1-p))"
   ]
  },
  {
   "cell_type": "markdown",
   "id": "2c61e638-2cfb-404e-8ea5-0e01db6ab6ee",
   "metadata": {},
   "source": [
    "Для указанный множеств весов подготовить сетку и значения ошибки"
   ]
  },
  {
   "cell_type": "code",
   "execution_count": 35,
   "id": "c0911c99-85a2-421a-bfd4-ee3f45a640c3",
   "metadata": {},
   "outputs": [],
   "source": [
    "def get_losses(w1, w2, data):\n",
    "\n",
    "    ww1, ww2 = np.meshgrid(w1, w2)\n",
    "    losses = np.array([])\n",
    "\n",
    "    for i in range(ww1.shape[0]):\n",
    "        for j in range( ww1.shape[1]):\n",
    "            preds = linear_classy_pred(ww1[i,j], ww2[i,j], data)\n",
    "            losses = np.append(\n",
    "                losses,\n",
    "                cross_entropy_fun(data[:, 2], preds)\n",
    "            )\n",
    "            \n",
    "    return ww1.ravel(), ww2.ravel(), losses"
   ]
  },
  {
   "cell_type": "markdown",
   "id": "82382133-05f6-4056-8d78-bc9e9876a563",
   "metadata": {},
   "source": [
    "# Наконец проведем вычисления"
   ]
  },
  {
   "cell_type": "code",
   "execution_count": 40,
   "id": "5c83f8c0-1e80-4d30-bea9-005efed19122",
   "metadata": {},
   "outputs": [],
   "source": [
    "data = create_exmaple_data(5, 1)\n",
    "\n",
    "w1 = np.linspace(-1, 1, 50)\n",
    "w2 = np.linspace(-1, 1, 50)\n",
    "\n",
    "ww1, ww2, losses = get_losses(w1, w2, data)"
   ]
  },
  {
   "cell_type": "code",
   "execution_count": null,
   "id": "40a29174-c3bc-4087-9de5-54df1903ac48",
   "metadata": {},
   "outputs": [],
   "source": []
  }
 ],
 "metadata": {
  "kernelspec": {
   "display_name": "Python 3 (ipykernel)",
   "language": "python",
   "name": "python3"
  },
  "language_info": {
   "codemirror_mode": {
    "name": "ipython",
    "version": 3
   },
   "file_extension": ".py",
   "mimetype": "text/x-python",
   "name": "python",
   "nbconvert_exporter": "python",
   "pygments_lexer": "ipython3",
   "version": "3.10.4"
  }
 },
 "nbformat": 4,
 "nbformat_minor": 5
}
