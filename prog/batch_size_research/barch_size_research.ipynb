{
 "cells": [
  {
   "cell_type": "markdown",
   "id": "7831d721-7429-414c-ac1d-3e331235dbca",
   "metadata": {},
   "source": [
    "# Исследование влияния батча на целевую функцию классификатора\n",
    "\n",
    "Сгенерируем некоторый набор данных с двумя классами. Для него сформируем простой линейный классификатор, веса которого сможем легко изменять посмторим как функция кросс энтропии будет себя вести. "
   ]
  },
  {
   "cell_type": "code",
   "execution_count": 71,
   "id": "f87ad14b-b084-4fac-bf74-099baa474591",
   "metadata": {},
   "outputs": [],
   "source": [
    "import numpy as np\n",
    "from math import sqrt\n",
    "import matplotlib.pyplot as plt"
   ]
  },
  {
   "cell_type": "markdown",
   "id": "6f0a9838-706f-4b90-9cc4-d57e3f4d693c",
   "metadata": {},
   "source": [
    "# Подготовка метода для формирования данных\n",
    "\n",
    "Будет две двумерные-нормальные случайные величины. С настройками близости и дисперсии."
   ]
  },
  {
   "cell_type": "code",
   "execution_count": 74,
   "id": "4ef27163-a5b4-426f-b71e-b23e8c6f50f1",
   "metadata": {},
   "outputs": [],
   "source": [
    "def create_exmaple_data(\n",
    "    distance, sigma, \n",
    "    class0_count = 200, \n",
    "    class1_count = 200\n",
    "):\n",
    "    pos = distance/(2*sqrt(distance))\n",
    "    data =\\\n",
    "    np.concatenate([\n",
    "        np.concatenate([\n",
    "            np.random.normal(pos, sigma, [class0_count, 2]),\n",
    "            np.zeros([class0_count,1])\n",
    "        ], axis = 1),\n",
    "        np.concatenate([\n",
    "            np.random.normal(-pos, sigma, [class1_count, 2]),\n",
    "            np.ones([class1_count,1])\n",
    "        ],axis = 1)\n",
    "    ])\n",
    "    \n",
    "    return data"
   ]
  },
  {
   "cell_type": "markdown",
   "id": "054eec15-d03e-4f7d-b8c9-3a6a75063786",
   "metadata": {},
   "source": [
    "Нанести диаграмму рассеяния"
   ]
  },
  {
   "cell_type": "code",
   "execution_count": 87,
   "id": "7740b9b9-bf8f-4728-bf2f-8894fcfabdb0",
   "metadata": {},
   "outputs": [],
   "source": [
    "def plot_scatter(data):\n",
    "    for level in np.unique(data[:, 2]):\n",
    "        cond = (data[:,2] == level)\n",
    "        plt.scatter(data[cond,0], data[cond,1])\n",
    "    \n",
    "    plt.xlabel('$x_1$', loc = 'right', fontsize = 13)\n",
    "    plt.ylabel('$x_2$', loc = 'top', fontsize = 13)\n",
    "    plt.legend(np.unique(data[:,2].astype('int')))"
   ]
  },
  {
   "cell_type": "markdown",
   "id": "d1be87c3-3a64-4338-8ac1-8cc63377800b",
   "metadata": {},
   "source": [
    "Примерить линейный классификатор с преданными весами - идентификационная форма логистическая регрессия."
   ]
  },
  {
   "cell_type": "code",
   "execution_count": 90,
   "id": "91eee83a-a841-4316-80f7-6345dbf20b07",
   "metadata": {},
   "outputs": [],
   "source": [
    "def linear_classy_pred(w1, w2, data):\n",
    "    # output - np.array - вектор предсказаний модели\n",
    "    return 1/(1+np.exp(-w1*data[:,0] - w2*data[:,1]))"
   ]
  },
  {
   "cell_type": "markdown",
   "id": "c1540eb4-f88a-4984-80ce-d54cb6265412",
   "metadata": {},
   "source": [
    "Вычисление функци кросс-энропии"
   ]
  },
  {
   "cell_type": "code",
   "execution_count": null,
   "id": "174e1c4a-adce-44e0-8e11-907aae2bf0a5",
   "metadata": {},
   "outputs": [],
   "source": [
    "def cross_entropy_fun():\n",
    "    "
   ]
  }
 ],
 "metadata": {
  "kernelspec": {
   "display_name": "Python 3 (ipykernel)",
   "language": "python",
   "name": "python3"
  },
  "language_info": {
   "codemirror_mode": {
    "name": "ipython",
    "version": 3
   },
   "file_extension": ".py",
   "mimetype": "text/x-python",
   "name": "python",
   "nbconvert_exporter": "python",
   "pygments_lexer": "ipython3",
   "version": "3.10.4"
  }
 },
 "nbformat": 4,
 "nbformat_minor": 5
}
