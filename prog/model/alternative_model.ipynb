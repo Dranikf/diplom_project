{
 "cells": [
  {
   "cell_type": "markdown",
   "id": "f02ab712-b82c-447e-aedb-d68e874515d1",
   "metadata": {},
   "source": [
    "# Альтернативный подход к построению модели\n",
    "\n",
    "Пердполагяется определиться заранее и идентификационной формой и пытаться улучшать её всеми доступными методами"
   ]
  },
  {
   "cell_type": "code",
   "execution_count": 1,
   "id": "508c2449-7a2a-418d-9192-134b5c864aba",
   "metadata": {},
   "outputs": [],
   "source": [
    "import pandas as pd\n",
    "import numpy as np\n",
    "\n",
    "from sklearn.preprocessing import OneHotEncoder\n",
    "from sklearn.model_selection import train_test_split\n",
    "from sklearn.preprocessing import normalize\n",
    "from sklearn.metrics import roc_auc_score\n",
    "\n",
    "import torch.optim as optim\n",
    "\n",
    "import matplotlib.pyplot as plt\n",
    "\n",
    "from nets_algo import *"
   ]
  },
  {
   "cell_type": "markdown",
   "id": "bf7f436c-9e59-4d7b-9a6d-6c79ae721e09",
   "metadata": {},
   "source": [
    "# Подготовительный этап"
   ]
  },
  {
   "cell_type": "markdown",
   "id": "a5475e24-325b-4dd7-a390-19643eec744b",
   "metadata": {},
   "source": [
    "## Функция потерь"
   ]
  },
  {
   "cell_type": "code",
   "execution_count": 2,
   "id": "f7f78620-6598-429e-81aa-8e62739618c0",
   "metadata": {},
   "outputs": [],
   "source": [
    "loss_fn = nn.BCELoss()"
   ]
  },
  {
   "cell_type": "markdown",
   "id": "4e3a9d11-0122-4a9d-b762-653498ede9bc",
   "metadata": {},
   "source": [
    "## Данные"
   ]
  },
  {
   "cell_type": "code",
   "execution_count": 3,
   "id": "405cb916-48f4-4885-811c-18434333d1ed",
   "metadata": {},
   "outputs": [],
   "source": [
    "data = pd.read_csv(\n",
    "    \"/home/dranik/KFA/university/proc_2.csv\", \n",
    "    index_col = 0\n",
    ")"
   ]
  },
  {
   "cell_type": "code",
   "execution_count": 4,
   "id": "b95ad911-ab5d-41dc-aca1-29624832d8af",
   "metadata": {},
   "outputs": [],
   "source": [
    "Y = np.array(data[['Y']])\n",
    "X = data.drop('Y', axis = 1)\n",
    "\n",
    "X = np.concatenate([\n",
    "    OneHotEncoder(sparse = False).\\\n",
    "    fit_transform(X.loc[:,X.dtypes == \"O\"]),\n",
    "    X.loc[:,X.dtypes != \"O\"].to_numpy()\n",
    "], axis = 1)"
   ]
  },
  {
   "cell_type": "markdown",
   "id": "c2a11d27-402f-49b2-b8da-8cc207fb4f94",
   "metadata": {},
   "source": [
    "Нормализация"
   ]
  },
  {
   "cell_type": "code",
   "execution_count": 5,
   "id": "3c691896-ccde-4449-99fc-dbe08f1d14b3",
   "metadata": {},
   "outputs": [],
   "source": [
    "X = normalize(X)"
   ]
  },
  {
   "cell_type": "code",
   "execution_count": 6,
   "id": "127daee0-4a72-4dd7-b319-58b1a2029be6",
   "metadata": {},
   "outputs": [],
   "source": [
    "X_train, X_test, y_train, y_test = \\\n",
    "    train_test_split(\n",
    "        X,Y, random_state = 0, stratify = Y\n",
    ")"
   ]
  },
  {
   "cell_type": "markdown",
   "id": "93c80782-22f0-4549-9d32-106e9a9be726",
   "metadata": {},
   "source": [
    "Наборы данных и загрузчики данных"
   ]
  },
  {
   "cell_type": "code",
   "execution_count": 7,
   "id": "d6ad2422-0dd4-4ca7-83b0-58d7b8d550d2",
   "metadata": {},
   "outputs": [],
   "source": [
    "train_data = My_data_set(\n",
    "    torch.tensor(X_train.astype('float32')), \n",
    "    torch.tensor(y_train.astype('float32'))\n",
    ")\n",
    "train_data_loader =\\\n",
    "torch.utils.data.DataLoader(\n",
    "    train_data, batch_size=500\n",
    ")"
   ]
  },
  {
   "cell_type": "code",
   "execution_count": 8,
   "id": "884bcfe9-e032-47c9-a3e1-d9fe38a1e8e4",
   "metadata": {
    "tags": []
   },
   "outputs": [],
   "source": [
    "test_data = My_data_set(\n",
    "    torch.tensor(X_test.astype('float32')), \n",
    "    torch.tensor(y_test.astype('float32'))\n",
    ")\n",
    "test_data_loader =\\\n",
    "torch.utils.data.DataLoader(\n",
    "    test_data, batch_size=500\n",
    ")"
   ]
  },
  {
   "cell_type": "markdown",
   "id": "d2128734-a054-4404-af99-d9cbd151b596",
   "metadata": {},
   "source": [
    "## Базовый алгоритм терировки модели"
   ]
  },
  {
   "cell_type": "code",
   "execution_count": 9,
   "id": "48269245-b77b-46a0-b68f-9996aa22998f",
   "metadata": {},
   "outputs": [],
   "source": [
    "from copy import deepcopy\n",
    "\n",
    "class model_trainer():\n",
    "    '''Класс реализует алгоритм обучения сети'''\n",
    "    def __init__(\n",
    "        self, model, optimizer, \n",
    "        loss_fn, lr_scheduler = None\n",
    "    ):\n",
    "        # inputs:\n",
    "        # model - модель которая подлежит обучению\n",
    "        # optimizer - оптимизатор, который педполагается использовать\n",
    "        # loss_fn - функция потерь\n",
    "        # lr_shceduler - планировщих learning rate\n",
    "        self.model = model\n",
    "        self.optimizer = optimizer\n",
    "        self.loss_fn = loss_fn\n",
    "        \n",
    "        self.train_loss = np.array([])\n",
    "        self.test_loss = np.array([])\n",
    "        \n",
    "        # тут храним лучшую модель\n",
    "        # из полученных если ошиентироваться\n",
    "        # на ошибку на тестовых данных\n",
    "        self.best_model = deepcopy(model)\n",
    "        self.best_epch = 0\n",
    "        \n",
    "        self.lr_scheduler = lr_scheduler\n",
    "        \n",
    "        \n",
    "    def append_loses(self, train_loader, test_loader):\n",
    "        '''Добавление ошибок рассчитанных\n",
    "        на тренировочном и тестовом загрузчиках'''\n",
    "        self.train_loss = np.append(\n",
    "            self.train_loss,\n",
    "            get_loss_value(\n",
    "                self.loss_fn, \n",
    "                self.model, \n",
    "                train_loader\n",
    "            )\n",
    "        )\n",
    "        self.test_loss = np.append(\n",
    "            self.test_loss,\n",
    "            get_loss_value(\n",
    "                self.loss_fn, \n",
    "                self.model, \n",
    "                test_loader\n",
    "            )\n",
    "        )\n",
    "        \n",
    "    \n",
    "    def fit(self, train_loader, test_loader,\n",
    "            epochs = 20, check_epoch = 1):\n",
    "        '''Провести тренировку модели'''\n",
    "        # inputs:\n",
    "        # train_loader - загрузчик тренировочных данных\n",
    "        # test_loader - загрузчик тестовых данных\n",
    "        # epochs - число эпох для обучения алгоритма\n",
    "        # check_epoces - число эпох после чего алгорим\n",
    "        #                может быть оставлен и ведется\n",
    "        #                регистрация лучшей модели\n",
    "        \n",
    "        # получаем начальную ошибку до \n",
    "        # какого либо смещения весов\n",
    "        self.append_loses(train_loader, test_loader)\n",
    "        \n",
    "        for epoch in range(epochs):\n",
    "\n",
    "            self.model.train()\n",
    "            for batch in train_loader:\n",
    "                self.optimizer.zero_grad()\n",
    "                inputs, targets = batch\n",
    "                output = self.model(inputs)\n",
    "                loss = self.loss_fn(output, targets)\n",
    "                loss.backward()\n",
    "                self.optimizer.step()\n",
    "            if self.lr_scheduler:\n",
    "                self.lr_scheduler.step()\n",
    "            \n",
    "            # вычисление ошибок на тестовой и \n",
    "            # обучающих выборках на каждой эпохе\n",
    "            self.append_loses(train_loader, test_loader)\n",
    "            \n",
    "        \n",
    "            # работа с критериями остановки и\n",
    "            # сохранения модели\n",
    "            if epoch > check_epoch:\n",
    "                # проверяем критерий остановки\n",
    "                if self.test_loss[-1] > self.test_loss[-(check_epoch-1)]:\n",
    "                    return\n",
    "                \n",
    "                # в том случае, если последняя полученная\n",
    "                # ошибка на тестовых данных наименьшая\n",
    "                # то нужно запомнить модель как наилучшую\n",
    "                if self.test_loss[-1] == np.min(self.test_loss):\n",
    "                    self.best_model = deepcopy(self.model)\n",
    "                    self.bes_epoch = epoch"
   ]
  },
  {
   "cell_type": "markdown",
   "id": "892066f8-c44c-4c13-856d-84f8963df98d",
   "metadata": {},
   "source": [
    "## Метод быстрого сохранения визуализаци результата"
   ]
  },
  {
   "cell_type": "code",
   "execution_count": 10,
   "id": "2b950355-579f-4389-8832-057ea0b9c5ca",
   "metadata": {},
   "outputs": [],
   "source": [
    "def save_my_lc(\n",
    "    trainer, curve_param = {},\n",
    "    plot_name = \"last_plot\"\n",
    "):\n",
    "    plt.figure(figsize = [15, 6])\n",
    "    \n",
    "    plot_learning_curve\n",
    "    \n",
    "    plot_learning_curve(\n",
    "        np.array(trainer.test_loss), \n",
    "        **curve_param\n",
    "    )\n",
    "    plot_learning_curve(\n",
    "        np.array(trainer.train_loss),\n",
    "        **curve_param\n",
    "    )\n",
    "    \n",
    "    plt.legend([\n",
    "        'тестовая выборка',\n",
    "        'тренировочная выборка'\n",
    "    ])\n",
    "    \n",
    "    plt.savefig(\"alt_results/\" + plot_name + '.png')"
   ]
  },
  {
   "cell_type": "markdown",
   "id": "8ac610a2-dc35-411f-8d53-b50aabc7d7c7",
   "metadata": {},
   "source": [
    "# Модель"
   ]
  },
  {
   "cell_type": "markdown",
   "id": "23f72012-ba2e-4c75-a51f-7cff4fa779d9",
   "metadata": {},
   "source": [
    "## Один скрытый слой"
   ]
  },
  {
   "cell_type": "markdown",
   "id": "1c0ef3c7-f727-410a-9ba4-a78d545e9b10",
   "metadata": {},
   "source": [
    "Пример того как модель все еще продолжает оптимизацию - нужно увеличивать число эпох, так как это без каких-либо особых усилий даст нам заметный прирост производительности модели"
   ]
  },
  {
   "cell_type": "code",
   "execution_count": 11,
   "id": "43582977-d848-494e-96f9-46124103acdc",
   "metadata": {},
   "outputs": [],
   "source": [
    "torch.manual_seed(0)\n",
    "model_1lay = ResultNet([X.shape[1], X.shape[1]])\n",
    "\n",
    "optimizer = optim.Adam(\n",
    "    model_1lay.parameters(),\n",
    "    lr = 0.01\n",
    ")\n",
    "\n",
    "lay1_trainer = model_trainer(\n",
    "    model_1lay, optimizer, loss_fn\n",
    ")\n",
    "\n",
    "lay1_trainer.fit(\n",
    "    train_data_loader,\n",
    "    test_data_loader\n",
    ")"
   ]
  },
  {
   "cell_type": "code",
   "execution_count": 12,
   "id": "3341b4e5-81c8-4917-a017-3d7b673b1deb",
   "metadata": {},
   "outputs": [
    {
     "data": {
      "image/png": "[encoded data removed]",
      "text/plain": [
       "<Figure size 1080x432 with 2 Axes>"
      ]
     },
     "metadata": {
      "needs_background": "light"
     },
     "output_type": "display_data"
    }
   ],
   "source": [
    "save_my_lc(\n",
    "    lay1_trainer,\n",
    "    curve_param = {'last_spes_show':15},\n",
    "    plot_name = '20_epochs'\n",
    ")"
   ]
  },
  {
   "cell_type": "markdown",
   "id": "06a99e3a-f693-49e9-902a-b1a7bf29f050",
   "metadata": {},
   "source": [
    "Доучиваем модель еще на 30 эпох"
   ]
  },
  {
   "cell_type": "code",
   "execution_count": 13,
   "id": "b8fa0a43-ba95-4f05-8170-f0bcbfac8297",
   "metadata": {},
   "outputs": [],
   "source": [
    "lay1_trainer.fit(\n",
    "    train_data_loader, test_data_loader, epochs = 30\n",
    ")"
   ]
  },
  {
   "cell_type": "code",
   "execution_count": 14,
   "id": "244d0467-883d-4519-ba51-bcd4207f812f",
   "metadata": {},
   "outputs": [
    {
     "data": {
      "image/png": "[encoded data removed]",
      "text/plain": [
       "<Figure size 1080x432 with 2 Axes>"
      ]
     },
     "metadata": {
      "needs_background": "light"
     },
     "output_type": "display_data"
    }
   ],
   "source": [
    "save_my_lc(\n",
    "    lay1_trainer,\n",
    "    curve_param = {\n",
    "        'start_show': 20, \n",
    "        'last_spes_show': 15\n",
    "    },\n",
    "    plot_name = '50_epochs'\n",
    ")"
   ]
  },
  {
   "cell_type": "markdown",
   "id": "2fd5e5eb-0b73-400e-808a-73d5294d1ef0",
   "metadata": {},
   "source": [
    "Продолжим обучение модели, но уже с меньшим learning rate"
   ]
  },
  {
   "cell_type": "code",
   "execution_count": null,
   "id": "bdb00963-2e5d-4c40-84de-412bf4f0ff97",
   "metadata": {},
   "outputs": [],
   "source": [
    "optimizer = optim.Adam(\n",
    "    model_1lay.parameters(),\n",
    "    lr = 0.0001\n",
    ")\n",
    "lay1_trainer.optimizer = optimizer\n",
    "\n",
    "lay1_trainer.fit(\n",
    "    train_data_loader, test_data_loader, epochs = 50\n",
    ")"
   ]
  },
  {
   "cell_type": "code",
   "execution_count": null,
   "id": "d2535e47-6130-40e3-b8bc-73319a4dfd5e",
   "metadata": {},
   "outputs": [],
   "source": [
    "save_my_lc(\n",
    "    lay1_trainer,\n",
    "    curve_param = {\n",
    "        'start_show': 50, \n",
    "        'last_spes_show': 15\n",
    "    },\n",
    "    plot_name = '50_epochs_50_plus_lr_0.0001'\n",
    ")"
   ]
  },
  {
   "cell_type": "markdown",
   "id": "65266e16-83e6-4890-842f-a1bc38ea5f0b",
   "metadata": {},
   "source": [
    "Тут закончим с обучением \"руками\" - посмотрим какой AUC был получен"
   ]
  },
  {
   "cell_type": "code",
   "execution_count": null,
   "id": "befde449-1dd5-40c4-83de-168ad96e7e6b",
   "metadata": {},
   "outputs": [],
   "source": [
    "p_hat = model_1lay(torch.tensor(X_test.astype('float32')))\n",
    "roc_auc_score(y_test, p_hat.detach().numpy())"
   ]
  },
  {
   "cell_type": "markdown",
   "id": "4b1ee0f0-0b52-4449-a732-095370cfd66a",
   "metadata": {},
   "source": [
    "## В целом путь намечен\n",
    "\n",
    "Учить модель до критерия остановки, и затем контролировать AUC"
   ]
  },
  {
   "cell_type": "code",
   "execution_count": null,
   "id": "052a0c48-0cf9-4088-a27d-ecc42b766923",
   "metadata": {},
   "outputs": [],
   "source": []
  }
 ],
 "metadata": {
  "kernelspec": {
   "display_name": "Python 3 (ipykernel)",
   "language": "python",
   "name": "python3"
  },
  "language_info": {
   "codemirror_mode": {
    "name": "ipython",
    "version": 3
   },
   "file_extension": ".py",
   "mimetype": "text/x-python",
   "name": "python",
   "nbconvert_exporter": "python",
   "pygments_lexer": "ipython3",
   "version": "3.10.4"
  }
 },
 "nbformat": 4,
 "nbformat_minor": 5
}
