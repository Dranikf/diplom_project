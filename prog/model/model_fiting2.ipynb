{
 "cells": [
  {
   "cell_type": "code",
   "execution_count": 5,
   "id": "2dbadf89",
   "metadata": {},
   "outputs": [],
   "source": [
    "import pandas as pd\n",
    "import numpy as np\n",
    "\n",
    "\n",
    "import matplotlib.pyplot as plt\n",
    "\n",
    "from sklearn.preprocessing import OneHotEncoder\n",
    "from sklearn.model_selection import train_test_split\n",
    "from sklearn.preprocessing import normalize\n",
    "\n",
    "from itertools import combinations\n",
    "\n",
    "from nets_algo import *"
   ]
  },
  {
   "cell_type": "markdown",
   "id": "38c580b5",
   "metadata": {},
   "source": [
    "## Функция потерь\n",
    "\n",
    "Создание функции потерь в torch\n",
    "https://neptune.ai/blog/pytorch-loss-functions. Для задач бинарной классификации рекомендуют использовать CrossEntropy функцию потерь"
   ]
  },
  {
   "cell_type": "code",
   "execution_count": 2,
   "id": "2f72c792",
   "metadata": {},
   "outputs": [],
   "source": [
    "loss_fn = nn.BCELoss()"
   ]
  },
  {
   "cell_type": "markdown",
   "id": "8c282bd6",
   "metadata": {},
   "source": [
    "# Загрузка и подговтовка данных"
   ]
  },
  {
   "cell_type": "code",
   "execution_count": 3,
   "id": "5487f93a",
   "metadata": {},
   "outputs": [],
   "source": [
    "data = pd.read_csv(\n",
    "    \"/home/dranik/KFA/university/proc_2.csv\", \n",
    "    index_col = 0\n",
    ")\n",
    "\n",
    "# save_ind = data[data['Y'] == 0].sample(\n",
    "#     sum(data['Y']), random_state = 0\n",
    "# ).index.union(data[data['Y'] == 1].index)\n",
    "# data = data.loc[save_ind]"
   ]
  },
  {
   "cell_type": "markdown",
   "id": "99a704ed",
   "metadata": {},
   "source": [
    "Нужно провести One Hot Encoding"
   ]
  },
  {
   "cell_type": "code",
   "execution_count": 6,
   "id": "47f6ab70",
   "metadata": {},
   "outputs": [],
   "source": [
    "Y = np.array(data[['Y']])\n",
    "X = data.drop('Y', axis = 1)\n",
    "\n",
    "X = np.concatenate([\n",
    "    OneHotEncoder(sparse = False).\\\n",
    "    fit_transform(X.loc[:,X.dtypes == \"O\"]),\n",
    "    X.loc[:,X.dtypes != \"O\"].to_numpy()\n",
    "], axis = 1)\n",
    "\n",
    "X = normalize(X)"
   ]
  },
  {
   "cell_type": "markdown",
   "id": "6a4ab050",
   "metadata": {},
   "source": [
    "Разбивка на Train/Test"
   ]
  },
  {
   "cell_type": "code",
   "execution_count": 7,
   "id": "c94cb185",
   "metadata": {},
   "outputs": [],
   "source": [
    "X_train, X_test, y_train, y_test = \\\n",
    "    train_test_split(\n",
    "        X,Y, random_state = 0, stratify = Y\n",
    ")"
   ]
  },
  {
   "cell_type": "markdown",
   "id": "9a75f303",
   "metadata": {},
   "source": [
    "## Создание набора данных и загрузчика данных"
   ]
  },
  {
   "cell_type": "code",
   "execution_count": 8,
   "id": "928ee7cf",
   "metadata": {},
   "outputs": [],
   "source": [
    "train_data = My_data_set(\n",
    "    torch.tensor(X_train.astype('float32')), \n",
    "    torch.tensor(y_train.astype('float32'))\n",
    ")"
   ]
  },
  {
   "cell_type": "code",
   "execution_count": 9,
   "id": "8179bf34",
   "metadata": {
    "tags": []
   },
   "outputs": [],
   "source": [
    "train_data_loader =\\\n",
    "torch.utils.data.DataLoader(\n",
    "    train_data, batch_size=1000\n",
    ")"
   ]
  },
  {
   "cell_type": "markdown",
   "id": "704865db",
   "metadata": {},
   "source": [
    "# Различные варианты модели"
   ]
  },
  {
   "cell_type": "markdown",
   "id": "0cc0bfc1",
   "metadata": {},
   "source": [
    "## Модели с одним скрытым слоем"
   ]
  },
  {
   "cell_type": "markdown",
   "id": "4ba8b7e0",
   "metadata": {},
   "source": [
    "Опишем вещи общие для модлей этой группы"
   ]
  },
  {
   "cell_type": "code",
   "execution_count": 10,
   "id": "d6264fe3",
   "metadata": {},
   "outputs": [],
   "source": [
    "import os\n",
    "\n",
    "sfn = \"fiting_results2/\"\n",
    "auc_full = pd.DataFrame()"
   ]
  },
  {
   "cell_type": "code",
   "execution_count": 11,
   "id": "950f647f",
   "metadata": {},
   "outputs": [],
   "source": [
    "def save_folder_porecessor(result_name):\n",
    "    if not result_name in os.listdir(\"fiting_results2\"):\n",
    "        os.mkdir(\"fiting_results2/\" + result_name)\n",
    "\n",
    "def model_info_save(\n",
    "    hlr, epochs, file_name, \n",
    "    lc_plot_param = {},\n",
    "    fit_params = {}\n",
    "):\n",
    "    learning_info, auc_info, nets = \\\n",
    "    models_fit_get_perfomance(\n",
    "        hlr, epochs, loss_fn, \n",
    "        train_data_loader, X_test, y_test,\n",
    "        **fit_params\n",
    "    )\n",
    "    \n",
    "    save_folder_porecessor(file_name)\n",
    "    learning_info.to_excel(sfn + file_name + '/lc.xlsx')\n",
    "    \n",
    "    global auc_full\n",
    "    if any(auc_full.columns == file_name):\n",
    "        auc_full.drop(\n",
    "            file_name, inplace = True, axis = 1\n",
    "        )\n",
    "        \n",
    "    auc_full = auc_full.join(\n",
    "        pd.DataFrame(auc_info, columns = [file_name]),\n",
    "        how = 'outer'\n",
    "    )\n",
    "    \n",
    "    for col in learning_info:\n",
    "\n",
    "        fig = plt.figure(figsize = [14, 7])\n",
    "        plot_learning_curve(\n",
    "            learning_info[col],\n",
    "            **lc_plot_param\n",
    "        )\n",
    "        fig.savefig(\n",
    "            sfn + file_name + \"/\" +\\\n",
    "            str(col) + '.png'\n",
    "        )\n",
    "        plt.close()\n",
    "    \n",
    "    return nets\n",
    "\n",
    "def lc_plot_report_to_file(\n",
    "    lc, file_name, auc, lc_param = {}\n",
    "):\n",
    "    '''настроенная по размерам кривая обучения\n",
    "     в файл с AUC в загоровке в файл'''\n",
    "    \n",
    "    fig = plt.figure(figsize = [13, 7])\n",
    "    plot_learning_curve(\n",
    "        np.array(lc), **lc_param\n",
    "    )\n",
    "    fig.suptitle(\"AUC = \" + str(auc))\n",
    "    plt.savefig(file_name)\n"
   ]
  },
  {
   "cell_type": "markdown",
   "id": "cc02f550",
   "metadata": {},
   "source": [
    "Наиболее гибкое получение модели и оптимизатора в одну строку"
   ]
  },
  {
   "cell_type": "code",
   "execution_count": 12,
   "id": "ba15ec44",
   "metadata": {},
   "outputs": [],
   "source": [
    "def get_main_parts(\n",
    "    data_loader_param = {'batch_size': 500},\n",
    "    hidden_layers = [2],\n",
    "    optimizer_param = {}\n",
    "):\n",
    "    '''получить сеть и оптимизатор одной строкой'''\n",
    "    train_data_loader =\\\n",
    "    torch.utils.data.DataLoader(\n",
    "        train_data, **data_loader_param\n",
    "    )\n",
    "\n",
    "    torch.manual_seed(0)\n",
    "\n",
    "    net = ResultNet(\n",
    "        [train_data_loader.dataset.X.shape[1]] +\\\n",
    "        hidden_layers\n",
    "    )\n",
    "\n",
    "    optimizer = optim.Adam(\n",
    "        net.parameters(),\n",
    "        **optimizer_param\n",
    "    )\n",
    "    \n",
    "    return [train_data_loader, net, optimizer] "
   ]
  },
  {
   "cell_type": "markdown",
   "id": "d182680e",
   "metadata": {},
   "source": [
    "### Обобщенный построитель модели с одним слоем"
   ]
  },
  {
   "cell_type": "markdown",
   "id": "d54e8a9f",
   "metadata": {},
   "source": [
    "Базовый вариант"
   ]
  },
  {
   "cell_type": "code",
   "execution_count": 15,
   "id": "0ba46d40",
   "metadata": {
    "scrolled": true
   },
   "outputs": [
    {
     "name": "stdout",
     "output_type": "stream",
     "text": [
      "[2] AUC = 0.6701360009844674\n",
      "[3] AUC = 0.6500812746343632\n",
      "[4] AUC = 0.6485926967969513\n",
      "[5] AUC = 0.6551288137796384\n",
      "[6] AUC = 0.6644289611528031\n",
      "[7] AUC = 0.6490692594490217\n",
      "[8] AUC = 0.652777012557566\n",
      "[9] AUC = 0.6391411183006986\n",
      "[10] AUC = 0.6457943552151856\n",
      "[11] AUC = 0.655349692073554\n",
      "[12] AUC = 0.6504115198505087\n",
      "[13] AUC = 0.6611095183533532\n",
      "[14] AUC = 0.6551331026785494\n",
      "[15] AUC = 0.6557422912815594\n",
      "[16] AUC = 0.6523700620339741\n",
      "[17] AUC = 0.6528118186218053\n",
      "[18] AUC = 0.6526692952118403\n",
      "[19] AUC = 0.658109928438072\n"
     ]
    }
   ],
   "source": [
    "torch.manual_seed(0)\n",
    "\n",
    "nets = model_info_save(\n",
    "    [[i] for i in range(2, 20)],\n",
    "    20, \"one_hiden_initial\",\n",
    "    lc_plot_param = {'last_spes_show':3},\n",
    "    fit_params = {'lr':0.001}\n",
    ")"
   ]
  },
  {
   "cell_type": "markdown",
   "id": "4e7554bf",
   "metadata": {},
   "source": [
    "Понижение learning rate"
   ]
  },
  {
   "cell_type": "code",
   "execution_count": 38,
   "id": "e0da3848",
   "metadata": {},
   "outputs": [
    {
     "name": "stdout",
     "output_type": "stream",
     "text": [
      "[2] AUC = 0.644856076099583\n",
      "[3] AUC = 0.6276041451878057\n",
      "[4] AUC = 0.6499595358883513\n",
      "[5] AUC = 0.6597085330283157\n",
      "[6] AUC = 0.6600552740095035\n",
      "[7] AUC = 0.6471428840073888\n",
      "[8] AUC = 0.6593113150060985\n",
      "[9] AUC = 0.680565448432424\n",
      "[10] AUC = 0.6797301028906849\n",
      "[11] AUC = 0.6697729291958875\n",
      "[12] AUC = 0.6693465136695456\n",
      "[13] AUC = 0.6737625949290039\n",
      "[14] AUC = 0.6768702321053116\n",
      "[15] AUC = 0.6781775214849091\n",
      "[16] AUC = 0.6773253502628269\n",
      "[17] AUC = 0.6209433202213996\n",
      "[18] AUC = 0.6843243384125993\n",
      "[19] AUC = 0.6834515474842144\n"
     ]
    }
   ],
   "source": [
    "torch.manual_seed(0)\n",
    "\n",
    "nets = model_info_save(\n",
    "    [[i] for i in range(2, 20)],\n",
    "    50, \"one_hiden_lr_0.01\",\n",
    "    fit_params = {'lr':0.01}\n",
    ")"
   ]
  },
  {
   "cell_type": "code",
   "execution_count": 39,
   "id": "e954865c",
   "metadata": {},
   "outputs": [
    {
     "name": "stdout",
     "output_type": "stream",
     "text": [
      "[2] AUC = 0.6582315022264335\n",
      "[3] AUC = 0.6030587767202527\n",
      "[4] AUC = 0.6416803114136508\n",
      "[5] AUC = 0.6060250451901482\n",
      "[6] AUC = 0.6271297269851912\n",
      "[7] AUC = 0.6378419118459718\n",
      "[8] AUC = 0.552448944782406\n",
      "[9] AUC = 0.5719091637603877\n",
      "[10] AUC = 0.6317140650480803\n",
      "[11] AUC = 0.6187427851647647\n",
      "[12] AUC = 0.6423035214169467\n",
      "[13] AUC = 0.5814760476542857\n",
      "[14] AUC = 0.6074327937788531\n",
      "[15] AUC = 0.5864147147502822\n",
      "[16] AUC = 0.6317201684811459\n",
      "[17] AUC = 0.6143603552659926\n",
      "[18] AUC = 0.6388336372403113\n",
      "[19] AUC = 0.6269646043771183\n"
     ]
    }
   ],
   "source": [
    "torch.manual_seed(0)\n",
    "\n",
    "nets = model_info_save(\n",
    "    [[i] for i in range(2, 20)],\n",
    "    50, \"one_hiden_lr_0.001\",\n",
    "    fit_params = {'lr':0.001}\n",
    ")"
   ]
  },
  {
   "cell_type": "markdown",
   "id": "a384e9a6",
   "metadata": {},
   "source": [
    "По моему мнению самой перспективной в данном случае моделью должна стать 18 нейронов."
   ]
  },
  {
   "cell_type": "code",
   "execution_count": 40,
   "id": "6dbd805b",
   "metadata": {},
   "outputs": [],
   "source": [
    "[train_data_loader, net_18, optimizer] = get_main_parts(\n",
    "    data_loader_param = {\"batch_size\":100},\n",
    "    hidden_layers = [18],\n",
    "    optimizer_param = {\n",
    "        'weight_decay':0.5, \n",
    "        'lr':0.01\n",
    "    }\n",
    ")\n",
    "\n",
    "\n",
    "lr_scheduler = optim.lr_scheduler.ExponentialLR(\n",
    "    optimizer, 0.95\n",
    ")\n",
    "\n",
    "lc = train(\n",
    "    net_18, optimizer, loss_fn,\n",
    "    train_data_loader, epochs = 500,\n",
    "    lr_scheduler = lr_scheduler\n",
    ")"
   ]
  },
  {
   "cell_type": "code",
   "execution_count": 41,
   "id": "f249769c",
   "metadata": {},
   "outputs": [
    {
     "data": {
      "image/png": "[encoded data removed]",
      "text/plain": [
       "<Figure size 936x504 with 2 Axes>"
      ]
     },
     "metadata": {
      "needs_background": "light"
     },
     "output_type": "display_data"
    }
   ],
   "source": [
    "probs_hat = net_18(\n",
    "    torch.tensor(X_test.astype('float32'))\n",
    ").detach().numpy()\n",
    "\n",
    "auc = roc_auc_score(y_test, probs_hat)\n",
    "\n",
    "lc_plot_report_to_file(\n",
    "    lc, \"fiting_results2/manual_models_results/18_test.png\",\n",
    "    np.round(auc, 7),\n",
    "    lc_param = {\n",
    "        'start_show':0,\n",
    "        'last_spes_show':10\n",
    "    }\n",
    ")"
   ]
  },
  {
   "cell_type": "markdown",
   "id": "b711d8d5",
   "metadata": {},
   "source": [
    "Результаты ее обучния показали, что можно выйграть в AUC за счет размера batch. Потому попробуем переучить некоторые старые модели с меньшим batch и попробуем ряд моделей с большим числом нейронов"
   ]
  },
  {
   "cell_type": "markdown",
   "id": "7b793845",
   "metadata": {},
   "source": [
    "## 10-30 нейронов батч 500"
   ]
  },
  {
   "cell_type": "code",
   "execution_count": 42,
   "id": "c1317cea",
   "metadata": {},
   "outputs": [],
   "source": [
    "train_data_loader =\\\n",
    "torch.utils.data.DataLoader(\n",
    "    train_data, batch_size=500\n",
    ")"
   ]
  },
  {
   "cell_type": "code",
   "execution_count": 43,
   "id": "a3fb4d9b",
   "metadata": {},
   "outputs": [
    {
     "name": "stdout",
     "output_type": "stream",
     "text": [
      "[10] AUC = 0.6803585915387943\n",
      "[11] AUC = 0.675033758583159\n",
      "[12] AUC = 0.6168530303215255\n",
      "[13] AUC = 0.6322147115171123\n",
      "[14] AUC = 0.6775853235198928\n",
      "[15] AUC = 0.6737914625178278\n",
      "[16] AUC = 0.6739928758089936\n",
      "[17] AUC = 0.6760993850048876\n",
      "[18] AUC = 0.6802365228774817\n",
      "[19] AUC = 0.5207086184763785\n",
      "[20] AUC = 0.6817117391452092\n",
      "[21] AUC = 0.6805631390253181\n",
      "[22] AUC = 0.6034983888586284\n",
      "[23] AUC = 0.6622881407656213\n",
      "[24] AUC = 0.6601105348223951\n",
      "[25] AUC = 0.6782636293784297\n",
      "[26] AUC = 0.6594215067165807\n",
      "[27] AUC = 0.6688207936376493\n",
      "[28] AUC = 0.6819086985798135\n",
      "[29] AUC = 0.6752914224331188\n",
      "[30] AUC = 0.6631627462281608\n"
     ]
    }
   ],
   "source": [
    "torch.manual_seed(0)\n",
    "\n",
    "nets = model_info_save(\n",
    "    [[i] for i in range(10, 31)],\n",
    "    50, \"one_hiden_batch_500_lr_0.01\",\n",
    "    fit_params = {'lr':0.01}\n",
    ")"
   ]
  },
  {
   "cell_type": "markdown",
   "id": "5618e89e",
   "metadata": {},
   "source": [
    "В целом все понятно - сразу уменьшать learning rate"
   ]
  },
  {
   "cell_type": "code",
   "execution_count": 44,
   "id": "65c133f8",
   "metadata": {},
   "outputs": [
    {
     "name": "stdout",
     "output_type": "stream",
     "text": [
      "[10] AUC = 0.611170734137425\n",
      "[11] AUC = 0.661563646764966\n",
      "[12] AUC = 0.6214296153748448\n",
      "[13] AUC = 0.6333138243418767\n",
      "[14] AUC = 0.5148676330325715\n",
      "[15] AUC = 0.6516402893885053\n",
      "[16] AUC = 0.6225742565111259\n",
      "[17] AUC = 0.6317407881874486\n",
      "[18] AUC = 0.6106453440208295\n",
      "[19] AUC = 0.5136880208744008\n",
      "[20] AUC = 0.6125002927998294\n",
      "[21] AUC = 0.6313349923674095\n",
      "[22] AUC = 0.6120073993403674\n",
      "[23] AUC = 0.6223987415710764\n",
      "[24] AUC = 0.631103226868566\n",
      "[25] AUC = 0.6340183584668309\n",
      "[26] AUC = 0.6499986308515016\n",
      "[27] AUC = 0.48516766790461885\n",
      "[28] AUC = 0.5637092839155404\n",
      "[29] AUC = 0.6112043854981111\n",
      "[30] AUC = 0.5804584239088298\n"
     ]
    }
   ],
   "source": [
    "torch.manual_seed(0)\n",
    "\n",
    "nets = model_info_save(\n",
    "    [[i] for i in range(10, 31)],\n",
    "    50, \"one_hiden_batch_500_lr_0.001\",\n",
    "    fit_params = {'lr':0.001}\n",
    ")"
   ]
  },
  {
   "cell_type": "code",
   "execution_count": 45,
   "id": "0da85e30",
   "metadata": {},
   "outputs": [],
   "source": [
    "[train_data_loader, net_10, optimizer] = get_main_parts(\n",
    "    data_loader_param = {\"batch_size\":50},\n",
    "    hidden_layers = [10],\n",
    "    optimizer_param = {\n",
    "        'weight_decay':0.5, \n",
    "        'lr':0.01\n",
    "    }\n",
    ")\n",
    "\n",
    "lr_scheduler = torch.optim.lr_scheduler.ChainedScheduler(\n",
    "    schedulers = [\n",
    "        optim.lr_scheduler.ExponentialLR(\n",
    "            optimizer, 0.7\n",
    "        ),\n",
    "        optim.lr_scheduler.StepLR(\n",
    "            optimizer, 12, 0.5\n",
    "        )\n",
    "    ]\n",
    ")\n",
    "\n",
    "lc = train(\n",
    "    net_10, optimizer, loss_fn,\n",
    "    train_data_loader, epochs = 25,\n",
    "    lr_scheduler = lr_scheduler\n",
    ")"
   ]
  },
  {
   "cell_type": "code",
   "execution_count": 46,
   "id": "33383c5e",
   "metadata": {},
   "outputs": [
    {
     "data": {
      "image/png": "[encoded data removed]",
      "text/plain": [
       "<Figure size 936x504 with 2 Axes>"
      ]
     },
     "metadata": {
      "needs_background": "light"
     },
     "output_type": "display_data"
    }
   ],
   "source": [
    "probs_hat = net_10(\n",
    "    torch.tensor(X_test.astype('float32'))\n",
    ").detach().numpy()\n",
    "\n",
    "auc = roc_auc_score(y_test, probs_hat)\n",
    "\n",
    "lc_plot_report_to_file(\n",
    "    lc, \"fiting_results2/manual_models_results/18_test.png\",\n",
    "    np.round(auc, 7),\n",
    "    lc_param = {\n",
    "        'start_show':0,\n",
    "        'last_spes_show':10\n",
    "    }\n",
    ")"
   ]
  },
  {
   "cell_type": "markdown",
   "id": "7fe2dc5b",
   "metadata": {},
   "source": [
    "В целом неполучается добиться улучшений - возьмем текущее состояние модели с 18 нейронами и доучим её, чтобы выжать максимум. Предполагая, что все локальные минимумы мы уже обошли увеличим размер батча и приблизимся к еще более точному решению оптимизационной задачи"
   ]
  },
  {
   "cell_type": "code",
   "execution_count": 47,
   "id": "b5a98094",
   "metadata": {},
   "outputs": [],
   "source": [
    "from copy import deepcopy\n",
    "\n",
    "final_net = deepcopy(net_18)\n",
    "\n",
    "torch.manual_seed(0)\n",
    "\n",
    "optimizer = optim.Adam(\n",
    "    final_net.parameters(),\n",
    "    weight_decay = 0.2,\n",
    "    lr = 0.00001\n",
    ")\n",
    "\n",
    "lr_scheduler = \\\n",
    "optim.lr_scheduler.ChainedScheduler(\n",
    "    [\n",
    "        optim.lr_scheduler.ExponentialLR(optimizer, 0.65),\n",
    "        optim.lr_scheduler.StepLR(optimizer, 38, 0.1)\n",
    "    ]\n",
    ")\n",
    "\n",
    "train_data_loader =\\\n",
    "torch.utils.data.DataLoader(\n",
    "    train_data, batch_size=3000\n",
    ")\n",
    "\n",
    "lc = train(\n",
    "    final_net, optimizer, loss_fn,\n",
    "    train_data_loader, epochs = 50,\n",
    "    lr_scheduler = lr_scheduler\n",
    ")"
   ]
  },
  {
   "cell_type": "code",
   "execution_count": 48,
   "id": "0afa67f5",
   "metadata": {},
   "outputs": [
    {
     "data": {
      "text/plain": [
       "0.6860422073840983"
      ]
     },
     "execution_count": 48,
     "metadata": {},
     "output_type": "execute_result"
    },
    {
     "data": {
      "image/png": "[encoded data removed]",
      "text/plain": [
       "<Figure size 432x288 with 2 Axes>"
      ]
     },
     "metadata": {
      "needs_background": "light"
     },
     "output_type": "display_data"
    }
   ],
   "source": [
    "plot_learning_curve(\n",
    "    np.array(lc), start_show = 0, last_spes_show = 20\n",
    ")\n",
    "\n",
    "probs_hat = final_net(\n",
    "    torch.tensor(X_test.astype('float32'))\n",
    ").detach().numpy()\n",
    "\n",
    "auc = roc_auc_score(y_test, probs_hat)\n",
    "auc"
   ]
  },
  {
   "cell_type": "markdown",
   "id": "f2e46c63",
   "metadata": {},
   "source": [
    "Тут уже как не крути, к 100 эпохе модель неизбежно выходит на плато потому думаю стоит прекращать исследование в этом направлении."
   ]
  },
  {
   "cell_type": "markdown",
   "id": "bf3c76bd",
   "metadata": {},
   "source": [
    "## Модели с двумя скрытыми слоями"
   ]
  },
  {
   "cell_type": "code",
   "execution_count": 49,
   "id": "075da99b",
   "metadata": {},
   "outputs": [],
   "source": [
    "auc_full = pd.DataFrame()"
   ]
  },
  {
   "cell_type": "markdown",
   "id": "71e3d82c",
   "metadata": {},
   "source": [
    "Нужно вернуть настройки батча"
   ]
  },
  {
   "cell_type": "code",
   "execution_count": 50,
   "id": "06493fca",
   "metadata": {},
   "outputs": [],
   "source": [
    "train_data_loader =\\\n",
    "torch.utils.data.DataLoader(\n",
    "    train_data, batch_size=100\n",
    ")"
   ]
  },
  {
   "cell_type": "markdown",
   "id": "4a1d3bd0",
   "metadata": {},
   "source": [
    "Варианты числа нейронов в крытых слоях"
   ]
  },
  {
   "cell_type": "code",
   "execution_count": 51,
   "id": "d37df8e4",
   "metadata": {},
   "outputs": [],
   "source": [
    "first_layer_var = [50, 60, 70]\n",
    "second_layer_var = [40, 50 , 60]\n",
    "\n",
    "variants = []\n",
    "for first_l in first_layer_var:\n",
    "    for second_l in second_layer_var:\n",
    "        variants.append([first_l, second_l])"
   ]
  },
  {
   "cell_type": "markdown",
   "id": "66598e61",
   "metadata": {},
   "source": [
    "Базовые модели с двумя слоями"
   ]
  },
  {
   "cell_type": "code",
   "execution_count": 52,
   "id": "3d035da1",
   "metadata": {},
   "outputs": [
    {
     "name": "stdout",
     "output_type": "stream",
     "text": [
      "[50, 40] AUC = 0.6837405532877545\n",
      "[50, 50] AUC = 0.6829669019072734\n",
      "[50, 60] AUC = 0.6824603169628262\n",
      "[60, 40] AUC = 0.6823300004189924\n",
      "[60, 50] AUC = 0.682179064168856\n",
      "[60, 60] AUC = 0.6829817480958114\n",
      "[70, 40] AUC = 0.6829581591518009\n",
      "[70, 50] AUC = 0.6820304373258254\n",
      "[70, 60] AUC = 0.6828148109535839\n"
     ]
    }
   ],
   "source": [
    "torch.manual_seed(0)\n",
    "\n",
    "nets = model_info_save(\n",
    "    variants,\n",
    "    50, \"two_hiden_initial\",\n",
    "    lc_plot_param = {'start_show' : 0, 'last_spes_show': 5},\n",
    "    fit_params = {'lr':0.001}\n",
    ")"
   ]
  },
  {
   "cell_type": "code",
   "execution_count": 53,
   "id": "fc834e81",
   "metadata": {},
   "outputs": [],
   "source": [
    "torch.manual_seed(5)\n",
    "\n",
    "[train_data_loader, net_60_40, optimizer] = get_main_parts(\n",
    "    data_loader_param = {\"batch_size\":100},\n",
    "    hidden_layers = [60, 40],\n",
    "    optimizer_param = {\n",
    "        'weight_decay':0.5, \n",
    "        'lr':0.01\n",
    "    }\n",
    ")\n",
    "\n",
    "\n",
    "lr_scheduler = optim.lr_scheduler.ExponentialLR(\n",
    "    optimizer, 0.98\n",
    ")\n",
    "\n",
    "lc = train(\n",
    "    net_60_40, optimizer, loss_fn,\n",
    "    train_data_loader, epochs = 500,\n",
    "    lr_scheduler = lr_scheduler\n",
    ")"
   ]
  },
  {
   "cell_type": "code",
   "execution_count": 54,
   "id": "602be43d",
   "metadata": {},
   "outputs": [
    {
     "data": {
      "image/png": "[encoded data removed]",
      "text/plain": [
       "<Figure size 936x504 with 2 Axes>"
      ]
     },
     "metadata": {
      "needs_background": "light"
     },
     "output_type": "display_data"
    }
   ],
   "source": [
    "probs_hat = net_60_40(\n",
    "    torch.tensor(X_test.astype('float32'))\n",
    ").detach().numpy()\n",
    "\n",
    "auc = roc_auc_score(y_test, probs_hat)\n",
    "\n",
    "lc_plot_report_to_file(\n",
    "    lc, \"fiting_results2/manual_models_results/60_40_test.png\",\n",
    "    np.round(auc, 7),\n",
    "    lc_param = {\n",
    "        'start_show':15,\n",
    "        'last_spes_show':20\n",
    "    }\n",
    ")"
   ]
  },
  {
   "cell_type": "code",
   "execution_count": 55,
   "id": "9a090659",
   "metadata": {},
   "outputs": [],
   "source": [
    "train_data_loader =\\\n",
    "torch.utils.data.DataLoader(\n",
    "    train_data, batch_size=3000\n",
    ")\n",
    "\n",
    "lr_scheduler = optim.lr_scheduler.ExponentialLR(\n",
    "    optimizer, 0.5\n",
    ")\n",
    "\n",
    "lc = train(\n",
    "    net_60_40, optimizer, loss_fn,\n",
    "    train_data_loader, epochs = 20,\n",
    "    lr_scheduler = lr_scheduler\n",
    ")"
   ]
  }
 ],
 "metadata": {
  "kernelspec": {
   "display_name": "Python 3 (ipykernel)",
   "language": "python",
   "name": "python3"
  },
  "language_info": {
   "codemirror_mode": {
    "name": "ipython",
    "version": 3
   },
   "file_extension": ".py",
   "mimetype": "text/x-python",
   "name": "python",
   "nbconvert_exporter": "python",
   "pygments_lexer": "ipython3",
   "version": "3.10.4"
  }
 },
 "nbformat": 4,
 "nbformat_minor": 5
}
