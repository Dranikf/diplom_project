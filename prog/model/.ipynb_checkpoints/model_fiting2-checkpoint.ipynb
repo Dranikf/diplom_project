{
 "cells": [
  {
   "cell_type": "code",
   "execution_count": 1,
   "id": "2dbadf89",
   "metadata": {},
   "outputs": [],
   "source": [
    "import pandas as pd\n",
    "import numpy as np\n",
    "\n",
    "\n",
    "import matplotlib.pyplot as plt\n",
    "\n",
    "from sklearn.preprocessing import OneHotEncoder\n",
    "from sklearn.model_selection import train_test_split\n",
    "\n",
    "\n",
    "from nets_algo import *"
   ]
  },
  {
   "cell_type": "markdown",
   "id": "38c580b5",
   "metadata": {},
   "source": [
    "## Функция потерь\n",
    "\n",
    "Создание функции потерь в torch\n",
    "https://neptune.ai/blog/pytorch-loss-functions. Для задач бинарной классификации рекомендуют использовать CrossEntropy функцию потерь"
   ]
  },
  {
   "cell_type": "code",
   "execution_count": 2,
   "id": "2f72c792",
   "metadata": {},
   "outputs": [],
   "source": [
    "loss_fn = nn.BCELoss()"
   ]
  },
  {
   "cell_type": "markdown",
   "id": "8c282bd6",
   "metadata": {},
   "source": [
    "# Загрузка и подговтовка данных"
   ]
  },
  {
   "cell_type": "code",
   "execution_count": 3,
   "id": "5487f93a",
   "metadata": {},
   "outputs": [],
   "source": [
    "data = pd.read_csv(\n",
    "    \"/home/dranik/KFA/university/proc_2.csv\", \n",
    "    index_col = 0\n",
    ")\n",
    "\n",
    "save_ind = data[data['Y'] == 0].sample(\n",
    "    sum(data['Y']), random_state = 0\n",
    ").index.union(data[data['Y'] == 1].index)\n",
    "data = data.loc[save_ind]"
   ]
  },
  {
   "cell_type": "markdown",
   "id": "99a704ed",
   "metadata": {},
   "source": [
    "Нужно провести One Hot Encoding"
   ]
  },
  {
   "cell_type": "code",
   "execution_count": 4,
   "id": "47f6ab70",
   "metadata": {},
   "outputs": [
    {
     "data": {
      "text/plain": [
       "(13926, 1)"
      ]
     },
     "execution_count": 4,
     "metadata": {},
     "output_type": "execute_result"
    }
   ],
   "source": [
    "Y = np.array(data[['Y']])\n",
    "X = data.drop('Y', axis = 1)\n",
    "\n",
    "X = np.concatenate([\n",
    "    OneHotEncoder(sparse = False).\\\n",
    "    fit_transform(X.loc[:,X.dtypes == \"O\"]),\n",
    "    X.loc[:,X.dtypes != \"O\"].to_numpy()\n",
    "], axis = 1)\n",
    "\n",
    "Y.shape"
   ]
  },
  {
   "cell_type": "markdown",
   "id": "6a4ab050",
   "metadata": {},
   "source": [
    "Разбивка на Train/Test"
   ]
  },
  {
   "cell_type": "code",
   "execution_count": 5,
   "id": "c94cb185",
   "metadata": {},
   "outputs": [],
   "source": [
    "X_train, X_test, y_train, y_test = \\\n",
    "    train_test_split(\n",
    "        X,Y, random_state = 0, stratify = Y\n",
    ")"
   ]
  },
  {
   "cell_type": "markdown",
   "id": "9a75f303",
   "metadata": {},
   "source": [
    "## Создание набора данных и загрузчика данных"
   ]
  },
  {
   "cell_type": "code",
   "execution_count": 6,
   "id": "928ee7cf",
   "metadata": {},
   "outputs": [],
   "source": [
    "train_data = My_data_set(\n",
    "    torch.tensor(X_train.astype('float32')), \n",
    "    torch.tensor(y_train.astype('float32'))\n",
    ")"
   ]
  },
  {
   "cell_type": "code",
   "execution_count": 15,
   "id": "8179bf34",
   "metadata": {},
   "outputs": [],
   "source": [
    "train_data_loader =\\\n",
    "torch.utils.data.DataLoader(\n",
    "    train_data, batch_size=1000\n",
    ")"
   ]
  },
  {
   "cell_type": "markdown",
   "id": "704865db",
   "metadata": {},
   "source": [
    "# Различные варианты модели"
   ]
  },
  {
   "cell_type": "code",
   "execution_count": 30,
   "id": "19aedda6",
   "metadata": {},
   "outputs": [
    {
     "name": "stdout",
     "output_type": "stream",
     "text": [
      "[6] AUC = 0.6234293969709156\n"
     ]
    },
    {
     "data": {
      "text/plain": [
       "[6]    0.623429\n",
       "dtype: float64"
      ]
     },
     "execution_count": 30,
     "metadata": {},
     "output_type": "execute_result"
    }
   ],
   "source": [
    "[learning_info, auc_info] = \\\n",
    "model_fit_get_perfomance(\n",
    "    [[6]], 50, loss_fn,\n",
    "    train_data_loader, X_test, y_test,\n",
    ")\n",
    "auc_info"
   ]
  },
  {
   "cell_type": "markdown",
   "id": "0cc0bfc1",
   "metadata": {},
   "source": [
    "## Модели с одним скрытым слоем"
   ]
  },
  {
   "cell_type": "markdown",
   "id": "d182680e",
   "metadata": {},
   "source": [
    "### Обобщенный построитель модели с одним слоем"
   ]
  },
  {
   "cell_type": "code",
   "execution_count": 16,
   "id": "e9e1e004",
   "metadata": {},
   "outputs": [],
   "source": [
    "def one_layer_fit(\n",
    "    fit_range, epoches,\n",
    "    file_name, **kwargs\n",
    "):\n",
    "    for i in fit_range:\n",
    "        model_fit_get_perfomance(\n",
    "            [[i]], epoches, loss_fn, \n",
    "            train_data_loader, X_test, y_test, \n",
    "            file_name, **kwargs\n",
    "        )"
   ]
  },
  {
   "cell_type": "markdown",
   "id": "d54e8a9f",
   "metadata": {},
   "source": [
    "Базовый вариант"
   ]
  },
  {
   "cell_type": "code",
   "execution_count": 17,
   "id": "0ba46d40",
   "metadata": {
    "scrolled": true
   },
   "outputs": [
    {
     "name": "stdout",
     "output_type": "stream",
     "text": [
      "[2] AUC = 0.6445509044463015\n",
      "[3] AUC = 0.5047194383785851\n",
      "[4] AUC = 0.6044407919154914\n",
      "[5] AUC = 0.6465135705710273\n",
      "[6] AUC = 0.6421611629646321\n",
      "[7] AUC = 0.6182863473460457\n",
      "[8] AUC = 0.6786037720536007\n",
      "[9] AUC = 0.6766602410163238\n",
      "[10] AUC = 0.6623316895853327\n",
      "[11] AUC = 0.5058855240094211\n",
      "[12] AUC = 0.6187350321551948\n",
      "[13] AUC = 0.6779271157715681\n",
      "[14] AUC = 0.6294835076990685\n",
      "[15] AUC = 0.6364986616985822\n",
      "[16] AUC = 0.6345787196053158\n",
      "[17] AUC = 0.5834212282680667\n",
      "[18] AUC = 0.68454719619832\n",
      "[19] AUC = 0.6760997149201886\n"
     ]
    }
   ],
   "source": [
    "one_layer_fit(\n",
    "    range(2,20), 50,\n",
    "    'fiting_results2/one_hiden_initial/',\n",
    "    lr_decr = 1.1\n",
    ")"
   ]
  },
  {
   "cell_type": "markdown",
   "id": "472960b0",
   "metadata": {},
   "source": [
    "После анализа рисунков становиться понятно, что для посторения модели недостаточно эпох. Проделаем эту операцию с большим количесвом эпох."
   ]
  },
  {
   "cell_type": "code",
   "execution_count": 14,
   "id": "80b3c002",
   "metadata": {},
   "outputs": [
    {
     "name": "stdout",
     "output_type": "stream",
     "text": [
      "[2] AUC = 0.4941732009141293\n",
      "[3] AUC = 0.506539251178045\n",
      "[4] AUC = 0.5574456769713512\n",
      "[5] AUC = 0.5188513602902727\n",
      "[6] AUC = 0.5278659659705564\n",
      "[7] AUC = 0.5136827422295874\n",
      "[8] AUC = 0.5108748331040972\n",
      "[9] AUC = 0.5530449367733822\n",
      "[10] AUC = 0.49250267478830156\n",
      "[11] AUC = 0.4962109227697973\n",
      "[12] AUC = 0.627756895972097\n",
      "[13] AUC = 0.5106302009085207\n",
      "[14] AUC = 0.506778604728808\n",
      "[15] AUC = 0.610615486686103\n",
      "[16] AUC = 0.5420709641213811\n",
      "[17] AUC = 0.5090195544097965\n",
      "[18] AUC = 0.649550935788255\n",
      "[19] AUC = 0.6105755669347008\n"
     ]
    }
   ],
   "source": [
    "one_layer_fit(\n",
    "    range(2,20), 200,\n",
    "    'fiting_results2/one_hiden_more_epoches/',\n",
    "    lr_decr = 1.1, \n",
    "    lc_param = {}\n",
    ")"
   ]
  },
  {
   "cell_type": "markdown",
   "id": "bf3c76bd",
   "metadata": {},
   "source": [
    "## Модели с двумя скрытыми слоями"
   ]
  },
  {
   "cell_type": "code",
   "execution_count": 82,
   "id": "6084a90d",
   "metadata": {},
   "outputs": [
    {
     "name": "stdout",
     "output_type": "stream",
     "text": [
      "[2, 2] AUC = 0.5772943712160777\n",
      "[2, 3] AUC = 0.5\n",
      "[2, 4] AUC = 0.5\n"
     ]
    }
   ],
   "source": [
    "model_fit_get_perfomance(\n",
    "    [[2,2], [2,3], [2,4]], 50, train_data_loader, \n",
    "    X_test, y_test, 'fiting_results/two_layers_initial/',\n",
    "    lr_decr = 2\n",
    ")"
   ]
  },
  {
   "cell_type": "code",
   "execution_count": 22,
   "id": "b5d3cb23",
   "metadata": {},
   "outputs": [
    {
     "data": {
      "text/plain": [
       "hello    5\n",
       "dtype: int64"
      ]
     },
     "execution_count": 22,
     "metadata": {},
     "output_type": "execute_result"
    }
   ],
   "source": []
  }
 ],
 "metadata": {
  "kernelspec": {
   "display_name": "Python 3 (ipykernel)",
   "language": "python",
   "name": "python3"
  },
  "language_info": {
   "codemirror_mode": {
    "name": "ipython",
    "version": 3
   },
   "file_extension": ".py",
   "mimetype": "text/x-python",
   "name": "python",
   "nbconvert_exporter": "python",
   "pygments_lexer": "ipython3",
   "version": "3.10.4"
  }
 },
 "nbformat": 4,
 "nbformat_minor": 5
}
