{
 "cells": [
  {
   "cell_type": "code",
   "execution_count": 1,
   "id": "2dbadf89",
   "metadata": {},
   "outputs": [],
   "source": [
    "import pandas as pd\n",
    "import numpy as np\n",
    "\n",
    "\n",
    "import matplotlib.pyplot as plt\n",
    "\n",
    "from sklearn.preprocessing import OneHotEncoder\n",
    "from sklearn.model_selection import train_test_split\n",
    "\n",
    "from itertools import combinations\n",
    "\n",
    "from nets_algo import *"
   ]
  },
  {
   "cell_type": "markdown",
   "id": "38c580b5",
   "metadata": {},
   "source": [
    "## Функция потерь\n",
    "\n",
    "Создание функции потерь в torch\n",
    "https://neptune.ai/blog/pytorch-loss-functions. Для задач бинарной классификации рекомендуют использовать CrossEntropy функцию потерь"
   ]
  },
  {
   "cell_type": "code",
   "execution_count": 2,
   "id": "2f72c792",
   "metadata": {},
   "outputs": [],
   "source": [
    "loss_fn = nn.BCELoss()"
   ]
  },
  {
   "cell_type": "markdown",
   "id": "8c282bd6",
   "metadata": {},
   "source": [
    "# Загрузка и подговтовка данных"
   ]
  },
  {
   "cell_type": "code",
   "execution_count": 3,
   "id": "5487f93a",
   "metadata": {},
   "outputs": [],
   "source": [
    "data = pd.read_csv(\n",
    "    \"/home/dranik/KFA/university/proc_2.csv\", \n",
    "    index_col = 0\n",
    ")\n",
    "\n",
    "save_ind = data[data['Y'] == 0].sample(\n",
    "    sum(data['Y']), random_state = 0\n",
    ").index.union(data[data['Y'] == 1].index)\n",
    "data = data.loc[save_ind]"
   ]
  },
  {
   "cell_type": "markdown",
   "id": "99a704ed",
   "metadata": {},
   "source": [
    "Нужно провести One Hot Encoding"
   ]
  },
  {
   "cell_type": "code",
   "execution_count": 4,
   "id": "47f6ab70",
   "metadata": {},
   "outputs": [
    {
     "data": {
      "text/plain": [
       "(13926, 1)"
      ]
     },
     "execution_count": 4,
     "metadata": {},
     "output_type": "execute_result"
    }
   ],
   "source": [
    "Y = np.array(data[['Y']])\n",
    "X = data.drop('Y', axis = 1)\n",
    "\n",
    "X = np.concatenate([\n",
    "    OneHotEncoder(sparse = False).\\\n",
    "    fit_transform(X.loc[:,X.dtypes == \"O\"]),\n",
    "    X.loc[:,X.dtypes != \"O\"].to_numpy()\n",
    "], axis = 1)\n",
    "\n",
    "Y.shape"
   ]
  },
  {
   "cell_type": "markdown",
   "id": "6a4ab050",
   "metadata": {},
   "source": [
    "Разбивка на Train/Test"
   ]
  },
  {
   "cell_type": "code",
   "execution_count": 5,
   "id": "c94cb185",
   "metadata": {},
   "outputs": [],
   "source": [
    "X_train, X_test, y_train, y_test = \\\n",
    "    train_test_split(\n",
    "        X,Y, random_state = 0, stratify = Y\n",
    ")"
   ]
  },
  {
   "cell_type": "markdown",
   "id": "9a75f303",
   "metadata": {},
   "source": [
    "## Создание набора данных и загрузчика данных"
   ]
  },
  {
   "cell_type": "code",
   "execution_count": 6,
   "id": "928ee7cf",
   "metadata": {},
   "outputs": [],
   "source": [
    "train_data = My_data_set(\n",
    "    torch.tensor(X_train.astype('float32')), \n",
    "    torch.tensor(y_train.astype('float32'))\n",
    ")"
   ]
  },
  {
   "cell_type": "code",
   "execution_count": 7,
   "id": "8179bf34",
   "metadata": {},
   "outputs": [],
   "source": [
    "train_data_loader =\\\n",
    "torch.utils.data.DataLoader(\n",
    "    train_data, batch_size=1000\n",
    ")"
   ]
  },
  {
   "cell_type": "markdown",
   "id": "704865db",
   "metadata": {},
   "source": [
    "# Различные варианты модели"
   ]
  },
  {
   "cell_type": "markdown",
   "id": "0cc0bfc1",
   "metadata": {},
   "source": [
    "## Модели с одним скрытым слоем"
   ]
  },
  {
   "cell_type": "markdown",
   "id": "4ba8b7e0",
   "metadata": {},
   "source": [
    "Опишем вещи общие для модлей этой группы"
   ]
  },
  {
   "cell_type": "code",
   "execution_count": 8,
   "id": "d6264fe3",
   "metadata": {},
   "outputs": [],
   "source": [
    "import os\n",
    "\n",
    "sfn = \"fiting_results2/\"\n",
    "auc_full = pd.DataFrame()"
   ]
  },
  {
   "cell_type": "code",
   "execution_count": 15,
   "id": "6e9c425a",
   "metadata": {},
   "outputs": [],
   "source": [
    "def save_folder_porecessor(result_name):\n",
    "    if not result_name in os.listdir(\"fiting_results2\"):\n",
    "        os.mkdir(\"fiting_results2/\" + result_name)\n",
    "\n",
    "def model_info_save(\n",
    "    hlr, epochs, file_name, \n",
    "    lc_plot_param = {},\n",
    "    fit_params = {}\n",
    "):\n",
    "    learning_info, auc_info, nets = \\\n",
    "    model_fit_get_perfomance(\n",
    "        hlr, epochs, loss_fn, \n",
    "        train_data_loader, X_test, y_test,\n",
    "        **fit_params\n",
    "    )\n",
    "    \n",
    "    save_folder_porecessor(file_name)\n",
    "    learning_info.to_excel(sfn + file_name + '/lc.xlsx')\n",
    "    \n",
    "    global auc_full\n",
    "    if any(auc_full.columns == file_name):\n",
    "        auc_full.drop(\n",
    "            file_name, inplace = True, axis = 1\n",
    "        )\n",
    "        \n",
    "    auc_full = auc_full.join(\n",
    "        pd.DataFrame(auc_info, columns = [file_name]),\n",
    "        how = 'outer'\n",
    "    )\n",
    "    \n",
    "    for col in learning_info:\n",
    "\n",
    "        fig = plt.figure(figsize = [14, 7])\n",
    "        plot_learning_curve(\n",
    "            learning_info[col],\n",
    "            **lc_plot_param\n",
    "        )\n",
    "        fig.savefig(\n",
    "            sfn + file_name + \"/\" +\\\n",
    "            str(col) + '.png'\n",
    "        )\n",
    "        plt.close()\n",
    "    \n",
    "    return nets"
   ]
  },
  {
   "cell_type": "markdown",
   "id": "d182680e",
   "metadata": {},
   "source": [
    "### Обобщенный построитель модели с одним слоем"
   ]
  },
  {
   "cell_type": "markdown",
   "id": "d54e8a9f",
   "metadata": {},
   "source": [
    "Базовый вариант"
   ]
  },
  {
   "cell_type": "code",
   "execution_count": 16,
   "id": "0ba46d40",
   "metadata": {
    "scrolled": true
   },
   "outputs": [
    {
     "name": "stdout",
     "output_type": "stream",
     "text": [
      "[2] AUC = 0.5009034730513635\n",
      "[3] AUC = 0.5440255473212362\n",
      "[4] AUC = 0.6294614033739119\n",
      "[5] AUC = 0.4919797590364625\n",
      "[6] AUC = 0.5645355567865062\n",
      "[7] AUC = 0.49350099848865797\n",
      "[8] AUC = 0.4967485197525239\n",
      "[9] AUC = 0.49711340607525817\n",
      "[10] AUC = 0.5073533171828796\n",
      "[11] AUC = 0.49234085133323724\n",
      "[12] AUC = 0.5168548778472102\n",
      "[13] AUC = 0.5593926721192869\n",
      "[14] AUC = 0.5466059798467939\n",
      "[15] AUC = 0.4800138960324716\n",
      "[16] AUC = 0.49760184567815907\n",
      "[17] AUC = 0.518184436509615\n",
      "[18] AUC = 0.507833343945609\n",
      "[19] AUC = 0.4830571997251145\n"
     ]
    }
   ],
   "source": [
    "torch.manual_seed(0)\n",
    "\n",
    "nets = model_info_save(\n",
    "    [[i] for i in range(2, 20)],\n",
    "    50, \"one_hiden_initial\"\n",
    ")"
   ]
  },
  {
   "cell_type": "markdown",
   "id": "4e7554bf",
   "metadata": {},
   "source": [
    "Понижение learning rate"
   ]
  },
  {
   "cell_type": "code",
   "execution_count": 20,
   "id": "e0da3848",
   "metadata": {},
   "outputs": [
    {
     "name": "stdout",
     "output_type": "stream",
     "text": [
      "[2] AUC = 0.644856076099583\n",
      "[3] AUC = 0.6276041451878057\n",
      "[4] AUC = 0.6499595358883513\n",
      "[5] AUC = 0.6597085330283157\n",
      "[6] AUC = 0.6600552740095035\n",
      "[7] AUC = 0.6471428840073888\n",
      "[8] AUC = 0.6593113150060985\n",
      "[9] AUC = 0.680565448432424\n",
      "[10] AUC = 0.6797301028906849\n",
      "[11] AUC = 0.6697729291958875\n",
      "[12] AUC = 0.6693465136695456\n",
      "[13] AUC = 0.6737625949290039\n",
      "[14] AUC = 0.6768702321053116\n",
      "[15] AUC = 0.6781775214849091\n",
      "[16] AUC = 0.6773253502628269\n",
      "[17] AUC = 0.6209433202213996\n",
      "[18] AUC = 0.6843243384125993\n",
      "[19] AUC = 0.6834515474842144\n"
     ]
    }
   ],
   "source": [
    "torch.manual_seed(0)\n",
    "\n",
    "nets = model_info_save(\n",
    "    [[i] for i in range(2, 20)],\n",
    "    50, \"one_hiden_lr_0.01\",\n",
    "    fit_params = {'lr':0.01}\n",
    ")"
   ]
  },
  {
   "cell_type": "code",
   "execution_count": 22,
   "id": "e954865c",
   "metadata": {},
   "outputs": [
    {
     "name": "stdout",
     "output_type": "stream",
     "text": [
      "[2] AUC = 0.6582315022264335\n",
      "[3] AUC = 0.6030587767202527\n",
      "[4] AUC = 0.6416803114136508\n",
      "[5] AUC = 0.6060250451901482\n",
      "[6] AUC = 0.6271297269851912\n",
      "[7] AUC = 0.6378419118459718\n",
      "[8] AUC = 0.552448944782406\n",
      "[9] AUC = 0.5719091637603877\n",
      "[10] AUC = 0.6317140650480803\n",
      "[11] AUC = 0.6187427851647647\n",
      "[12] AUC = 0.6423035214169467\n",
      "[13] AUC = 0.5814760476542857\n",
      "[14] AUC = 0.6074327937788531\n",
      "[15] AUC = 0.5864147147502822\n",
      "[16] AUC = 0.6317201684811459\n",
      "[17] AUC = 0.6143603552659926\n",
      "[18] AUC = 0.6388336372403113\n",
      "[19] AUC = 0.6269646043771183\n"
     ]
    }
   ],
   "source": [
    "torch.manual_seed(0)\n",
    "\n",
    "nets = model_info_save(\n",
    "    [[i] for i in range(2, 20)],\n",
    "    50, \"one_hiden_lr_0.001\",\n",
    "    fit_params = {'lr':0.001}\n",
    ")"
   ]
  },
  {
   "cell_type": "code",
   "execution_count": null,
   "id": "6dbd805b",
   "metadata": {},
   "outputs": [],
   "source": []
  },
  {
   "cell_type": "markdown",
   "id": "bf3c76bd",
   "metadata": {},
   "source": [
    "## Модели с двумя скрытыми слоями"
   ]
  },
  {
   "cell_type": "code",
   "execution_count": 53,
   "id": "075da99b",
   "metadata": {},
   "outputs": [],
   "source": [
    "auc_full = pd.DataFrame()"
   ]
  },
  {
   "cell_type": "markdown",
   "id": "4a1d3bd0",
   "metadata": {},
   "source": [
    "Варианты числа нейронов в крытых слоях"
   ]
  },
  {
   "cell_type": "code",
   "execution_count": 51,
   "id": "d37df8e4",
   "metadata": {},
   "outputs": [],
   "source": [
    "neurs = [\n",
    "    list(comb) for comb in \n",
    "    list(combinations([2,2,3,3,4,4,5,5,6,6],2))\n",
    "]"
   ]
  },
  {
   "cell_type": "markdown",
   "id": "66598e61",
   "metadata": {},
   "source": [
    "Базовые модели с двумя слоями"
   ]
  },
  {
   "cell_type": "code",
   "execution_count": 52,
   "id": "01640c94",
   "metadata": {},
   "outputs": [
    {
     "name": "stdout",
     "output_type": "stream",
     "text": [
      "[2, 2] AUC = 0.6523354209273853\n",
      "[2, 3] AUC = 0.6508971551733523\n",
      "[2, 3] AUC = 0.6485463436971826\n",
      "[2, 4] AUC = 0.6516813638434606\n",
      "[2, 4] AUC = 0.6501139362491467\n",
      "[2, 5] AUC = 0.6500911720933885\n",
      "[2, 5] AUC = 0.633563075351665\n",
      "[2, 6] AUC = 0.6686040392849943\n",
      "[2, 6] AUC = 0.6360031289167132\n",
      "[2, 3] AUC = 0.6470988403147259\n",
      "[2, 3] AUC = 0.6685492733450541\n",
      "[2, 4] AUC = 0.6522220950215452\n",
      "[2, 4] AUC = 0.6399838869367067\n",
      "[2, 5] AUC = 0.672958591340845\n",
      "[2, 5] AUC = 0.620668995648747\n",
      "[2, 6] AUC = 0.6481616624563976\n",
      "[2, 6] AUC = 0.6689501204355806\n",
      "[3, 3] AUC = 0.6790534466086521\n",
      "[3, 4] AUC = 0.6737583060300929\n",
      "[3, 4] AUC = 0.6553694869916047\n",
      "[3, 5] AUC = 0.49856272399186957\n",
      "[3, 5] AUC = 0.6287197537776128\n",
      "[3, 6] AUC = 0.6667076861357383\n",
      "[3, 6] AUC = 0.6767826395929374\n",
      "[3, 4] AUC = 0.649994506910241\n",
      "[3, 4] AUC = 0.6692242800505827\n",
      "[3, 5] AUC = 0.6763563890242459\n",
      "[3, 5] AUC = 0.6686703522604642\n",
      "[3, 6] AUC = 0.6501076678584307\n",
      "[3, 6] AUC = 0.6240436992610887\n",
      "[4, 4] AUC = 0.6730465137685202\n",
      "[4, 5] AUC = 0.6650673472599379\n",
      "[4, 5] AUC = 0.678239545561468\n",
      "[4, 6] AUC = 0.6755936248486926\n",
      "[4, 6] AUC = 0.6721067500340638\n",
      "[4, 5] AUC = 0.6631719838565845\n",
      "[4, 5] AUC = 0.6448425495722482\n",
      "[4, 6] AUC = 0.6698516139951389\n",
      "[4, 6] AUC = 0.6524398391201027\n",
      "[5, 5] AUC = 0.6795514537552775\n",
      "[5, 6] AUC = 0.6670425501660958\n",
      "[5, 6] AUC = 0.6678633794345977\n",
      "[5, 6] AUC = 0.6775025147793807\n",
      "[5, 6] AUC = 0.6785440573841478\n",
      "[6, 6] AUC = 0.6757854705961338\n"
     ]
    }
   ],
   "source": [
    "nets = model_info_save(\n",
    "    neurs,\n",
    "    50, \"two_hiden_initial\"\n",
    ")"
   ]
  },
  {
   "cell_type": "code",
   "execution_count": null,
   "id": "3f119360",
   "metadata": {},
   "outputs": [],
   "source": [
    "nets = model_info_save(\n",
    "    neurs,\n",
    "    200, \"100ep_lr_0.5__lr_decr_1.5_two\"\n",
    ")"
   ]
  }
 ],
 "metadata": {
  "kernelspec": {
   "display_name": "Python 3 (ipykernel)",
   "language": "python",
   "name": "python3"
  },
  "language_info": {
   "codemirror_mode": {
    "name": "ipython",
    "version": 3
   },
   "file_extension": ".py",
   "mimetype": "text/x-python",
   "name": "python",
   "nbconvert_exporter": "python",
   "pygments_lexer": "ipython3",
   "version": "3.10.4"
  }
 },
 "nbformat": 4,
 "nbformat_minor": 5
}
