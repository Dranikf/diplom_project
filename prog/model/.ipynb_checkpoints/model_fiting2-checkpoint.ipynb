{
 "cells": [
  {
   "cell_type": "code",
   "execution_count": 38,
   "id": "2dbadf89",
   "metadata": {},
   "outputs": [],
   "source": [
    "import pandas as pd\n",
    "import numpy as np\n",
    "\n",
    "\n",
    "import matplotlib.pyplot as plt\n",
    "\n",
    "from sklearn.preprocessing import OneHotEncoder\n",
    "from sklearn.model_selection import train_test_split\n",
    "\n",
    "from itertools import combinations\n",
    "\n",
    "from nets_algo import *"
   ]
  },
  {
   "cell_type": "markdown",
   "id": "38c580b5",
   "metadata": {},
   "source": [
    "## Функция потерь\n",
    "\n",
    "Создание функции потерь в torch\n",
    "https://neptune.ai/blog/pytorch-loss-functions. Для задач бинарной классификации рекомендуют использовать CrossEntropy функцию потерь"
   ]
  },
  {
   "cell_type": "code",
   "execution_count": 2,
   "id": "2f72c792",
   "metadata": {},
   "outputs": [],
   "source": [
    "loss_fn = nn.BCELoss()"
   ]
  },
  {
   "cell_type": "markdown",
   "id": "8c282bd6",
   "metadata": {},
   "source": [
    "# Загрузка и подговтовка данных"
   ]
  },
  {
   "cell_type": "code",
   "execution_count": 3,
   "id": "5487f93a",
   "metadata": {},
   "outputs": [],
   "source": [
    "data = pd.read_csv(\n",
    "    \"/home/dranik/KFA/university/proc_2.csv\", \n",
    "    index_col = 0\n",
    ")\n",
    "\n",
    "save_ind = data[data['Y'] == 0].sample(\n",
    "    sum(data['Y']), random_state = 0\n",
    ").index.union(data[data['Y'] == 1].index)\n",
    "data = data.loc[save_ind]"
   ]
  },
  {
   "cell_type": "markdown",
   "id": "99a704ed",
   "metadata": {},
   "source": [
    "Нужно провести One Hot Encoding"
   ]
  },
  {
   "cell_type": "code",
   "execution_count": 4,
   "id": "47f6ab70",
   "metadata": {},
   "outputs": [
    {
     "data": {
      "text/plain": [
       "(13926, 1)"
      ]
     },
     "execution_count": 4,
     "metadata": {},
     "output_type": "execute_result"
    }
   ],
   "source": [
    "Y = np.array(data[['Y']])\n",
    "X = data.drop('Y', axis = 1)\n",
    "\n",
    "X = np.concatenate([\n",
    "    OneHotEncoder(sparse = False).\\\n",
    "    fit_transform(X.loc[:,X.dtypes == \"O\"]),\n",
    "    X.loc[:,X.dtypes != \"O\"].to_numpy()\n",
    "], axis = 1)\n",
    "\n",
    "Y.shape"
   ]
  },
  {
   "cell_type": "markdown",
   "id": "6a4ab050",
   "metadata": {},
   "source": [
    "Разбивка на Train/Test"
   ]
  },
  {
   "cell_type": "code",
   "execution_count": 5,
   "id": "c94cb185",
   "metadata": {},
   "outputs": [],
   "source": [
    "X_train, X_test, y_train, y_test = \\\n",
    "    train_test_split(\n",
    "        X,Y, random_state = 0, stratify = Y\n",
    ")"
   ]
  },
  {
   "cell_type": "markdown",
   "id": "9a75f303",
   "metadata": {},
   "source": [
    "## Создание набора данных и загрузчика данных"
   ]
  },
  {
   "cell_type": "code",
   "execution_count": 6,
   "id": "928ee7cf",
   "metadata": {},
   "outputs": [],
   "source": [
    "train_data = My_data_set(\n",
    "    torch.tensor(X_train.astype('float32')), \n",
    "    torch.tensor(y_train.astype('float32'))\n",
    ")"
   ]
  },
  {
   "cell_type": "code",
   "execution_count": 46,
   "id": "8179bf34",
   "metadata": {},
   "outputs": [],
   "source": [
    "train_data_loader =\\\n",
    "torch.utils.data.DataLoader(\n",
    "    train_data, batch_size=1000\n",
    ")"
   ]
  },
  {
   "cell_type": "markdown",
   "id": "704865db",
   "metadata": {},
   "source": [
    "# Различные варианты модели"
   ]
  },
  {
   "cell_type": "markdown",
   "id": "0cc0bfc1",
   "metadata": {},
   "source": [
    "## Модели с одним скрытым слоем"
   ]
  },
  {
   "cell_type": "markdown",
   "id": "4ba8b7e0",
   "metadata": {},
   "source": [
    "Опишем вещи общие для модлей этой группы"
   ]
  },
  {
   "cell_type": "code",
   "execution_count": 32,
   "id": "d6264fe3",
   "metadata": {},
   "outputs": [
    {
     "data": {
      "text/plain": [
       "False"
      ]
     },
     "execution_count": 32,
     "metadata": {},
     "output_type": "execute_result"
    }
   ],
   "source": [
    "import os\n",
    "\n",
    "sfn = \"fiting_results2/\"\n",
    "auc_full = pd.DataFrame()"
   ]
  },
  {
   "cell_type": "code",
   "execution_count": 33,
   "id": "6e9c425a",
   "metadata": {},
   "outputs": [],
   "source": [
    "def save_folder_porecessor(result_name):\n",
    "    if not result_name in os.listdir(\"fiting_results2\"):\n",
    "        os.mkdir(\"fiting_results2/\" + result_name)\n",
    "\n",
    "def model_info_save(\n",
    "    hlr, epochs, file_name, \n",
    "    lc_plot_param = {},\n",
    "    fit_params = {}\n",
    "):\n",
    "    learning_info, auc_info, nets = \\\n",
    "    model_fit_get_perfomance(\n",
    "        hlr, epochs, loss_fn, \n",
    "        train_data_loader, X_test, y_test\n",
    "    )\n",
    "    \n",
    "    save_folder_porecessor(file_name)\n",
    "    learning_info.to_excel(sfn + file_name + '/lc.xlsx')\n",
    "    \n",
    "    global auc_full\n",
    "    if any(auc_full.columns == file_name):\n",
    "        auc_full.drop(\n",
    "            file_name, inplace = True, axis = 1\n",
    "        )\n",
    "        \n",
    "    auc_full = auc_full.join(\n",
    "        pd.DataFrame(auc_info, columns = [file_name]),\n",
    "        how = 'outer'\n",
    "    )\n",
    "    \n",
    "    for col in learning_info:\n",
    "\n",
    "        fig = plt.figure(figsize = [14, 7])\n",
    "        plot_learning_curve(\n",
    "            learning_info[col],\n",
    "            **lc_plot_param\n",
    "        )\n",
    "        fig.savefig(\n",
    "            sfn + file_name + \"/\" +\\\n",
    "            str(col) + '.png'\n",
    "        )\n",
    "        plt.close()\n",
    "    \n",
    "    return nets"
   ]
  },
  {
   "cell_type": "markdown",
   "id": "d182680e",
   "metadata": {},
   "source": [
    "### Обобщенный построитель модели с одним слоем"
   ]
  },
  {
   "cell_type": "markdown",
   "id": "d54e8a9f",
   "metadata": {},
   "source": [
    "Базовый вариант"
   ]
  },
  {
   "cell_type": "code",
   "execution_count": 34,
   "id": "0ba46d40",
   "metadata": {
    "scrolled": true
   },
   "outputs": [
    {
     "name": "stdout",
     "output_type": "stream",
     "text": [
      "[2] AUC = 0.6326271056431683\n",
      "[3] AUC = 0.509450918665651\n",
      "[4] AUC = 0.5107794875821531\n",
      "[5] AUC = 0.5113482615608096\n",
      "[6] AUC = 0.6452730890398508\n",
      "[7] AUC = 0.6465020235354977\n",
      "[8] AUC = 0.5737914955093579\n",
      "[9] AUC = 0.6149027360205814\n",
      "[10] AUC = 0.6811729874589296\n",
      "[11] AUC = 0.6841537722020626\n",
      "[12] AUC = 0.6771821670222604\n",
      "[13] AUC = 0.6794242714068017\n",
      "[14] AUC = 0.6558853095644754\n",
      "[15] AUC = 0.6799951898349137\n",
      "[16] AUC = 0.6454789561875779\n",
      "[17] AUC = 0.6450335705314375\n",
      "[18] AUC = 0.6756368437531033\n",
      "[19] AUC = 0.6797926218401948\n"
     ]
    }
   ],
   "source": [
    "nets = model_info_save(\n",
    "    [[i] for i in range(2, 20)],\n",
    "    50, \"one_hiden_initial\"\n",
    ")"
   ]
  },
  {
   "cell_type": "markdown",
   "id": "472960b0",
   "metadata": {},
   "source": [
    "После анализа рисунков становиться понятно, что многие модели начинают блуждать гдето после 20 - 25 эпохи, хотя до того спуск проходит очень быстро - поднимем начальный шаг и вресте с тем увеличим скорость спада learning rate, кроме того сделаю побольше эпох. Кривые обучения буду строить начиная с 10 эпохи - чтобы начальный быстрый спуск не \"съедал\" масштабом колебания в конце."
   ]
  },
  {
   "cell_type": "code",
   "execution_count": 35,
   "id": "bead243d",
   "metadata": {},
   "outputs": [
    {
     "name": "stdout",
     "output_type": "stream",
     "text": [
      "[2] AUC = 0.5113103213012123\n",
      "[3] AUC = 0.6406141901189708\n",
      "[4] AUC = 0.6461081046662891\n",
      "[5] AUC = 0.647122264301086\n",
      "[6] AUC = 0.6456853182082565\n",
      "[7] AUC = 0.683021832804864\n",
      "[8] AUC = 0.634139932255192\n",
      "[9] AUC = 0.6827735715409783\n",
      "[10] AUC = 0.6201416260403466\n",
      "[11] AUC = 0.6836798488723991\n",
      "[12] AUC = 0.6833997507819818\n",
      "[13] AUC = 0.6475181626620998\n",
      "[14] AUC = 0.6874106960520027\n",
      "[15] AUC = 0.680930664670459\n",
      "[16] AUC = 0.6831348287954033\n",
      "[17] AUC = 0.6835270980881079\n",
      "[18] AUC = 0.6828593495191979\n",
      "[19] AUC = 0.6825203615475799\n"
     ]
    }
   ],
   "source": [
    "nets = model_info_save(\n",
    "    [[i] for i in range(2, 20)],\n",
    "    100, \"100ep_lr_0.5__lr_decr_1.5\",\n",
    "    fit_params = {'lr': 0.5, 'lr_decr': 1.5},\n",
    "    lc_plot_param = {'start_show': 10}\n",
    ")"
   ]
  },
  {
   "cell_type": "code",
   "execution_count": 36,
   "id": "80b3c002",
   "metadata": {},
   "outputs": [
    {
     "name": "stdout",
     "output_type": "stream",
     "text": [
      "[2] AUC = 0.5115937185446381\n",
      "[3] AUC = 0.5107715696149328\n",
      "[4] AUC = 0.6834970757957309\n",
      "[5] AUC = 0.6342827855804578\n",
      "[6] AUC = 0.6459573333738029\n",
      "[7] AUC = 0.645345010575435\n",
      "[8] AUC = 0.6449708866242769\n",
      "[9] AUC = 0.6836887565855219\n",
      "[10] AUC = 0.6830830320931707\n",
      "[11] AUC = 0.6460210070268659\n",
      "[12] AUC = 0.6816650561301397\n",
      "[13] AUC = 0.6825634154943401\n",
      "[14] AUC = 0.682410664710049\n",
      "[15] AUC = 0.6827943562049316\n",
      "[16] AUC = 0.6806273075513324\n",
      "[17] AUC = 0.6461914082797523\n",
      "[18] AUC = 0.6320180819978087\n",
      "[19] AUC = 0.643786820609545\n"
     ]
    }
   ],
   "source": [
    "nets = model_info_save(\n",
    "    [[i] for i in range(2, 20)],\n",
    "    100, \"100ep_lr_1__lr_decr_2\",\n",
    "    fit_params = {'lr': 1, 'lr_decr': 2},\n",
    "    lc_plot_param = {'start_show': 10}\n",
    ")"
   ]
  },
  {
   "cell_type": "code",
   "execution_count": null,
   "id": "862864db",
   "metadata": {},
   "outputs": [],
   "source": [
    "nets = model_info_save(\n",
    "    [[i] for i in range(7, 23)],\n",
    "    200, \"200ep_lr_1__lr_decr_2___7_23\",\n",
    "    fit_params = {'lr': 1, 'lr_decr': 2},\n",
    "    lc_plot_param = {'start_show': 10}\n",
    ")"
   ]
  },
  {
   "cell_type": "markdown",
   "id": "dde0d8ac",
   "metadata": {},
   "source": [
    "Для рваные графики в конце - побуждают увеличивать скорость спада learning rate"
   ]
  },
  {
   "cell_type": "code",
   "execution_count": 23,
   "id": "bbbecaa5",
   "metadata": {},
   "outputs": [
    {
     "name": "stdout",
     "output_type": "stream",
     "text": [
      "[7] AUC = 0.5149473075777256\n",
      "[8] AUC = 0.6836711061169266\n",
      "[9] AUC = 0.6719421222989422\n",
      "[10] AUC = 0.6291728924433231\n",
      "[11] AUC = 0.6741264915058357\n",
      "[12] AUC = 0.6642448684149318\n",
      "[13] AUC = 0.659913740345441\n",
      "[14] AUC = 0.6335950771358468\n",
      "[15] AUC = 0.6191004133508805\n",
      "[16] AUC = 0.685074070933769\n",
      "[17] AUC = 0.6863369867054032\n",
      "[18] AUC = 0.6754242133417089\n",
      "[19] AUC = 0.6459553538819979\n",
      "[20] AUC = 0.6328930173756493\n",
      "[21] AUC = 0.5365570896983618\n",
      "[22] AUC = 0.6849589304937744\n"
     ]
    }
   ],
   "source": [
    "nets = model_info_save(\n",
    "    [[i] for i in range(7, 23)],\n",
    "    200, \"200ep_lr_1__lr_decr_2.5___7_23\",\n",
    "    fit_params = {'lr': 1, 'lr_decr': 2.5},\n",
    "    lc_plot_param = {'start_show': 10}\n",
    ")"
   ]
  },
  {
   "cell_type": "markdown",
   "id": "01924151",
   "metadata": {},
   "source": [
    "В целом данные меры уже почти не помокают взрастить AUC, потому предпримем последние попытки для самых перспективный моделей 16 и 22 "
   ]
  },
  {
   "cell_type": "code",
   "execution_count": 29,
   "id": "8f577918",
   "metadata": {},
   "outputs": [
    {
     "name": "stdout",
     "output_type": "stream",
     "text": [
      "[16] AUC = 0.6416892191267736\n",
      "[22] AUC = 0.5161825104640884\n"
     ]
    }
   ],
   "source": [
    "nets = model_info_save(\n",
    "    [[16], [22]],\n",
    "    500, \"500ep_lr_2__lr_decr_4___16,22\",\n",
    "    fit_params = {'lr': 2, 'lr_decr': 3},\n",
    "    lc_plot_param = {'start_show': 300}\n",
    ")"
   ]
  },
  {
   "cell_type": "code",
   "execution_count": 30,
   "id": "42a6165c",
   "metadata": {},
   "outputs": [],
   "source": [
    "auc_full.to_excel(\"fiting_results2/full_aucs.xlsx\")"
   ]
  },
  {
   "cell_type": "markdown",
   "id": "bf3c76bd",
   "metadata": {},
   "source": [
    "## Модели с двумя скрытыми слоями"
   ]
  },
  {
   "cell_type": "code",
   "execution_count": 53,
   "id": "075da99b",
   "metadata": {},
   "outputs": [],
   "source": [
    "auc_full = pd.DataFrame()"
   ]
  },
  {
   "cell_type": "markdown",
   "id": "4a1d3bd0",
   "metadata": {},
   "source": [
    "Варианты числа нейронов в крытых слоях"
   ]
  },
  {
   "cell_type": "code",
   "execution_count": 51,
   "id": "d37df8e4",
   "metadata": {},
   "outputs": [],
   "source": [
    "neurs = [\n",
    "    list(comb) for comb in \n",
    "    list(combinations([2,2,3,3,4,4,5,5,6,6],2))\n",
    "]"
   ]
  },
  {
   "cell_type": "markdown",
   "id": "66598e61",
   "metadata": {},
   "source": [
    "Базовые модели с двумя слоями"
   ]
  },
  {
   "cell_type": "code",
   "execution_count": 52,
   "id": "01640c94",
   "metadata": {},
   "outputs": [
    {
     "name": "stdout",
     "output_type": "stream",
     "text": [
      "[2, 2] AUC = 0.6523354209273853\n",
      "[2, 3] AUC = 0.6508971551733523\n",
      "[2, 3] AUC = 0.6485463436971826\n",
      "[2, 4] AUC = 0.6516813638434606\n",
      "[2, 4] AUC = 0.6501139362491467\n",
      "[2, 5] AUC = 0.6500911720933885\n",
      "[2, 5] AUC = 0.633563075351665\n",
      "[2, 6] AUC = 0.6686040392849943\n",
      "[2, 6] AUC = 0.6360031289167132\n",
      "[2, 3] AUC = 0.6470988403147259\n",
      "[2, 3] AUC = 0.6685492733450541\n",
      "[2, 4] AUC = 0.6522220950215452\n",
      "[2, 4] AUC = 0.6399838869367067\n",
      "[2, 5] AUC = 0.672958591340845\n",
      "[2, 5] AUC = 0.620668995648747\n",
      "[2, 6] AUC = 0.6481616624563976\n",
      "[2, 6] AUC = 0.6689501204355806\n",
      "[3, 3] AUC = 0.6790534466086521\n",
      "[3, 4] AUC = 0.6737583060300929\n",
      "[3, 4] AUC = 0.6553694869916047\n",
      "[3, 5] AUC = 0.49856272399186957\n",
      "[3, 5] AUC = 0.6287197537776128\n",
      "[3, 6] AUC = 0.6667076861357383\n",
      "[3, 6] AUC = 0.6767826395929374\n",
      "[3, 4] AUC = 0.649994506910241\n",
      "[3, 4] AUC = 0.6692242800505827\n",
      "[3, 5] AUC = 0.6763563890242459\n",
      "[3, 5] AUC = 0.6686703522604642\n",
      "[3, 6] AUC = 0.6501076678584307\n",
      "[3, 6] AUC = 0.6240436992610887\n",
      "[4, 4] AUC = 0.6730465137685202\n",
      "[4, 5] AUC = 0.6650673472599379\n",
      "[4, 5] AUC = 0.678239545561468\n",
      "[4, 6] AUC = 0.6755936248486926\n",
      "[4, 6] AUC = 0.6721067500340638\n",
      "[4, 5] AUC = 0.6631719838565845\n",
      "[4, 5] AUC = 0.6448425495722482\n",
      "[4, 6] AUC = 0.6698516139951389\n",
      "[4, 6] AUC = 0.6524398391201027\n",
      "[5, 5] AUC = 0.6795514537552775\n",
      "[5, 6] AUC = 0.6670425501660958\n",
      "[5, 6] AUC = 0.6678633794345977\n",
      "[5, 6] AUC = 0.6775025147793807\n",
      "[5, 6] AUC = 0.6785440573841478\n",
      "[6, 6] AUC = 0.6757854705961338\n"
     ]
    }
   ],
   "source": [
    "nets = model_info_save(\n",
    "    neurs,\n",
    "    50, \"two_hiden_initial\"\n",
    ")"
   ]
  },
  {
   "cell_type": "code",
   "execution_count": null,
   "id": "3f119360",
   "metadata": {},
   "outputs": [],
   "source": [
    "nets = model_info_save(\n",
    "    neurs,\n",
    "    200, \"100ep_lr_0.5__lr_decr_1.5_two\"\n",
    ")"
   ]
  }
 ],
 "metadata": {
  "kernelspec": {
   "display_name": "Python 3 (ipykernel)",
   "language": "python",
   "name": "python3"
  },
  "language_info": {
   "codemirror_mode": {
    "name": "ipython",
    "version": 3
   },
   "file_extension": ".py",
   "mimetype": "text/x-python",
   "name": "python",
   "nbconvert_exporter": "python",
   "pygments_lexer": "ipython3",
   "version": "3.10.4"
  }
 },
 "nbformat": 4,
 "nbformat_minor": 5
}
