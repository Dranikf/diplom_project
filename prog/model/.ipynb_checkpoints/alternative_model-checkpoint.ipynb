{
 "cells": [
  {
   "cell_type": "markdown",
   "id": "f02ab712-b82c-447e-aedb-d68e874515d1",
   "metadata": {},
   "source": [
    "# Альтернативный подход к построению модели\n",
    "\n",
    "Пердполагяется определиться заранее и идентификационной формой и пытаться улучшать её всеми доступными методами"
   ]
  },
  {
   "cell_type": "code",
   "execution_count": 1,
   "id": "508c2449-7a2a-418d-9192-134b5c864aba",
   "metadata": {},
   "outputs": [],
   "source": [
    "import pandas as pd\n",
    "import numpy as np\n",
    "\n",
    "from sklearn.preprocessing import OneHotEncoder\n",
    "from sklearn.model_selection import train_test_split\n",
    "from sklearn.preprocessing import normalize\n",
    "from sklearn.metrics import roc_auc_score\n",
    "\n",
    "import torch.optim as optim\n",
    "\n",
    "import matplotlib.pyplot as plt\n",
    "\n",
    "from nets_algo import *"
   ]
  },
  {
   "cell_type": "markdown",
   "id": "bf7f436c-9e59-4d7b-9a6d-6c79ae721e09",
   "metadata": {},
   "source": [
    "# Подготовительный этап"
   ]
  },
  {
   "cell_type": "markdown",
   "id": "a5475e24-325b-4dd7-a390-19643eec744b",
   "metadata": {},
   "source": [
    "## Функция потерь"
   ]
  },
  {
   "cell_type": "code",
   "execution_count": 2,
   "id": "f7f78620-6598-429e-81aa-8e62739618c0",
   "metadata": {},
   "outputs": [],
   "source": [
    "loss_fn = nn.BCELoss()"
   ]
  },
  {
   "cell_type": "markdown",
   "id": "4e3a9d11-0122-4a9d-b762-653498ede9bc",
   "metadata": {},
   "source": [
    "## Данные"
   ]
  },
  {
   "cell_type": "code",
   "execution_count": 3,
   "id": "405cb916-48f4-4885-811c-18434333d1ed",
   "metadata": {},
   "outputs": [],
   "source": [
    "data = pd.read_csv(\n",
    "    \"/home/dranik/KFA/university/proc_2.csv\", \n",
    "    index_col = 0\n",
    ")"
   ]
  },
  {
   "cell_type": "code",
   "execution_count": 4,
   "id": "b95ad911-ab5d-41dc-aca1-29624832d8af",
   "metadata": {},
   "outputs": [],
   "source": [
    "Y = np.array(data[['Y']])\n",
    "X = data.drop('Y', axis = 1)\n",
    "\n",
    "X = np.concatenate([\n",
    "    OneHotEncoder(sparse = False).\\\n",
    "    fit_transform(X.loc[:,X.dtypes == \"O\"]),\n",
    "    X.loc[:,X.dtypes != \"O\"].to_numpy()\n",
    "], axis = 1)"
   ]
  },
  {
   "cell_type": "markdown",
   "id": "c2a11d27-402f-49b2-b8da-8cc207fb4f94",
   "metadata": {},
   "source": [
    "Нормализация"
   ]
  },
  {
   "cell_type": "code",
   "execution_count": 5,
   "id": "3c691896-ccde-4449-99fc-dbe08f1d14b3",
   "metadata": {},
   "outputs": [],
   "source": [
    "X = normalize(X)"
   ]
  },
  {
   "cell_type": "code",
   "execution_count": 6,
   "id": "127daee0-4a72-4dd7-b319-58b1a2029be6",
   "metadata": {},
   "outputs": [],
   "source": [
    "X_train, X_test, y_train, y_test = \\\n",
    "    train_test_split(\n",
    "        X,Y, random_state = 0, stratify = Y\n",
    ")"
   ]
  },
  {
   "cell_type": "markdown",
   "id": "93c80782-22f0-4549-9d32-106e9a9be726",
   "metadata": {},
   "source": [
    "Наборы данных и загрузчики данных"
   ]
  },
  {
   "cell_type": "code",
   "execution_count": 7,
   "id": "d6ad2422-0dd4-4ca7-83b0-58d7b8d550d2",
   "metadata": {},
   "outputs": [],
   "source": [
    "train_data = My_data_set(\n",
    "    torch.tensor(X_train.astype('float32')), \n",
    "    torch.tensor(y_train.astype('float32'))\n",
    ")\n",
    "train_data_loader =\\\n",
    "torch.utils.data.DataLoader(\n",
    "    train_data, batch_size=500\n",
    ")"
   ]
  },
  {
   "cell_type": "code",
   "execution_count": 8,
   "id": "884bcfe9-e032-47c9-a3e1-d9fe38a1e8e4",
   "metadata": {
    "tags": []
   },
   "outputs": [],
   "source": [
    "test_data = My_data_set(\n",
    "    torch.tensor(X_test.astype('float32')), \n",
    "    torch.tensor(y_test.astype('float32'))\n",
    ")\n",
    "test_data_loader =\\\n",
    "torch.utils.data.DataLoader(\n",
    "    test_data, batch_size=500\n",
    ")"
   ]
  },
  {
   "cell_type": "markdown",
   "id": "d2128734-a054-4404-af99-d9cbd151b596",
   "metadata": {},
   "source": [
    "## Базовый алгоритм терировки модели"
   ]
  },
  {
   "cell_type": "code",
   "execution_count": 9,
   "id": "48269245-b77b-46a0-b68f-9996aa22998f",
   "metadata": {},
   "outputs": [],
   "source": [
    "class model_trainer():\n",
    "    '''Класс реализует алгоритм обучения сети'''\n",
    "    def __init__(\n",
    "        self, model, optimizer, loss_fn,\n",
    "        train_loader, test_loader,\n",
    "        epochs = 20, lr_scheduler = None,\n",
    "        check_epoch = 50\n",
    "    ):\n",
    "        \n",
    "        # inputs:\n",
    "        # model - модель которая подлежит обучению\n",
    "        # optimizer - оптимизатор, который педполагается использовать\n",
    "        # loss_fn - функция потерь\n",
    "        # train_loader - загрузчик обучающих данных\n",
    "        # epochs - эпохи используемые в нейронной сети\n",
    "        # lr_scheduler - планировщик learning rate\n",
    "        # check_epoch - сколько эпох назад проверять ошибку\n",
    "\n",
    "        # подготовка возвращаемых занчений\n",
    "        self.train_loss = np.array([get_loss_value(\n",
    "            loss_fn, model, train_loader\n",
    "        )])\n",
    "        self.test_loss = np.array([get_loss_value(\n",
    "            loass_fn, model, test_loader\n",
    "            )])\n",
    "        self.best_model = None\n",
    "\n",
    "\n",
    "        for epoch in range(epochs):\n",
    "\n",
    "            model.train()\n",
    "            for batch in train_loader:\n",
    "                optimizer.zero_grad()\n",
    "                inputs, targets = batch\n",
    "                output = model(inputs)\n",
    "                loss = loss_fn(output, targets)\n",
    "                loss.backward()\n",
    "                optimizer.step()\n",
    "            if lr_scheduler:\n",
    "                lr_scheduler.step()\n",
    "\n",
    "            # для отслеживания процесса\n",
    "            # обучения буду сохранять текущее\n",
    "            # значение целевой функии\n",
    "            fun_arr.append(get_loss_value(\n",
    "                loss_fn, model, train_loader\n",
    "            ))\n",
    "\n",
    "            # работа с критериями остановки и\n",
    "            # сохранения модели\n",
    "            if epoch > check_epoch:\n",
    "                if lc[-1] > lc[-check_epoch]:\n",
    "\n",
    "\n",
    "\n",
    "        return [fun_arr, best_model]\n",
    "        \n",
    "    \n",
    "\n",
    "\n",
    "# def train(\n",
    "#     model, optimizer, loss_fn, \n",
    "#     train_loader, test_loader, \n",
    "#     epochs = 20, lr_scheduler = None,\n",
    "#     check_epoch = 50\n",
    "# ):\n",
    "#     '''Алгоритм обучения сети'''\n",
    "#     # inputs:\n",
    "#     # model - модель которая подлежит обучению\n",
    "#     # optimizer - оптимизатор, который педполагается использовать\n",
    "#     # loss_fn - функция потерь\n",
    "#     # train_loader - загрузчик обучающих данных\n",
    "#     # epochs - эпохи используемые в нейронной сети\n",
    "#     # lr_scheduler - планировщик learning rate\n",
    "#     # check_epoch - сколько эпох назад проверять ошибку\n",
    "    \n",
    "#     # подготовка возвращаемых занчений\n",
    "#     train_loss = np.array([get_loss_value(\n",
    "#         loss_fn, model, train_loader\n",
    "#     )])\n",
    "#     test_loss = np.array([get_loss_value(\n",
    "#         loass_fn, model, test_loader\n",
    "#         )])\n",
    "#     best_model = None\n",
    "    \n",
    "    \n",
    "#     for epoch in range(epochs):\n",
    "\n",
    "#         model.train()\n",
    "#         for batch in train_loader:\n",
    "#             optimizer.zero_grad()\n",
    "#             inputs, targets = batch\n",
    "#             output = model(inputs)\n",
    "#             loss = loss_fn(output, targets)\n",
    "#             loss.backward()\n",
    "#             optimizer.step()\n",
    "#         if lr_scheduler:\n",
    "#             lr_scheduler.step()\n",
    "            \n",
    "#         # для отслеживания процесса\n",
    "#         # обучения буду сохранять текущее\n",
    "#         # значение целевой функии\n",
    "#         fun_arr.append(get_loss_value(\n",
    "#             loss_fn, model, train_loader\n",
    "#         ))\n",
    "        \n",
    "#         # работа с критериями остановки и\n",
    "#         # сохранения модели\n",
    "#         if epoch > check_epoch:\n",
    "#             if lc[-1] > lc[-check_epoch]:\n",
    "                \n",
    "\n",
    "    \n",
    "#     return [fun_arr, best_model]"
   ]
  },
  {
   "cell_type": "markdown",
   "id": "892066f8-c44c-4c13-856d-84f8963df98d",
   "metadata": {},
   "source": [
    "## Метод быстрого сохранения визуализаци результата"
   ]
  },
  {
   "cell_type": "code",
   "execution_count": 10,
   "id": "2b950355-579f-4389-8832-057ea0b9c5ca",
   "metadata": {},
   "outputs": [],
   "source": [
    "def save_my_lc(\n",
    "    lc, lc_curve_param = {},\n",
    "    plot_name = \"last_plot\"\n",
    "):\n",
    "    plt.figure(figsize = [15, 6])\n",
    "    \n",
    "    plot_learning_curve(\n",
    "        np.array(lc), \n",
    "        **lc_curve_param\n",
    "    )\n",
    "    plt.savefig(\"alt_results/\" + plot_name + '.png')"
   ]
  },
  {
   "cell_type": "markdown",
   "id": "8ac610a2-dc35-411f-8d53-b50aabc7d7c7",
   "metadata": {},
   "source": [
    "# Модель"
   ]
  },
  {
   "cell_type": "markdown",
   "id": "23f72012-ba2e-4c75-a51f-7cff4fa779d9",
   "metadata": {},
   "source": [
    "## Один скрытый слой"
   ]
  },
  {
   "cell_type": "markdown",
   "id": "1c0ef3c7-f727-410a-9ba4-a78d545e9b10",
   "metadata": {},
   "source": [
    "Пример того как модель все еще продолжает оптимизацию - нужно увеличивать число эпох, так как это без каких-либо особых усилий даст нам заметный прирост производительности модели"
   ]
  },
  {
   "cell_type": "code",
   "execution_count": 11,
   "id": "43582977-d848-494e-96f9-46124103acdc",
   "metadata": {},
   "outputs": [
    {
     "data": {
      "image/png": "[encoded data removed]",
      "text/plain": [
       "<Figure size 1080x432 with 2 Axes>"
      ]
     },
     "metadata": {
      "needs_background": "light"
     },
     "output_type": "display_data"
    }
   ],
   "source": [
    "torch.manual_seed(0)\n",
    "model_1lay = ResultNet([X.shape[1], X.shape[1]])\n",
    "\n",
    "optimizer = optim.Adam(\n",
    "    model_1lay.parameters(),\n",
    "    lr = 0.01\n",
    ")\n",
    "\n",
    "lc = train(\n",
    "    model_1lay, optimizer, \n",
    "    loss_fn, train_data_loader,\n",
    "    epochs = 20\n",
    ")\n",
    "\n",
    "save_my_lc(\n",
    "    lc,\n",
    "    lc_curve_param = {\n",
    "        'start_show': 0, \n",
    "        'last_spes_show': 15\n",
    "    },\n",
    "    plot_name = '20_iteration'\n",
    ")"
   ]
  },
  {
   "cell_type": "code",
   "execution_count": 12,
   "id": "b8fa0a43-ba95-4f05-8170-f0bcbfac8297",
   "metadata": {},
   "outputs": [],
   "source": [
    "torch.manual_seed(0)\n",
    "model_1lay = ResultNet([X.shape[1], X.shape[1]])\n",
    "\n",
    "optimizer = optim.Adam(\n",
    "    model_1lay.parameters(),\n",
    "    lr = 0.01\n",
    ")\n",
    "\n",
    "lc = train(\n",
    "    model_1lay, optimizer, \n",
    "    loss_fn, train_data_loader,\n",
    "    epochs = 50\n",
    ")"
   ]
  },
  {
   "cell_type": "code",
   "execution_count": 13,
   "id": "59d0cf87-d73c-4bdb-9108-d5e3ccdfda53",
   "metadata": {},
   "outputs": [
    {
     "data": {
      "image/png": "[encoded data removed]",
      "text/plain": [
       "<Figure size 1080x432 with 2 Axes>"
      ]
     },
     "metadata": {
      "needs_background": "light"
     },
     "output_type": "display_data"
    }
   ],
   "source": [
    "save_my_lc(\n",
    "    lc,\n",
    "    lc_curve_param = {\n",
    "        'start_show': 20, \n",
    "        'last_spes_show': 15\n",
    "    },\n",
    "    plot_name = '50_iteration'\n",
    ")"
   ]
  },
  {
   "cell_type": "markdown",
   "id": "2fd5e5eb-0b73-400e-808a-73d5294d1ef0",
   "metadata": {},
   "source": [
    "Подберем туже модель несколько перенастроим опитимизатор - уменьшим learning rate и продолжим доучивать модель"
   ]
  },
  {
   "cell_type": "code",
   "execution_count": 14,
   "id": "bdb00963-2e5d-4c40-84de-412bf4f0ff97",
   "metadata": {},
   "outputs": [],
   "source": [
    "optimizer = optim.Adam(\n",
    "    model_1lay.parameters(),\n",
    "    lr = 0.0001\n",
    ")\n",
    "\n",
    "lc = train(\n",
    "    model_1lay, optimizer, \n",
    "    loss_fn, train_data_loader,\n",
    "    epochs = 50\n",
    ")"
   ]
  },
  {
   "cell_type": "code",
   "execution_count": 15,
   "id": "d2535e47-6130-40e3-b8bc-73319a4dfd5e",
   "metadata": {},
   "outputs": [
    {
     "data": {
      "image/png": "[encoded data removed]",
      "text/plain": [
       "<Figure size 1080x432 with 2 Axes>"
      ]
     },
     "metadata": {
      "needs_background": "light"
     },
     "output_type": "display_data"
    }
   ],
   "source": [
    "save_my_lc(\n",
    "    lc,\n",
    "    lc_curve_param = {\n",
    "        'start_show': 0, \n",
    "        'last_spes_show': 15\n",
    "    },\n",
    "    plot_name = '50_iteration_50_plus'\n",
    ")"
   ]
  },
  {
   "cell_type": "code",
   "execution_count": 16,
   "id": "befde449-1dd5-40c4-83de-168ad96e7e6b",
   "metadata": {},
   "outputs": [
    {
     "data": {
      "text/plain": [
       "0.7803867947973121"
      ]
     },
     "execution_count": 16,
     "metadata": {},
     "output_type": "execute_result"
    }
   ],
   "source": [
    "p_hat = model_1lay(torch.tensor(X_test.astype('float32')))\n",
    "roc_auc_score(y_test, p_hat.detach().numpy())"
   ]
  },
  {
   "cell_type": "markdown",
   "id": "4b1ee0f0-0b52-4449-a732-095370cfd66a",
   "metadata": {},
   "source": [
    "## В целом путь намечен"
   ]
  }
 ],
 "metadata": {
  "kernelspec": {
   "display_name": "Python 3 (ipykernel)",
   "language": "python",
   "name": "python3"
  },
  "language_info": {
   "codemirror_mode": {
    "name": "ipython",
    "version": 3
   },
   "file_extension": ".py",
   "mimetype": "text/x-python",
   "name": "python",
   "nbconvert_exporter": "python",
   "pygments_lexer": "ipython3",
   "version": "3.10.4"
  }
 },
 "nbformat": 4,
 "nbformat_minor": 5
}
