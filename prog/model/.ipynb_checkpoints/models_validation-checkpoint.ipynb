{
 "cells": [
  {
   "cell_type": "markdown",
   "id": "fa8baf84-40a5-42d4-8c8d-b47a00f5ce0b",
   "metadata": {},
   "source": [
    "# Книжка направлена на валидацию полученной сети"
   ]
  },
  {
   "cell_type": "code",
   "execution_count": 1,
   "id": "d58603d7-70f4-4556-8088-fc6e88231138",
   "metadata": {},
   "outputs": [],
   "source": [
    "import numpy as np\n",
    "import pandas as pd\n",
    "import matplotlib.pyplot as plt\n",
    "\n",
    "from sklearn.metrics import roc_curve, auc\n",
    "import matplotlib.patches as patches\n",
    "\n",
    "from nets_algo import *\n",
    "\n",
    "import os\n",
    "import os.path as os_path\n",
    "\n",
    "cpfn = \"diplom_project\"\n",
    "\n",
    "curr_dir = os.getcwd()\n",
    "curr_dir = os_path.join(curr_dir[:curr_dir.find(cpfn)], cpfn)\n",
    "data_storage = os_path.join(curr_dir, \"data_storage\")\n",
    "inc_los_dir = os_path.join(data_storage, 'inc_los_data')\n",
    "fit_and_valid_fold = os_path.join(data_storage, \"fiting_and_valid\")"
   ]
  },
  {
   "cell_type": "markdown",
   "id": "e908c16d-1c0e-4172-abd0-9f2621cf6003",
   "metadata": {},
   "source": [
    "# Загрузка выборки"
   ]
  },
  {
   "cell_type": "markdown",
   "id": "f10ac0f2-38fe-45ff-86b2-9689adcb40eb",
   "metadata": {},
   "source": [
    "Тестовые данные"
   ]
  },
  {
   "cell_type": "code",
   "execution_count": 2,
   "id": "d47825b1-ab4d-4f54-bccc-7dcc7ca20f98",
   "metadata": {},
   "outputs": [],
   "source": [
    "names = [\"X_test\", \"Y_test\", \"X_train\", \"Y_train\"]\n",
    "\n",
    "pand_dfs = { \n",
    "    name : pd.read_csv(\n",
    "        os_path.join(fit_and_valid_fold, name + '.csv'), index_col = 0) \n",
    "    for name in names}\n",
    "\n",
    "np_arrs = {df: np.array(pand_dfs[df])  for df in pand_dfs}\n",
    "\n",
    "# последним столбцом я специально отложил индекст для того\n",
    "# чтобы достать данные которые не должны были участвовать в\n",
    "# обучении но могут пригодиться в валидации модели\n",
    "#test_index, train_index = (X_test[:, -1], X_train[:, -1])\n",
    "# X_test, X_train = (np.delete(arr, -1, axis = 1) for arr in [X_test, X_train])\n",
    "\n",
    "X_full, y_full = (np.concatenate(lst) for lst in \n",
    "   [[np_arrs['X_test'], np_arrs['X_train']], \n",
    "    [np_arrs['Y_test'], np_arrs['Y_train']]])\n",
    "\n",
    "\n",
    "X_test_tens, y_test_tens, X_full_tens, y_full_tens =\\\n",
    "    (torch.tensor(arr.astype('float32')) for arr in [\n",
    "    np_arrs['X_test'], np_arrs['Y_test'], \n",
    "    X_full, y_full])"
   ]
  },
  {
   "cell_type": "markdown",
   "id": "29c796ee-6dc3-446d-b917-d9a9caa8107c",
   "metadata": {},
   "source": [
    "# Функции для работы с валидацей моделей"
   ]
  },
  {
   "cell_type": "markdown",
   "id": "3ea6d2aa-6328-49fa-98d8-80f279e61be8",
   "metadata": {},
   "source": [
    "## ROC кривая и AUC"
   ]
  },
  {
   "cell_type": "code",
   "execution_count": 3,
   "id": "dd27f3c2-3f5c-4ab8-9788-ae313c15aa68",
   "metadata": {},
   "outputs": [],
   "source": [
    "def plot_roc(fpr, tpr):\n",
    "    plt.figure(figsize = [10,10])\n",
    "    plt.fill_between(\n",
    "        fpr, tpr, hatch = '\\\\\\\\',\n",
    "        alpha = 0\n",
    "    )\n",
    "    plt.plot(fpr, tpr)\n",
    "    plt.plot([0,1], [0,1], '--')\n",
    "    plt.margins(x = 0 , y = 0)\n",
    "    plt.legend(\n",
    "        [\n",
    "            \"AUC = \" + str(np.round(auc(fpr, tpr), 3)),\n",
    "            \"ROC модели\", \n",
    "             \"ROC случаного классификатора\"\n",
    "        ],\n",
    "        fontsize = 15\n",
    "    )\n",
    "    plt.xlabel(\"$FPR$\", loc = \"right\", fontsize = 12)\n",
    "    plt.ylabel(\"$TPR$\", loc = \"top\", fontsize = 12)"
   ]
  },
  {
   "cell_type": "markdown",
   "id": "e052a5e1-33c0-44ab-a5f7-152e2fbd2492",
   "metadata": {},
   "source": [
    "## KS и оптимальная точка отсечения"
   ]
  },
  {
   "cell_type": "code",
   "execution_count": 4,
   "id": "13fcdbac-ccdd-4f9d-b0eb-19228a5b3f06",
   "metadata": {},
   "outputs": [],
   "source": [
    "def plot_KS(\n",
    "    p, Nc_distr, Pc_distr, ax,\n",
    "    N_plot_param = {},\n",
    "    P_plot_param = {},\n",
    "    x_lab_param = {}, \n",
    "    label_param = {}\n",
    "):\n",
    "    '''Нанесение KS на график'''\n",
    "    ax.plot(p, Nc_distr, **N_plot_param)\n",
    "    ax.plot(p, Pc_distr, **P_plot_param)\n",
    "    \n",
    "    plt.xlabel(\"$PD$\", **x_lab_param)\n",
    "    \n",
    "    pKS = np.argmax(np.abs(Nc_distr - Pc_distr))\n",
    "    \n",
    "    KS_arrow = patches.FancyArrowPatch(\n",
    "        (p[pKS], Nc_distr[pKS]), (p[pKS], Pc_distr[pKS]), \n",
    "        arrowstyle='<->', mutation_scale=20\n",
    "    )\n",
    "    \n",
    "    ax.text(\n",
    "        p[pKS], (Nc_distr[pKS] + Pc_distr[pKS]) / 2, \"KS\",\n",
    "        **label_param\n",
    "    )\n",
    "    plt.margins(x = 0 , y = 0)\n",
    "    \n",
    "    # откакладываем и подписываем предсказания\n",
    "    plt.text(p[pKS], 0.02, str(np.round(p[pKS],3)), fontsize = 14)\n",
    "    plt.plot([p[pKS]]*2, [Nc_distr[pKS], 0], '--', color = 'black')\n",
    "    plt.text(0.002, Nc_distr[pKS] + 0.01, str(np.round(Nc_distr[pKS], 3)))\n",
    "    plt.plot([0,p[pKS]], [Nc_distr[pKS]]*2, '--', color = 'black')\n",
    "    plt.text(0.002, Pc_distr[pKS] + 0.01, str(np.round(Pc_distr[pKS], 3)))\n",
    "    plt.plot([0,p[pKS]], [Pc_distr[pKS]]*2, '--', color = 'black')\n",
    "    \n",
    "    ax.add_patch(KS_arrow)\n",
    "    \n",
    "    plt.legend([\n",
    "        'Доля ошибочно предсказанных дефолтов',\n",
    "        'Доля правильно предсказанных дефолтов'\n",
    "    ], fontsize = 14)"
   ]
  },
  {
   "cell_type": "markdown",
   "id": "1b92d0b1-0910-496a-b543-cfa0da488fa9",
   "metadata": {},
   "source": [
    "# Модель 1 скрытый слой 113 нейронов"
   ]
  },
  {
   "cell_type": "code",
   "execution_count": 5,
   "id": "e534dbd2-dea3-4b96-914f-59e12db8ea90",
   "metadata": {},
   "outputs": [
    {
     "data": {
      "text/plain": [
       "<All keys matched successfully>"
      ]
     },
     "execution_count": 5,
     "metadata": {},
     "output_type": "execute_result"
    }
   ],
   "source": [
    "model = ResultNet([113, 113])\n",
    "model.load_state_dict(torch.load('model 1lay 113 neurons'))"
   ]
  },
  {
   "cell_type": "markdown",
   "id": "0d885629-fcb1-4e80-a705-dcf8fba028c8",
   "metadata": {},
   "source": [
    "Точки отсечения выбираем по полным данным"
   ]
  },
  {
   "cell_type": "code",
   "execution_count": 6,
   "id": "682fbd0d-87da-4735-bdde-61aa08b0c575",
   "metadata": {},
   "outputs": [
    {
     "data": {
      "image/png": "[encoded data removed]",
      "text/plain": [
       "<Figure size 720x504 with 1 Axes>"
      ]
     },
     "metadata": {
      "needs_background": "light"
     },
     "output_type": "display_data"
    }
   ],
   "source": [
    "p_hat = model(X_full_tens).detach().numpy()\n",
    "fpr, tpr, threholds = roc_curve(y_full, p_hat)\n",
    "threholds = np.sort(threholds)\n",
    "\n",
    "plt.figure(figsize = [10,7])\n",
    "\n",
    "sel_cond = threholds < 0.4\n",
    "\n",
    "plot_KS(\n",
    "    threholds[sel_cond], \n",
    "    fpr[sel_cond], \n",
    "    tpr[sel_cond], \n",
    "    plt.subplot(111),\n",
    "    x_lab_param = {\n",
    "        'loc':'right',\n",
    "        'fontsize':14\n",
    "    }\n",
    ")\n",
    "\n",
    "p = threholds[np.argmax(np.abs(fpr - tpr))]\n",
    "plt.savefig(\"validation_results/1lay_113_KS_plot.png\")"
   ]
  },
  {
   "cell_type": "markdown",
   "id": "a3d8bc38-377a-479d-8919-54e7a95a8ddd",
   "metadata": {},
   "source": [
    "AUC строим на тестовых данных"
   ]
  },
  {
   "cell_type": "code",
   "execution_count": 7,
   "id": "d55fc2c0-5499-4cf0-b0b0-276ae57209ca",
   "metadata": {},
   "outputs": [
    {
     "data": {
      "image/png": "[encoded data removed]",
      "text/plain": [
       "<Figure size 720x720 with 1 Axes>"
      ]
     },
     "metadata": {
      "needs_background": "light"
     },
     "output_type": "display_data"
    }
   ],
   "source": [
    "p_hat = model(X_test_tens).detach().numpy()\n",
    "fpr, tpr, threholds = roc_curve(np_arrs['Y_test'], p_hat)\n",
    "fpr = fpr[1:]\n",
    "tpr = tpr[1:]\n",
    "threholds = threholds[1:]\n",
    "\n",
    "plot_roc(fpr, tpr)\n",
    "plt.savefig(\"validation_results/1lay_133_roc.png\")"
   ]
  },
  {
   "cell_type": "markdown",
   "id": "b69879e3-8b88-4d02-834d-2987cdf270b5",
   "metadata": {},
   "source": [
    "Сформируем информацю о том как модель предсказывает"
   ]
  },
  {
   "cell_type": "code",
   "execution_count": 8,
   "id": "fb8347e2-74ee-426c-aa61-df590850d756",
   "metadata": {},
   "outputs": [],
   "source": [
    "y_pred_test = (p_hat > p).astype('int')\n",
    "abs_cross_tab = pd.crosstab(np_arrs['Y_test'].ravel(), y_pred_test.ravel())\n",
    "abs_cross_tab.to_excel(\"validation_results/fp_tp.xlsx\")"
   ]
  },
  {
   "cell_type": "code",
   "execution_count": 9,
   "id": "51db5e1a-8591-4955-82cc-79b53ab4468c",
   "metadata": {},
   "outputs": [
    {
     "data": {
      "text/html": [
       "<div>\n",
       "<style scoped>\n",
       "    .dataframe tbody tr th:only-of-type {\n",
       "        vertical-align: middle;\n",
       "    }\n",
       "\n",
       "    .dataframe tbody tr th {\n",
       "        vertical-align: top;\n",
       "    }\n",
       "\n",
       "    .dataframe thead th {\n",
       "        text-align: right;\n",
       "    }\n",
       "</style>\n",
       "<table border=\"1\" class=\"dataframe\">\n",
       "  <thead>\n",
       "    <tr style=\"text-align: right;\">\n",
       "      <th>col_0</th>\n",
       "      <th>0</th>\n",
       "      <th>1</th>\n",
       "    </tr>\n",
       "    <tr>\n",
       "      <th>row_0</th>\n",
       "      <th></th>\n",
       "      <th></th>\n",
       "    </tr>\n",
       "  </thead>\n",
       "  <tbody>\n",
       "    <tr>\n",
       "      <th>0</th>\n",
       "      <td>42794</td>\n",
       "      <td>9556</td>\n",
       "    </tr>\n",
       "    <tr>\n",
       "      <th>1</th>\n",
       "      <td>674</td>\n",
       "      <td>1067</td>\n",
       "    </tr>\n",
       "  </tbody>\n",
       "</table>\n",
       "</div>"
      ],
      "text/plain": [
       "col_0      0     1\n",
       "row_0             \n",
       "0      42794  9556\n",
       "1        674  1067"
      ]
     },
     "execution_count": 9,
     "metadata": {},
     "output_type": "execute_result"
    }
   ],
   "source": [
    "abs_cross_tab"
   ]
  },
  {
   "cell_type": "code",
   "execution_count": 10,
   "id": "b5270dbe-adac-41ea-a550-d6b936975863",
   "metadata": {},
   "outputs": [],
   "source": [
    "# abs_cross_tab/np.sum(abs_cross_tab, axis = 0)\n",
    "#np.sum(abs_cross_tab, axis = 1)\n",
    "\n",
    "rel_cross_tab =\\\n",
    "abs_cross_tab.apply(lambda x: x/np.sum(abs_cross_tab, axis = 1))\n",
    "rel_cross_tab.to_excel(\"validation_results/fpr_tpr.xlsx\")"
   ]
  },
  {
   "cell_type": "code",
   "execution_count": 11,
   "id": "79d36afa-753c-4e45-b520-333e439f6b76",
   "metadata": {},
   "outputs": [
    {
     "data": {
      "text/html": [
       "<div>\n",
       "<style scoped>\n",
       "    .dataframe tbody tr th:only-of-type {\n",
       "        vertical-align: middle;\n",
       "    }\n",
       "\n",
       "    .dataframe tbody tr th {\n",
       "        vertical-align: top;\n",
       "    }\n",
       "\n",
       "    .dataframe thead th {\n",
       "        text-align: right;\n",
       "    }\n",
       "</style>\n",
       "<table border=\"1\" class=\"dataframe\">\n",
       "  <thead>\n",
       "    <tr style=\"text-align: right;\">\n",
       "      <th>col_0</th>\n",
       "      <th>0</th>\n",
       "      <th>1</th>\n",
       "    </tr>\n",
       "    <tr>\n",
       "      <th>row_0</th>\n",
       "      <th></th>\n",
       "      <th></th>\n",
       "    </tr>\n",
       "  </thead>\n",
       "  <tbody>\n",
       "    <tr>\n",
       "      <th>0</th>\n",
       "      <td>0.817459</td>\n",
       "      <td>0.182541</td>\n",
       "    </tr>\n",
       "    <tr>\n",
       "      <th>1</th>\n",
       "      <td>0.387134</td>\n",
       "      <td>0.612866</td>\n",
       "    </tr>\n",
       "  </tbody>\n",
       "</table>\n",
       "</div>"
      ],
      "text/plain": [
       "col_0         0         1\n",
       "row_0                    \n",
       "0      0.817459  0.182541\n",
       "1      0.387134  0.612866"
      ]
     },
     "execution_count": 11,
     "metadata": {},
     "output_type": "execute_result"
    }
   ],
   "source": [
    "rel_cross_tab"
   ]
  },
  {
   "cell_type": "markdown",
   "id": "e375f3ea-a656-4472-93e4-42720a46b9f3",
   "metadata": {},
   "source": [
    "# Поработаем с деньгами - сколько позволит сэкономить тот или иной кредит"
   ]
  },
  {
   "cell_type": "code",
   "execution_count": 17,
   "id": "ba6567e7-848c-40d0-b251-e7589bea687f",
   "metadata": {},
   "outputs": [],
   "source": [
    "prof_los_data = pd.read_csv(inc_los_dir + \".csv\", index_col = 0)"
   ]
  },
  {
   "cell_type": "code",
   "execution_count": 39,
   "id": "66644227-aa0f-46ef-b8d0-fd73eebefb8f",
   "metadata": {},
   "outputs": [
    {
     "data": {
      "text/plain": [
       "18246139.306512233"
      ]
     },
     "execution_count": 39,
     "metadata": {},
     "output_type": "execute_result"
    }
   ],
   "source": [
    "# (y_pred_test == 1) and np_arrs['Y_test']\n",
    "#np_arrs['Y_test'] == y_pred_test\n",
    "\n",
    "# те клиенты которые были хорошими, но модель не дала им кредит\n",
    "error1_ind = pand_dfs[\"X_test\"].loc[\n",
    "    np.logical_and((y_pred_test == 1), (np_arrs['Y_test'] == 0)),:].index\n",
    "prof_los_data.loc[error1_ind]['Выйгрыш_потеря'].sum()\n",
    "\n",
    "error2_ind = pand_dfs[\"X_test\"].loc[\n",
    "    np.logical_and((y_pred_test == 0), (np_arrs['Y_test'] == 1)),:].index"
   ]
  }
 ],
 "metadata": {
  "kernelspec": {
   "display_name": "Python 3 (ipykernel)",
   "language": "python",
   "name": "python3"
  },
  "language_info": {
   "codemirror_mode": {
    "name": "ipython",
    "version": 3
   },
   "file_extension": ".py",
   "mimetype": "text/x-python",
   "name": "python",
   "nbconvert_exporter": "python",
   "pygments_lexer": "ipython3",
   "version": "3.10.4"
  }
 },
 "nbformat": 4,
 "nbformat_minor": 5
}
