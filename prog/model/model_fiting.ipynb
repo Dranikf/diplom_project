{
 "cells": [
  {
   "cell_type": "code",
   "execution_count": 38,
   "id": "2dbadf89",
   "metadata": {},
   "outputs": [],
   "source": [
    "import pandas as pd\n",
    "import numpy as np\n",
    "from collections import OrderedDict\n",
    "\n",
    "import matplotlib.pyplot as plt\n",
    "\n",
    "from sklearn.preprocessing import OneHotEncoder\n",
    "from sklearn.model_selection import train_test_split\n",
    "from sklearn.metrics import roc_auc_score\n",
    "\n",
    "import torch\n",
    "import torch.nn as nn\n",
    "import torch.optim as optim\n",
    "import torch.nn.functional as F\n",
    "from torch.utils.data import Dataset"
   ]
  },
  {
   "cell_type": "markdown",
   "id": "d5899e43",
   "metadata": {},
   "source": [
    "# Формирование абстрактных настроек\n",
    "\n",
    "Различные классы и объекты которые имеют свойсва всех моделей, которые предполагается строить"
   ]
  },
  {
   "cell_type": "markdown",
   "id": "7fb4e888",
   "metadata": {},
   "source": [
    "## Формируем модель"
   ]
  },
  {
   "cell_type": "code",
   "execution_count": 39,
   "id": "a7e44af8",
   "metadata": {},
   "outputs": [],
   "source": [
    "class ResultNet(nn.Module):\n",
    "\n",
    "    def __init__(self, neur_counts):\n",
    "        super(ResultNet, self).__init__()\n",
    "        # предполагаяется что выходной нейрон\n",
    "        # всего один и пользователю не надо\n",
    "        # его объявлять\n",
    "        neur_counts = neur_counts.copy() + [1]\n",
    "        \n",
    "        # динамическое\n",
    "        # добавление слоев\n",
    "        layers = OrderedDict()\n",
    "        for i in range(len(neur_counts) - 1):\n",
    "            layers[str(i)] = (\n",
    "                nn.Linear(\n",
    "                    neur_counts[i],\n",
    "                    neur_counts[i+1]\n",
    "                )\n",
    "            )\n",
    "            # чтобы каждое обучение совпадало\n",
    "            # надо, чтобы модели начинали обучение из\n",
    "            # одной и той же точки - пусть это будут нули\n",
    "            layers[str(i)].weight = \\\n",
    "            nn.Parameter(\n",
    "                torch.rand(\n",
    "                    layers[str(i)].weight.size()\n",
    "                )\n",
    "            )\n",
    "            \n",
    "            layers[str(i)].bias = \\\n",
    "            nn.Parameter(\n",
    "                torch.rand(\n",
    "                    layers[str(i)].bias.size()\n",
    "                )\n",
    "            )\n",
    "            \n",
    "            \n",
    "        self.layers = nn.Sequential(layers)\n",
    "        \n",
    "    def forward(self, x):\n",
    "        for layer in self.layers[:-1]:\n",
    "            x = F.relu(layer(x))\n",
    "            \n",
    "        x = torch.sigmoid(self.layers[-1](x))\n",
    "        return x"
   ]
  },
  {
   "cell_type": "markdown",
   "id": "ba5294bc",
   "metadata": {},
   "source": [
    "## Набор данных"
   ]
  },
  {
   "cell_type": "code",
   "execution_count": 40,
   "id": "be5cd11c",
   "metadata": {},
   "outputs": [],
   "source": [
    "class My_data_set(Dataset):\n",
    "    def __init__(self, X, Y):\n",
    "        self.X = X\n",
    "        self.Y = Y\n",
    "        \n",
    "    def __len__(self):\n",
    "        return self.X.shape[0]\n",
    "    \n",
    "    def __getitem__(self, idx):\n",
    "        return [self.X[idx,:], self.Y[idx, :]]"
   ]
  },
  {
   "cell_type": "markdown",
   "id": "38c580b5",
   "metadata": {},
   "source": [
    "## Функция потерь\n",
    "\n",
    "Создание функции потерь в torch\n",
    "https://neptune.ai/blog/pytorch-loss-functions. Для задач бинарной классификации рекомендуют использовать CrossEntropy функцию потерь"
   ]
  },
  {
   "cell_type": "code",
   "execution_count": 41,
   "id": "2f72c792",
   "metadata": {},
   "outputs": [],
   "source": [
    "loss_fn = nn.BCELoss()"
   ]
  },
  {
   "cell_type": "markdown",
   "id": "262369f2",
   "metadata": {},
   "source": [
    "## Обучение модели"
   ]
  },
  {
   "cell_type": "markdown",
   "id": "3579cf16",
   "metadata": {},
   "source": [
    "Базовый обучающий алгоритм с возвращением данных о обучении по эпохам"
   ]
  },
  {
   "cell_type": "code",
   "execution_count": 42,
   "id": "6327017a",
   "metadata": {},
   "outputs": [],
   "source": [
    "def train(\n",
    "    model, optimizer, loss_fn, train_loader, epochs=20\n",
    "):\n",
    "    fun_arr = []\n",
    "    \n",
    "    for epoch in range(epochs):\n",
    "\n",
    "        model.train()\n",
    "        for batch in train_loader:\n",
    "            optimizer.zero_grad()\n",
    "            inputs, targets = batch\n",
    "            output = model(inputs)\n",
    "            loss = loss_fn(output, targets)\n",
    "            loss.backward()\n",
    "            optimizer.step()\n",
    "        \n",
    "        # для отслеживания процесса\n",
    "        # обучения буду сохранять текущее\n",
    "        # значение целевой функии\n",
    "        fun_arr.append(loss_fn(\n",
    "            net(train_loader.dataset.X),\n",
    "            train_loader.dataset.Y\n",
    "        ).item())\n",
    "    \n",
    "    return fun_arr"
   ]
  },
  {
   "cell_type": "markdown",
   "id": "df23ef29",
   "metadata": {},
   "source": [
    "Обучающий алгоритм с постепенным понижением learning rate"
   ]
  },
  {
   "cell_type": "code",
   "execution_count": 68,
   "id": "87dd01e8",
   "metadata": {},
   "outputs": [],
   "source": [
    "def get_loss_value(model, train_loader):\n",
    "    return loss_fn(\n",
    "                model(train_loader.dataset.X),\n",
    "                train_loader.dataset.Y\n",
    "            ).item()\n",
    "\n",
    "\n",
    "def train_better(\n",
    "    model, optimizer, loss_fn, train_loader, epochs=20\n",
    "):\n",
    "    fun_arr = []\n",
    "    fun_arr.append(get_loss_value(model, train_loader))\n",
    "    \n",
    "    for epoch in range(epochs):\n",
    "\n",
    "        model.train()\n",
    "        for batch in train_loader:\n",
    "            optimizer.zero_grad()\n",
    "            inputs, targets = batch\n",
    "            output = model(inputs)\n",
    "            loss = loss_fn(output, targets)\n",
    "            loss.backward()\n",
    "            optimizer.step()\n",
    "        \n",
    "        # для отслеживания процесса\n",
    "        # обучения буду сохранять текущее\n",
    "        # значение целевой функии\n",
    "        fun_arr.append(get_loss_value(model, train_loader))\n",
    "        \n",
    "        # если предыдущий шаг привел к понижению целевой\n",
    "        # функции то надо немного понизить learning rate\n",
    "        if fun_arr[-2] > fun_arr[-1]:\n",
    "            for g in optimizer.param_groups:\n",
    "                g['lr'] = g['lr']/1.1\n",
    "\n",
    "    \n",
    "    return fun_arr"
   ]
  },
  {
   "cell_type": "markdown",
   "id": "d9225067",
   "metadata": {},
   "source": [
    "Нанесение \"кривой обучения\" опираясь на массив получаемый из \n",
    "train"
   ]
  },
  {
   "cell_type": "code",
   "execution_count": 69,
   "id": "d1fb39f9",
   "metadata": {},
   "outputs": [
    {
     "data": {
      "image/png": "[encoded data removed]",
      "text/plain": [
       "<Figure size 432x288 with 2 Axes>"
      ]
     },
     "metadata": {
      "needs_background": "light"
     },
     "output_type": "display_data"
    }
   ],
   "source": [
    "def plot_learning_curve(\n",
    "    lc_data, start_show = 0, last_spes_show = 20\n",
    "):\n",
    "    # inputs:\n",
    "    # lc_data - собранная итнформация о обучении модели\n",
    "    # start_show - та эпоха с которой следует начинать обучать\n",
    "    # last_spes_show - та эпоха c конца с которой следует\n",
    "    #                  начать отображение в правое окно\n",
    "    \n",
    "    plt.subplot(121)\n",
    "    X_range = \\\n",
    "    range(\n",
    "        start_show, \n",
    "        len(lc_data)\n",
    "    )\n",
    "\n",
    "    plt.plot(\n",
    "        X_range,\n",
    "        lc_data[list(X_range)]\n",
    "    )\n",
    "    plt.xlabel(\"Эпоха\")\n",
    "    plt.ylabel(\"Целевая функция\")\n",
    "    \n",
    "    \n",
    "    plt.subplot(122)\n",
    "    X_range = \\\n",
    "        range(\n",
    "            len(lc_data)-last_spes_show, \n",
    "            len(lc_data)\n",
    "        )\n",
    "    plt.plot(\n",
    "        X_range, \n",
    "        lc_data[list(X_range)]\n",
    "    )\n",
    "    plt.xlabel(\"Эпоха\")\n",
    "\n",
    "\n",
    "plot_learning_curve(np.random.rand(200))"
   ]
  },
  {
   "cell_type": "markdown",
   "id": "8c282bd6",
   "metadata": {},
   "source": [
    "# Загрузка и подговтовка данных"
   ]
  },
  {
   "cell_type": "code",
   "execution_count": 70,
   "id": "5487f93a",
   "metadata": {},
   "outputs": [],
   "source": [
    "data = pd.read_csv(\n",
    "    \"/home/dranik/KFA/university/proc_2.csv\", \n",
    "    index_col = 0\n",
    ")\n",
    "\n",
    "X = data.drop('Y',axis = 1)\n",
    "Y = np.array(data[['Y']])"
   ]
  },
  {
   "cell_type": "markdown",
   "id": "99a704ed",
   "metadata": {},
   "source": [
    "Нужно провести One Hot Encoding"
   ]
  },
  {
   "cell_type": "code",
   "execution_count": 71,
   "id": "47f6ab70",
   "metadata": {},
   "outputs": [],
   "source": [
    "X = np.concatenate([\n",
    "    OneHotEncoder(sparse = False).\\\n",
    "    fit_transform(X.loc[:,X.dtypes == \"O\"]),\n",
    "    X.loc[:,X.dtypes != \"O\"].to_numpy()\n",
    "], axis = 1)"
   ]
  },
  {
   "cell_type": "markdown",
   "id": "6a4ab050",
   "metadata": {},
   "source": [
    "Разбивка на Train/Test"
   ]
  },
  {
   "cell_type": "code",
   "execution_count": 72,
   "id": "c94cb185",
   "metadata": {},
   "outputs": [],
   "source": [
    "X_train, X_test, y_train, y_test = \\\n",
    "    train_test_split(\n",
    "        X,Y, random_state = 0, stratify = Y\n",
    ")"
   ]
  },
  {
   "cell_type": "markdown",
   "id": "9a75f303",
   "metadata": {},
   "source": [
    "## Создание набора данных и загрузчика данных"
   ]
  },
  {
   "cell_type": "code",
   "execution_count": 73,
   "id": "928ee7cf",
   "metadata": {},
   "outputs": [],
   "source": [
    "train_data = My_data_set(\n",
    "    torch.tensor(X_train.astype('float32')), \n",
    "    torch.tensor(y_train.astype('float32'))\n",
    ")"
   ]
  },
  {
   "cell_type": "code",
   "execution_count": 74,
   "id": "8179bf34",
   "metadata": {},
   "outputs": [],
   "source": [
    "train_data_loader =\\\n",
    "torch.utils.data.DataLoader(\n",
    "    train_data, batch_size=10000\n",
    ")"
   ]
  },
  {
   "cell_type": "markdown",
   "id": "704865db",
   "metadata": {},
   "source": [
    "# Различные варианты модели"
   ]
  },
  {
   "cell_type": "markdown",
   "id": "1c25006e",
   "metadata": {},
   "source": [
    "## Модель с одним скрытым слоем"
   ]
  },
  {
   "cell_type": "code",
   "execution_count": 81,
   "id": "f759e913",
   "metadata": {},
   "outputs": [
    {
     "name": "stdout",
     "output_type": "stream",
     "text": [
      "12 0.5532913271528236\n"
     ]
    }
   ],
   "source": [
    "torch.manual_seed(0)\n",
    "\n",
    "for i in range(12, 13):\n",
    "    net = ResultNet([X.shape[1], i])\n",
    "    \n",
    "    optimizer = optim.Adam(\n",
    "        net.parameters(), weight_decay = 0.5,\n",
    "        # lr=0.01, вариант 1 - после того как 100\n",
    "        # 100 эпох стало мало решил начинать быстрее\n",
    "        lr = 0.1\n",
    "    )\n",
    "    \n",
    "    \n",
    "#    print(net.layers[0].bias)\n",
    "    # обучение======================================\n",
    "    #lc = train(\n",
    "    lc = train_better(\n",
    "        net, optimizer, loss_fn, \n",
    "        train_data_loader, epochs = 500\n",
    "    )\n",
    "#    print(net.layers[0].bias)\n",
    "    # обучение======================================\n",
    "    \n",
    "    # снятие метрик ================================\n",
    "    probs_hat = net(\n",
    "        torch.tensor(X_test.astype('float32'))\n",
    "    ).detach().numpy()\n",
    "    \n",
    "    auc = roc_auc_score(y_test, probs_hat)\n",
    "    # снятие метрик ================================\n",
    "    \n",
    "    # сохранение =================================== \n",
    "    fig = plt.figure(figsize = [10,7])\n",
    "    fig.suptitle(\n",
    "        str(i) + \n",
    "        \" нейронов в скрытом слое (AUC = \" + \\\n",
    "        str(np.round(auc,3)) + ')')\n",
    "    plot_learning_curve(np.array(lc), 20, 50)\n",
    "    fig.savefig(\n",
    "        \"fiting_results/12 testing/\" + str(i) +\n",
    "        \" neurons.png\"\n",
    "    )\n",
    "    plt.close()\n",
    "    # сохранение ====================================\n",
    "    \n",
    "    print(str(i) + \" \" + str(auc))"
   ]
  },
  {
   "cell_type": "code",
   "execution_count": 37,
   "id": "19857914",
   "metadata": {},
   "outputs": [
    {
     "data": {
      "text/plain": [
       "{'lr': 0.01,\n",
       " 'betas': (0.9, 0.999),\n",
       " 'eps': 1e-08,\n",
       " 'weight_decay': 0.5,\n",
       " 'amsgrad': False,\n",
       " 'maximize': False}"
      ]
     },
     "execution_count": 37,
     "metadata": {},
     "output_type": "execute_result"
    }
   ],
   "source": [
    "optimizer = optim.Adam(\n",
    "    net.parameters(), lr=0.01, weight_decay = 0.5\n",
    ")\n",
    "optimizer.defaults"
   ]
  }
 ],
 "metadata": {
  "kernelspec": {
   "display_name": "Python 3 (ipykernel)",
   "language": "python",
   "name": "python3"
  },
  "language_info": {
   "codemirror_mode": {
    "name": "ipython",
    "version": 3
   },
   "file_extension": ".py",
   "mimetype": "text/x-python",
   "name": "python",
   "nbconvert_exporter": "python",
   "pygments_lexer": "ipython3",
   "version": "3.10.4"
  }
 },
 "nbformat": 4,
 "nbformat_minor": 5
}
