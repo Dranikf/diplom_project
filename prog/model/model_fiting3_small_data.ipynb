{
 "cells": [
  {
   "cell_type": "code",
   "execution_count": 4,
   "id": "2dbadf89",
   "metadata": {},
   "outputs": [],
   "source": [
    "import pandas as pd\n",
    "import numpy as np\n",
    "\n",
    "\n",
    "import matplotlib.pyplot as plt\n",
    "\n",
    "from sklearn.preprocessing import OneHotEncoder\n",
    "from sklearn.model_selection import train_test_split\n",
    "\n",
    "from itertools import combinations\n",
    "\n",
    "from nets_algo import *"
   ]
  },
  {
   "cell_type": "markdown",
   "id": "38c580b5",
   "metadata": {},
   "source": [
    "## Функция потерь\n",
    "\n",
    "Создание функции потерь в torch\n",
    "https://neptune.ai/blog/pytorch-loss-functions. Для задач бинарной классификации рекомендуют использовать CrossEntropy функцию потерь"
   ]
  },
  {
   "cell_type": "code",
   "execution_count": 5,
   "id": "2f72c792",
   "metadata": {},
   "outputs": [],
   "source": [
    "loss_fn = nn.BCELoss()"
   ]
  },
  {
   "cell_type": "markdown",
   "id": "8c282bd6",
   "metadata": {},
   "source": [
    "# Загрузка и подговтовка данных"
   ]
  },
  {
   "cell_type": "code",
   "execution_count": 12,
   "id": "5487f93a",
   "metadata": {},
   "outputs": [],
   "source": [
    "data = pd.read_csv(\n",
    "    \"/home/dranik/KFA/university/proc_3.csv\", \n",
    "    index_col = 0\n",
    ")\n",
    "\n",
    "# save_ind = data[data['Y'] == 0].sample(\n",
    "#     sum(data['Y']), random_state = 0\n",
    "# ).index.union(data[data['Y'] == 1].index)\n",
    "# data = data.loc[save_ind]"
   ]
  },
  {
   "cell_type": "markdown",
   "id": "99a704ed",
   "metadata": {},
   "source": [
    "Нужно провести One Hot Encoding"
   ]
  },
  {
   "cell_type": "code",
   "execution_count": 13,
   "id": "47f6ab70",
   "metadata": {},
   "outputs": [
    {
     "data": {
      "text/plain": [
       "(216364, 1)"
      ]
     },
     "execution_count": 13,
     "metadata": {},
     "output_type": "execute_result"
    }
   ],
   "source": [
    "Y = np.array(data[['Y']])\n",
    "X = data.drop('Y', axis = 1)\n",
    "\n",
    "X = np.concatenate([\n",
    "    OneHotEncoder(sparse = False).\\\n",
    "    fit_transform(X.loc[:,X.dtypes == \"O\"]),\n",
    "    X.loc[:,X.dtypes != \"O\"].to_numpy()\n",
    "], axis = 1)\n",
    "\n",
    "Y.shape"
   ]
  },
  {
   "cell_type": "markdown",
   "id": "6a4ab050",
   "metadata": {},
   "source": [
    "Разбивка на Train/Test"
   ]
  },
  {
   "cell_type": "code",
   "execution_count": 14,
   "id": "c94cb185",
   "metadata": {},
   "outputs": [],
   "source": [
    "X_train, X_test, y_train, y_test = \\\n",
    "    train_test_split(\n",
    "        X,Y, random_state = 0, stratify = Y\n",
    ")"
   ]
  },
  {
   "cell_type": "markdown",
   "id": "9a75f303",
   "metadata": {},
   "source": [
    "## Создание набора данных и загрузчика данных"
   ]
  },
  {
   "cell_type": "code",
   "execution_count": 15,
   "id": "928ee7cf",
   "metadata": {},
   "outputs": [],
   "source": [
    "train_data = My_data_set(\n",
    "    torch.tensor(X_train.astype('float32')), \n",
    "    torch.tensor(y_train.astype('float32'))\n",
    ")"
   ]
  },
  {
   "cell_type": "code",
   "execution_count": 31,
   "id": "8179bf34",
   "metadata": {},
   "outputs": [],
   "source": [
    "train_data_loader =\\\n",
    "torch.utils.data.DataLoader(\n",
    "    train_data, batch_size=10000\n",
    ")"
   ]
  },
  {
   "cell_type": "markdown",
   "id": "704865db",
   "metadata": {},
   "source": [
    "# Различные варианты модели"
   ]
  },
  {
   "cell_type": "markdown",
   "id": "0cc0bfc1",
   "metadata": {},
   "source": [
    "## Модели с одним скрытым слоем"
   ]
  },
  {
   "cell_type": "markdown",
   "id": "4ba8b7e0",
   "metadata": {},
   "source": [
    "Опишем вещи общие для модлей этой группы"
   ]
  },
  {
   "cell_type": "code",
   "execution_count": 25,
   "id": "d6264fe3",
   "metadata": {},
   "outputs": [],
   "source": [
    "import os\n",
    "\n",
    "sfn = \"fiting_results3_small_data/\"\n",
    "auc_full = pd.DataFrame()"
   ]
  },
  {
   "cell_type": "code",
   "execution_count": 26,
   "id": "950f647f",
   "metadata": {},
   "outputs": [],
   "source": [
    "def save_folder_porecessor(result_name):\n",
    "    if not result_name in os.listdir(sfn):\n",
    "        os.mkdir(sfn + result_name)\n",
    "\n",
    "def model_info_save(\n",
    "    hlr, epochs, file_name, \n",
    "    lc_plot_param = {},\n",
    "    fit_params = {}\n",
    "):\n",
    "    learning_info, auc_info, nets = \\\n",
    "    models_fit_get_perfomance(\n",
    "        hlr, epochs, loss_fn, \n",
    "        train_data_loader, X_test, y_test,\n",
    "        **fit_params\n",
    "    )\n",
    "    \n",
    "    save_folder_porecessor(file_name)\n",
    "    learning_info.to_excel(sfn + file_name + '/lc.xlsx')\n",
    "    \n",
    "    global auc_full\n",
    "    if any(auc_full.columns == file_name):\n",
    "        auc_full.drop(\n",
    "            file_name, inplace = True, axis = 1\n",
    "        )\n",
    "        \n",
    "    auc_full = auc_full.join(\n",
    "        pd.DataFrame(auc_info, columns = [file_name]),\n",
    "        how = 'outer'\n",
    "    )\n",
    "    \n",
    "    for col in learning_info:\n",
    "\n",
    "        fig = plt.figure(figsize = [14, 7])\n",
    "        plot_learning_curve(\n",
    "            learning_info[col],\n",
    "            **lc_plot_param\n",
    "        )\n",
    "        fig.savefig(\n",
    "            sfn + file_name + \"/\" +\\\n",
    "            str(col) + '.png'\n",
    "        )\n",
    "        plt.close()\n",
    "    \n",
    "    return nets\n",
    "\n",
    "def lc_plot_report_to_file(\n",
    "    lc, file_name, auc, lc_param = {}\n",
    "):\n",
    "    '''настроенная по размерам кривая обучения\n",
    "     в файл с AUC в загоровке в файл'''\n",
    "    \n",
    "    fig = plt.figure(figsize = [13, 7])\n",
    "    plot_learning_curve(\n",
    "        np.array(lc), **lc_param\n",
    "    )\n",
    "    fig.suptitle(\"AUC = \" + str(auc))\n",
    "    plt.savefig(file_name)\n"
   ]
  },
  {
   "cell_type": "markdown",
   "id": "cc02f550",
   "metadata": {},
   "source": [
    "Наиболее гибкое получение модели и оптимизатора в одну строку"
   ]
  },
  {
   "cell_type": "code",
   "execution_count": 27,
   "id": "ba15ec44",
   "metadata": {},
   "outputs": [],
   "source": [
    "def get_main_parts(\n",
    "    data_loader_param = {'batch_size': 500},\n",
    "    hidden_layers = [2],\n",
    "    optimizer_param = {}\n",
    "):\n",
    "    '''получить сеть и оптимизатор одной строкой'''\n",
    "    train_data_loader =\\\n",
    "    torch.utils.data.DataLoader(\n",
    "        train_data, **data_loader_param\n",
    "    )\n",
    "\n",
    "    torch.manual_seed(0)\n",
    "\n",
    "    net = ResultNet(\n",
    "        [train_data_loader.dataset.X.shape[1]] +\\\n",
    "        hidden_layers\n",
    "    )\n",
    "\n",
    "    optimizer = optim.Adam(\n",
    "        net.parameters(),\n",
    "        **optimizer_param\n",
    "    )\n",
    "    \n",
    "    return [train_data_loader, net, optimizer] "
   ]
  },
  {
   "cell_type": "markdown",
   "id": "d182680e",
   "metadata": {},
   "source": [
    "### Обобщенный построитель модели с одним слоем"
   ]
  },
  {
   "cell_type": "markdown",
   "id": "d54e8a9f",
   "metadata": {},
   "source": [
    "Базовый вариант"
   ]
  },
  {
   "cell_type": "code",
   "execution_count": 29,
   "id": "0ba46d40",
   "metadata": {
    "scrolled": true
   },
   "outputs": [
    {
     "name": "stdout",
     "output_type": "stream",
     "text": [
      "[2] AUC = 0.5\n",
      "[3] AUC = 0.39256996412714984\n",
      "[4] AUC = 0.36498666082957953\n",
      "[5] AUC = 0.500028653295129\n",
      "[6] AUC = 0.46224916023297874\n",
      "[7] AUC = 0.5\n",
      "[8] AUC = 0.361613027456802\n",
      "[9] AUC = 0.49898560861782276\n",
      "[10] AUC = 0.5011170067153932\n",
      "[11] AUC = 0.46974408432615933\n",
      "[12] AUC = 0.5007922199967413\n",
      "[13] AUC = 0.4779863475798855\n",
      "[14] AUC = 0.4994842406876791\n",
      "[15] AUC = 0.4304767155632432\n",
      "[16] AUC = 0.3474067204402831\n",
      "[17] AUC = 0.49997134670487103\n",
      "[18] AUC = 0.49677289726342655\n",
      "[19] AUC = 0.49871159468232584\n"
     ]
    }
   ],
   "source": [
    "torch.manual_seed(0)\n",
    "\n",
    "nets = model_info_save(\n",
    "    [[i] for i in range(2, 20)],\n",
    "    10, \"one_hiden_initial\",\n",
    "    lc_plot_param = {'last_spes_show':3}\n",
    ")"
   ]
  },
  {
   "cell_type": "markdown",
   "id": "4e7554bf",
   "metadata": {},
   "source": [
    "Понижение learning rate"
   ]
  },
  {
   "cell_type": "code",
   "execution_count": 33,
   "id": "e0da3848",
   "metadata": {},
   "outputs": [
    {
     "name": "stdout",
     "output_type": "stream",
     "text": [
      "[2] AUC = 0.34904326631106514\n",
      "[3] AUC = 0.5016235770042905\n",
      "[4] AUC = 0.500028653295129\n",
      "[5] AUC = 0.500028653295129\n",
      "[6] AUC = 0.5000095510983763\n",
      "[7] AUC = 0.5\n",
      "[8] AUC = 0.5000191021967526\n",
      "[9] AUC = 0.500028653295129\n",
      "[10] AUC = 0.5\n",
      "[11] AUC = 0.5\n",
      "[12] AUC = 0.5\n",
      "[13] AUC = 0.5\n",
      "[14] AUC = 0.5\n",
      "[15] AUC = 0.5\n",
      "[16] AUC = 0.5\n",
      "[17] AUC = 0.5\n",
      "[18] AUC = 0.5\n",
      "[19] AUC = 0.5\n"
     ]
    }
   ],
   "source": [
    "torch.manual_seed(0)\n",
    "\n",
    "nets = model_info_save(\n",
    "    [[i] for i in range(2, 20)],\n",
    "    10, \"one_hiden_lr_0.001\",\n",
    "    fit_params = {'lr':0.001},\n",
    "    lc_plot_param = {'last_spes_show':3}\n",
    ")"
   ]
  },
  {
   "cell_type": "markdown",
   "id": "a384e9a6",
   "metadata": {},
   "source": [
    "Свыше 10 нейронов просто повыходили на плато - пока поработаем с меньшим числом нейронов"
   ]
  },
  {
   "cell_type": "code",
   "execution_count": 35,
   "id": "67605754",
   "metadata": {},
   "outputs": [
    {
     "name": "stdout",
     "output_type": "stream",
     "text": [
      "[2] AUC = 0.3481716312080082\n",
      "[3] AUC = 0.35290927773178693\n",
      "[4] AUC = 0.3571036527328156\n",
      "[5] AUC = 0.3635090713490638\n",
      "[6] AUC = 0.3657611446396175\n",
      "[7] AUC = 0.4996196457480606\n",
      "[8] AUC = 0.3468433921595412\n",
      "[9] AUC = 0.3541380613738989\n"
     ]
    }
   ],
   "source": [
    "torch.manual_seed(0)\n",
    "\n",
    "nets = model_info_save(\n",
    "    [[i] for i in range(2, 10)],\n",
    "    50, \"one_hiden_2_9neurs\",\n",
    "    fit_params = {'lr':0.001},\n",
    "    lc_plot_param = {'last_spes_show':20}\n",
    ")"
   ]
  },
  {
   "cell_type": "markdown",
   "id": "1f6d9907",
   "metadata": {},
   "source": [
    "Попробуем улучшить результаты сети в 8 нейронов"
   ]
  },
  {
   "cell_type": "code",
   "execution_count": 39,
   "id": "c40ac190",
   "metadata": {},
   "outputs": [],
   "source": [
    "import copy\n",
    "\n",
    "test_net = copy.deepcopy(nets[6])\n",
    "\n",
    "optimizer = optim.Adam(\n",
    "    test_net.parameters(), \n",
    "    weight_decay = 0, \n",
    "    lr = 0.001\n",
    ")\n",
    "\n",
    "\n",
    "lr_scheduler = torch.optim.lr_scheduler.ChainedScheduler(\n",
    "    schedulers = [\n",
    "        optim.lr_scheduler.ExponentialLR(\n",
    "            optimizer, 0.8\n",
    "        ),\n",
    "        optim.lr_scheduler.StepLR(\n",
    "            optimizer, 12, 1\n",
    "        )\n",
    "    ]\n",
    ")\n",
    "\n",
    "lc = train(\n",
    "    test_net, optimizer, loss_fn,\n",
    "    train_data_loader, epochs = 150,\n",
    "    lr_scheduler = lr_scheduler\n",
    ")"
   ]
  },
  {
   "cell_type": "code",
   "execution_count": 40,
   "id": "50642c44",
   "metadata": {},
   "outputs": [
    {
     "data": {
      "image/png": "[encoded data removed]",
      "text/plain": [
       "<Figure size 936x504 with 2 Axes>"
      ]
     },
     "metadata": {
      "needs_background": "light"
     },
     "output_type": "display_data"
    }
   ],
   "source": [
    "probs_hat = test_net(\n",
    "    torch.tensor(X_test.astype('float32'))\n",
    ").detach().numpy()\n",
    "\n",
    "auc = roc_auc_score(y_test, probs_hat)\n",
    "\n",
    "lc_plot_report_to_file(\n",
    "    lc, \"fiting_results3_small_data/manual_models_results/8_test.png\",\n",
    "    np.round(auc, 7),\n",
    "    lc_param = {\n",
    "        'start_show':0,\n",
    "        'last_spes_show':10\n",
    "    }\n",
    ")"
   ]
  }
 ],
 "metadata": {
  "kernelspec": {
   "display_name": "Python 3 (ipykernel)",
   "language": "python",
   "name": "python3"
  },
  "language_info": {
   "codemirror_mode": {
    "name": "ipython",
    "version": 3
   },
   "file_extension": ".py",
   "mimetype": "text/x-python",
   "name": "python",
   "nbconvert_exporter": "python",
   "pygments_lexer": "ipython3",
   "version": "3.10.4"
  }
 },
 "nbformat": 4,
 "nbformat_minor": 5
}
