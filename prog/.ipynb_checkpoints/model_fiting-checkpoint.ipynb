{
 "cells": [
  {
   "cell_type": "markdown",
   "id": "e1370da3",
   "metadata": {},
   "source": [
    "# Нейрнная сеть для оценки вероятности выхода в дефолт"
   ]
  },
  {
   "cell_type": "code",
   "execution_count": 25,
   "id": "d88828aa",
   "metadata": {},
   "outputs": [],
   "source": [
    "import pandas as pd\n",
    "import numpy as np\n",
    "\n",
    "from sklearn.preprocessing import OneHotEncoder"
   ]
  },
  {
   "cell_type": "markdown",
   "id": "552be373",
   "metadata": {},
   "source": [
    "# Загрузка и подговтовка данных"
   ]
  },
  {
   "cell_type": "code",
   "execution_count": 26,
   "id": "ea32aad1",
   "metadata": {},
   "outputs": [],
   "source": [
    "data = pd.read_csv(\"/home/dranik/KFA/university/proc_2.csv\", index_col = 0)\n",
    "\n",
    "X = data.drop('Y',axis = 1)\n",
    "Y = data['Y']"
   ]
  },
  {
   "cell_type": "markdown",
   "id": "5aedee76",
   "metadata": {},
   "source": [
    "Нужно проветси One Hot Encoding"
   ]
  },
  {
   "cell_type": "code",
   "execution_count": 33,
   "id": "c85635eb",
   "metadata": {},
   "outputs": [
    {
     "data": {
      "text/plain": [
       "array([[1., 0., 0., ..., 0., 0., 0.],\n",
       "       [0., 0., 0., ..., 4., 8., 0.],\n",
       "       [0., 0., 0., ..., 2., 0., 0.],\n",
       "       ...,\n",
       "       [0., 0., 0., ..., 0., 0., 0.],\n",
       "       [0., 0., 0., ..., 0., 0., 0.],\n",
       "       [0., 0., 0., ..., 0., 0., 0.]])"
      ]
     },
     "execution_count": 33,
     "metadata": {},
     "output_type": "execute_result"
    }
   ],
   "source": [
    "np.concatenate([\n",
    "    OneHotEncoder(sparse = False).fit_transform(X.loc[:,X.dtypes == \"O\"]),\n",
    "    X.loc[:,X.dtypes != \"O\"].to_numpy()\n",
    "], axis = 1)"
   ]
  }
 ],
 "metadata": {
  "kernelspec": {
   "display_name": "Python 3 (ipykernel)",
   "language": "python",
   "name": "python3"
  },
  "language_info": {
   "codemirror_mode": {
    "name": "ipython",
    "version": 3
   },
   "file_extension": ".py",
   "mimetype": "text/x-python",
   "name": "python",
   "nbconvert_exporter": "python",
   "pygments_lexer": "ipython3",
   "version": "3.10.4"
  }
 },
 "nbformat": 4,
 "nbformat_minor": 5
}
