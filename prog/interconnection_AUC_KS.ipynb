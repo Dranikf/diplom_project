{
 "cells": [
  {
   "cell_type": "markdown",
   "id": "722cf250",
   "metadata": {},
   "source": [
    "# Подтверждение взаимосвязи ROC анализа и KS на числах\n",
    "\n",
    "План следующи построим простенькую модель - на ней посчитаем fpr, tpr и KS, показем взаимосвязь"
   ]
  },
  {
   "cell_type": "code",
   "execution_count": 16,
   "id": "15a9f6c5",
   "metadata": {},
   "outputs": [],
   "source": [
    "import numpy as np"
   ]
  },
  {
   "cell_type": "markdown",
   "id": "2527f2e4",
   "metadata": {},
   "source": [
    "# Случайный набор данных"
   ]
  },
  {
   "cell_type": "code",
   "execution_count": null,
   "id": "8a487f85",
   "metadata": {},
   "outputs": [],
   "source": [
    "import matplotlib.pyplot as plt"
   ]
  },
  {
   "cell_type": "markdown",
   "id": "4e64e8bf",
   "metadata": {},
   "source": [
    "Настройки генератора"
   ]
  },
  {
   "cell_type": "code",
   "execution_count": 55,
   "id": "919435f2",
   "metadata": {},
   "outputs": [],
   "source": [
    "# объемы различных подвыборок\n",
    "n_count = 300\n",
    "p_count = 200\n",
    "\n",
    "n = n_count + p_count\n",
    "\n",
    "# дисперсия характеризующая разброс\n",
    "sigma = 0.3"
   ]
  },
  {
   "cell_type": "markdown",
   "id": "42cee87d",
   "metadata": {},
   "source": [
    "Генерация"
   ]
  },
  {
   "cell_type": "code",
   "execution_count": 64,
   "id": "98fa5c24",
   "metadata": {},
   "outputs": [],
   "source": [
    "X1 = np.concatenate([\n",
    "    np.random.normal(0.2, sigma, n_count),\n",
    "    np.random.normal(0.8, sigma, p_count)\n",
    "]).reshape(n,1)\n",
    "X2 = np.concatenate([\n",
    "    np.random.normal(0.8, sigma, n_count),\n",
    "    np.random.normal(0.2, sigma, p_count)\n",
    "]).reshape(n,1)\n",
    "\n",
    "\n",
    "Y = np.concatenate([\n",
    "    np.zeros(n_count).astype('bool'),\n",
    "    np.ones(p_count).astype('bool')\n",
    "])\n",
    "\n",
    "X = np.concatenate([X1, X2], axis = 1)"
   ]
  },
  {
   "cell_type": "markdown",
   "id": "eca76437",
   "metadata": {},
   "source": [
    "Визуализация того, что получилось"
   ]
  },
  {
   "cell_type": "code",
   "execution_count": 65,
   "id": "2f7ac153",
   "metadata": {},
   "outputs": [
    {
     "data": {
      "image/png": "[encoded data removed]",
      "text/plain": [
       "<Figure size 720x720 with 1 Axes>"
      ]
     },
     "metadata": {
      "needs_background": "light"
     },
     "output_type": "display_data"
    }
   ],
   "source": [
    "def draw_my_scatter(X1,X2,Y):\n",
    "    plt.scatter(X1[np.invert(Y)], X2[np.invert(Y)], color = 'blue')\n",
    "    plt.scatter(X1[Y], X2[Y], color = 'red')\n",
    "\n",
    "    plt.xlabel('$x_1$', fontsize = 15)\n",
    "    plt.ylabel('$x_2$', fontsize = 15)\n",
    "    plt.legend(['класс1', 'класс2'], fontsize = 14)\n",
    "\n",
    "plt.figure(figsize = (10,10))\n",
    "draw_my_scatter(X1, X2, Y)"
   ]
  },
  {
   "cell_type": "markdown",
   "id": "e2d4fdba",
   "metadata": {},
   "source": [
    "# Строим модель"
   ]
  },
  {
   "cell_type": "code",
   "execution_count": 66,
   "id": "9231811f",
   "metadata": {},
   "outputs": [],
   "source": [
    "from sklearn.linear_model import LogisticRegression\n",
    "from sklearn.metrics import roc_curve"
   ]
  },
  {
   "cell_type": "code",
   "execution_count": 67,
   "id": "4131f6ac",
   "metadata": {},
   "outputs": [],
   "source": [
    "model = LogisticRegression().fit(X, Y.ravel())\n",
    "probs_hat = model.predict_proba(X)[:,1]"
   ]
  },
  {
   "cell_type": "markdown",
   "id": "30c50d25",
   "metadata": {},
   "source": [
    "# Считаем метрики"
   ]
  },
  {
   "cell_type": "markdown",
   "id": "12b2ed72",
   "metadata": {},
   "source": [
    "Сначала KS"
   ]
  },
  {
   "cell_type": "code",
   "execution_count": 68,
   "id": "0b36d571",
   "metadata": {},
   "outputs": [
    {
     "data": {
      "text/plain": [
       "KstestResult(statistic=0.8633333333333333, pvalue=0.0)"
      ]
     },
     "execution_count": 68,
     "metadata": {},
     "output_type": "execute_result"
    }
   ],
   "source": [
    "from scipy.stats import kstest\n",
    "\n",
    "# сравниваем предсказанные вероятности\n",
    "# дефолтников и недефолтников\n",
    "kstest(probs_hat[Y.ravel()], probs_hat[np.invert(Y.ravel())])"
   ]
  },
  {
   "cell_type": "markdown",
   "id": "a34484ae",
   "metadata": {},
   "source": [
    "Вычислим fpr, tpr для различных точек отсечения"
   ]
  },
  {
   "cell_type": "code",
   "execution_count": 72,
   "id": "7728d672",
   "metadata": {},
   "outputs": [],
   "source": [
    "from sklearn.metrics import roc_curve\n",
    "\n",
    "fpr, tpr, thresholds = roc_curve(Y, probs_hat)"
   ]
  },
  {
   "cell_type": "markdown",
   "id": "57eb124c",
   "metadata": {},
   "source": [
    "Теперь почитам максимальное расстояние между FPR и TPR"
   ]
  },
  {
   "cell_type": "code",
   "execution_count": 73,
   "id": "b9aac952",
   "metadata": {},
   "outputs": [
    {
     "data": {
      "text/plain": [
       "0.8633333333333334"
      ]
     },
     "execution_count": 73,
     "metadata": {},
     "output_type": "execute_result"
    }
   ],
   "source": [
    "np.max(np.abs(fpr - tpr))"
   ]
  },
  {
   "cell_type": "markdown",
   "id": "519029ed",
   "metadata": {},
   "source": [
    "# Вывод\n",
    "\n",
    "Максимальное расстояние между FPR и TRP и есть AUC. Что в целом логично ведь KS стастистика в данном случае:\n",
    "\n",
    "$$KS = argmax_{p}(|\\hat{F}_n(p)-\\hat{F}_p(p)|)$$\n",
    "\n",
    "Где $p$ - предсказанное моделью значение;<br>\n",
    "    $\\hat{F}_p(x)$ - функция распределения по $p$ наблюдений c исследуемым признаком; <br>\n",
    "    $\\hat{F}_n(x)$ - функция распределения по $p$ наблюдений без исследуемого признака.\n",
    "    \n",
    "А fpr и tpr могут быть записаны так:\n",
    "\n",
    "$$FPR(p) = 1 - \\hat{F}_n(p)$$\n",
    "$$TPR(p) = 1 - \\hat{F}_p(p)$$\n",
    "\n",
    "Где $p$ - таже самая вероятность, но уже выбираемая исследователем, по смыслу - точка отсечения.\n",
    "\n",
    "Теперь запишем закономерность на которую я хотел обратить внимание.\n",
    "\n",
    "$$argmax_{p}(|FPR(p)-TPR(p)|) = argmax_p(|1 - \\hat{F}_n(p) - (1 - \\hat{F}_p(p))|) = argmax_{p}(|\\hat{F}_n(p)-\\hat{F}_p(p)|) = KS$$"
   ]
  }
 ],
 "metadata": {
  "kernelspec": {
   "display_name": "Python 3 (ipykernel)",
   "language": "python",
   "name": "python3"
  },
  "language_info": {
   "codemirror_mode": {
    "name": "ipython",
    "version": 3
   },
   "file_extension": ".py",
   "mimetype": "text/x-python",
   "name": "python",
   "nbconvert_exporter": "python",
   "pygments_lexer": "ipython3",
   "version": "3.10.2"
  }
 },
 "nbformat": 4,
 "nbformat_minor": 5
}
