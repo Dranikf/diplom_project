{
 "cells": [
  {
   "cell_type": "markdown",
   "id": "167d44b4",
   "metadata": {},
   "source": [
    "# Анализ данных и проверка методов обработки данных 1"
   ]
  },
  {
   "cell_type": "code",
   "execution_count": 1,
   "id": "c3f37725",
   "metadata": {},
   "outputs": [],
   "source": [
    "import pandas as pd\n",
    "import numpy as np\n",
    "\n",
    "from data_description import get_data_frame_settings\n",
    "from processing import obj_to_cat"
   ]
  },
  {
   "cell_type": "markdown",
   "id": "2cbbc34c",
   "metadata": {},
   "source": [
    "# Загрузка данных"
   ]
  },
  {
   "cell_type": "code",
   "execution_count": 2,
   "id": "8527f6ed",
   "metadata": {},
   "outputs": [],
   "source": [
    "#data = pd.read_excel(\"/home/dranik/KFA/university/input_data_diprom.xlsx\")"
   ]
  },
  {
   "cell_type": "code",
   "execution_count": 3,
   "id": "714237fd",
   "metadata": {},
   "outputs": [],
   "source": [
    "#data.to_csv(\"/home/dranik/KFA/university/input_data_diprom.csv\", index = None)\n",
    "data = pd.read_csv(\n",
    "    \"/home/dranik/KFA/university/input_data_diprom.csv\", \n",
    "    na_values = ['-', 'нет информации'],\n",
    "    parse_dates = [\n",
    "        'Автомобиль год выпуска1',\n",
    "        'Автомобиль год выпуска2',\n",
    "        'Автомобиль год выпуска3',\n",
    "        'Дата регистрации договора',\n",
    "        'Дата рождения',\n",
    "        'Дата планируемого закрытия',\n",
    "        'Дата фактического закрытия'\n",
    "    ],\n",
    "    low_memory = False\n",
    ")"
   ]
  },
  {
   "cell_type": "markdown",
   "id": "aae2db20",
   "metadata": {},
   "source": [
    "# Выпишем начальные настройки данных"
   ]
  },
  {
   "cell_type": "code",
   "execution_count": 4,
   "id": "a7516a44",
   "metadata": {},
   "outputs": [],
   "source": [
    "get_data_frame_settings(data).to_excel(\n",
    "   'result/describe_predictors/1_initial.xlsx'\n",
    ")"
   ]
  },
  {
   "cell_type": "code",
   "execution_count": 5,
   "id": "f6158505",
   "metadata": {},
   "outputs": [
    {
     "data": {
      "text/plain": [
       "(247062, 45)"
      ]
     },
     "execution_count": 5,
     "metadata": {},
     "output_type": "execute_result"
    }
   ],
   "source": [
    "data.shape"
   ]
  },
  {
   "cell_type": "markdown",
   "id": "322bbc60",
   "metadata": {},
   "source": [
    "# Преобразования данных"
   ]
  },
  {
   "cell_type": "markdown",
   "id": "16db5979",
   "metadata": {},
   "source": [
    "## Удаления"
   ]
  },
  {
   "cell_type": "markdown",
   "id": "020168dc",
   "metadata": {},
   "source": [
    "Столбцы которе никак не обработать"
   ]
  },
  {
   "cell_type": "code",
   "execution_count": 6,
   "id": "fbc309d9",
   "metadata": {},
   "outputs": [],
   "source": [
    "data.drop(\n",
    "    [\n",
    "        \"Место работы\", \"Кредитный продукт\",\n",
    "        \"Вид деятельности по ОКЭД\"\n",
    "    ], \n",
    "    axis = 1, inplace = True\n",
    ")"
   ]
  },
  {
   "cell_type": "markdown",
   "id": "2fe2658c",
   "metadata": {},
   "source": [
    "Будем строить модель без овердрафтов - у них отдельная специфика"
   ]
  },
  {
   "cell_type": "code",
   "execution_count": 7,
   "id": "5b053814",
   "metadata": {},
   "outputs": [],
   "source": [
    "data =  data[data[\"Овердрафт\"] == \"нет\"]\n",
    "data.drop(\"Овердрафт\", axis = 1, inplace = True)"
   ]
  },
  {
   "cell_type": "markdown",
   "id": "b2064a55",
   "metadata": {},
   "source": [
    "Некоторые столбцы просто не могут быть получены при регистрации заявки - их нужно удалить"
   ]
  },
  {
   "cell_type": "code",
   "execution_count": 8,
   "id": "a728778c",
   "metadata": {},
   "outputs": [],
   "source": [
    "data.drop([\n",
    "    'Отношение факт срока к плановому при прекращении КД',\n",
    "    'Причина прекращения договора',\n",
    "    'Дата фактического закрытия'\n",
    "],axis = 1, inplace = True)"
   ]
  },
  {
   "cell_type": "code",
   "execution_count": 9,
   "id": "0b4e97d2",
   "metadata": {},
   "outputs": [],
   "source": [
    "get_data_frame_settings(data).to_excel('result/describe_predictors/2_delete.xlsx')"
   ]
  },
  {
   "cell_type": "markdown",
   "id": "380c7fc6",
   "metadata": {},
   "source": [
    "## Все что связано с датами"
   ]
  },
  {
   "cell_type": "markdown",
   "id": "022a6dc3-3132-4b2d-b77d-bc54a0872a6c",
   "metadata": {},
   "source": [
    "Когда был оформлен самый свежий контракт?"
   ]
  },
  {
   "cell_type": "code",
   "execution_count": 10,
   "id": "4a36b8fa-1b1e-496f-842e-519c6b850d17",
   "metadata": {},
   "outputs": [
    {
     "data": {
      "text/plain": [
       "Timestamp('2020-12-21 00:00:00')"
      ]
     },
     "execution_count": 10,
     "metadata": {},
     "output_type": "execute_result"
    }
   ],
   "source": [
    "data['Дата регистрации договора'].max()"
   ]
  },
  {
   "cell_type": "markdown",
   "id": "8010543c",
   "metadata": {},
   "source": [
    "Автомобили - подозрительные столбцы, но с него можно нарезать еще столбцов"
   ]
  },
  {
   "cell_type": "code",
   "execution_count": 11,
   "id": "106e5266",
   "metadata": {},
   "outputs": [],
   "source": [
    "data['Автомобиль год выпуска'] = data.iloc[:,[0,1,2]].apply(\n",
    "    np.max, axis = 1\n",
    ")\n",
    "data['Число авто'] = data.iloc[:,[0,1,2]].apply(\n",
    "    lambda x: (3 - sum(x.isna())), axis = 1\n",
    ")\n",
    "data['Есть авто'] = data['Число авто'].apply(\n",
    "    lambda x: \"есть\" if x != 0 else \"нет\"\n",
    ").astype('category')"
   ]
  },
  {
   "cell_type": "markdown",
   "id": "c2cc0ccf",
   "metadata": {},
   "source": [
    "Дата регистрации договора и дата планируемого закрытия сами по себе бесполезные столбцы - но вот их разность даёт срок кредита."
   ]
  },
  {
   "cell_type": "code",
   "execution_count": 12,
   "id": "47236413",
   "metadata": {},
   "outputs": [],
   "source": [
    "data['Срок кредита в днях'] = \\\n",
    "(data['Дата планируемого закрытия'] - data['Дата регистрации договора'])\\\n",
    ".astype('timedelta64[D]')\n",
    "\n",
    "data.drop([\n",
    "    'Дата планируемого закрытия',\n",
    "    'Дата регистрации договора'\n",
    "], axis = 1, inplace = True)"
   ]
  },
  {
   "cell_type": "markdown",
   "id": "b2fb8da4",
   "metadata": {},
   "source": [
    "Из срока и суммы договора можно составить еще один очень логичный проказатель - ежедневный платеж"
   ]
  },
  {
   "cell_type": "code",
   "execution_count": 13,
   "id": "f164754c",
   "metadata": {},
   "outputs": [],
   "source": [
    "data['Ежедневный платеж'] = \\\n",
    "data['Сумма договора'] / data['Срок кредита в днях']"
   ]
  },
  {
   "cell_type": "markdown",
   "id": "d51c53d1",
   "metadata": {},
   "source": [
    "Из дат делаем число дней - это приемлемый формат для модели"
   ]
  },
  {
   "cell_type": "code",
   "execution_count": 14,
   "id": "fec4c757",
   "metadata": {},
   "outputs": [],
   "source": [
    "def date_to_int(date_col):\n",
    "    return (date_col - pd.Timestamp('19911208')).astype('timedelta64[D]')\n",
    "\n",
    "date_cols_cond = data.apply(pd.api.types.is_datetime64_any_dtype)\n",
    "data.loc[:, date_cols_cond] = \\\n",
    "data.loc[:,date_cols_cond].apply(date_to_int)"
   ]
  },
  {
   "cell_type": "markdown",
   "id": "555f8ea1",
   "metadata": {},
   "source": [
    "## Адрес проживания - населенный пункт"
   ]
  },
  {
   "cell_type": "markdown",
   "id": "921fa6ab",
   "metadata": {},
   "source": [
    "В первую очередь, конечно, нужно поработать с записью. Вот, например, в выборке есть записи в которых написано \"могилев\" через \"е\" и с маленькой буквы."
   ]
  },
  {
   "cell_type": "code",
   "execution_count": 15,
   "id": "cf413909",
   "metadata": {},
   "outputs": [
    {
     "data": {
      "text/plain": [
       "51"
      ]
     },
     "execution_count": 15,
     "metadata": {},
     "output_type": "execute_result"
    }
   ],
   "source": [
    "data.loc[\n",
    "    data[\"Адрес проживания - Населенный пункт\"] == \"могилев\"\n",
    "].shape[0]"
   ]
  },
  {
   "cell_type": "markdown",
   "id": "587193fb",
   "metadata": {},
   "source": [
    "Проведем преобразование - все символы в нижний регистр, все ё заменим на е и удалим возможные пробелы по сторонам стоки"
   ]
  },
  {
   "cell_type": "code",
   "execution_count": 16,
   "id": "6ce997d5",
   "metadata": {},
   "outputs": [],
   "source": [
    "data[\"Адрес проживания - Населенный пункт\"] = \\\n",
    "data[\"Адрес проживания - Населенный пункт\"].\\\n",
    "str.lower().\\\n",
    "str.replace(\"ё\", \"е\").\\\n",
    "str.strip()"
   ]
  },
  {
   "cell_type": "markdown",
   "id": "1fc7d4ab",
   "metadata": {},
   "source": [
    "Первое преобразование, можно разбить на бинарную пременную \"Столица\" - да/нет"
   ]
  },
  {
   "cell_type": "code",
   "execution_count": 17,
   "id": "57a95f9f",
   "metadata": {},
   "outputs": [],
   "source": [
    "data.loc[\n",
    "    data['Адрес проживания - Населенный пункт'] == \"минск\",\n",
    "    \"Столица\"\n",
    "] = \"Да\"\n",
    "data.loc[\n",
    "    data['Адрес проживания - Населенный пункт'] != \"минск\",\n",
    "    \"Столица\"\n",
    "] = \"Нет\""
   ]
  },
  {
   "cell_type": "markdown",
   "id": "d328b546",
   "metadata": {},
   "source": [
    "Так же можно использовать еще и областные центры.<br>\n",
    "1) Бинарная переменна да/нет;<br>\n",
    "2) Можно оставить их сами по себе а всем остальным дать - \"Прочее\"."
   ]
  },
  {
   "cell_type": "code",
   "execution_count": 18,
   "id": "56062ee8",
   "metadata": {},
   "outputs": [],
   "source": [
    "area_centers = [\n",
    "    \"минск\", \"брест\", \"гродно\", \n",
    "    \"витебск\", \"могилев\", \"гомель\"\n",
    "]\n",
    "\n",
    "data.loc[\n",
    "    data[\"Адрес проживания - Населенный пункт\"].isin(area_centers),\n",
    "    \"Областной центр\"\n",
    "] = \"Да\"\n",
    "data.loc[\n",
    "    np.invert(\n",
    "        data[\"Адрес проживания - Населенный пункт\"].isin(area_centers)\n",
    "    ),\n",
    "    \"Областной центр\"\n",
    "] = \"Нет\""
   ]
  },
  {
   "cell_type": "code",
   "execution_count": 19,
   "id": "3c4a411a",
   "metadata": {},
   "outputs": [],
   "source": [
    "data.loc[\n",
    "    np.invert(\n",
    "        data[\"Адрес проживания - Населенный пункт\"].isin(area_centers)\n",
    "    ),\n",
    "    \"Адрес проживания - Населенный пункт\"\n",
    "] = \"другой\""
   ]
  },
  {
   "cell_type": "markdown",
   "id": "8e2f68ee",
   "metadata": {},
   "source": [
    "## Дефолт"
   ]
  },
  {
   "cell_type": "code",
   "execution_count": 20,
   "id": "9a5abc54",
   "metadata": {},
   "outputs": [],
   "source": [
    "data['Y'] = (data['Дефолт'] >= 60).astype('int32')\n",
    "data.drop('Дефолт', axis = 1, inplace = True)"
   ]
  },
  {
   "cell_type": "markdown",
   "id": "38797f38",
   "metadata": {},
   "source": [
    "# Сохранение результата"
   ]
  },
  {
   "cell_type": "code",
   "execution_count": 21,
   "id": "fddc6dd7",
   "metadata": {},
   "outputs": [],
   "source": [
    "get_data_frame_settings(data).\\\n",
    "to_excel('result/describe_predictors/3_basic_transform.xlsx')"
   ]
  },
  {
   "cell_type": "code",
   "execution_count": 22,
   "id": "e6a35712",
   "metadata": {},
   "outputs": [],
   "source": [
    "data.to_csv(\"/home/dranik/KFA/university/proc_1.csv\")"
   ]
  }
 ],
 "metadata": {
  "kernelspec": {
   "display_name": "Python 3 (ipykernel)",
   "language": "python",
   "name": "python3"
  },
  "language_info": {
   "codemirror_mode": {
    "name": "ipython",
    "version": 3
   },
   "file_extension": ".py",
   "mimetype": "text/x-python",
   "name": "python",
   "nbconvert_exporter": "python",
   "pygments_lexer": "ipython3",
   "version": "3.10.4"
  }
 },
 "nbformat": 4,
 "nbformat_minor": 5
}
