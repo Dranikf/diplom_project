{
 "cells": [
  {
   "cell_type": "markdown",
   "id": "697999f6-fd52-4269-99a0-87b2ab7918ec",
   "metadata": {},
   "source": [
    "# Расчет выйгрыша на каждом клиенте"
   ]
  },
  {
   "cell_type": "code",
   "execution_count": 3,
   "id": "4feeb948-83f7-432e-a722-2c4709abb360",
   "metadata": {},
   "outputs": [],
   "source": [
    "import pandas as pd\n",
    "\n",
    "# данные о каждом из клиентов\n",
    "data = pd.read_csv(\n",
    "    \"/home/dranik/KFA/university/input_data_diprom.csv\", \n",
    "    na_values = ['-', 'нет информации'],\n",
    "    parse_dates = [\n",
    "        'Автомобиль год выпуска1',\n",
    "        'Автомобиль год выпуска2',\n",
    "        'Автомобиль год выпуска3',\n",
    "        'Дата регистрации договора',\n",
    "        'Дата рождения',\n",
    "        'Дата планируемого закрытия',\n",
    "        'Дата фактического закрытия'\n",
    "    ],\n",
    "    low_memory = False\n",
    ")\n",
    "\n",
    "# данные о процентных ставках\n",
    "interest_rates = pd.read_excel(\n",
    "    \"/home/dranik/KFA/university/diplom_project/prog/interest rates/interest_rantes.xlsx\",\n",
    "    index_col = 0)"
   ]
  },
  {
   "cell_type": "markdown",
   "id": "f4f9b51c-6498-4337-b9b9-a3fecf42da03",
   "metadata": {},
   "source": [
    "# Вычислительные функции"
   ]
  },
  {
   "cell_type": "code",
   "execution_count": 39,
   "id": "16409316-723b-48b3-8f78-4fe6973c16fc",
   "metadata": {},
   "outputs": [],
   "source": [
    "def get_int_rate(reg_date, term):\n",
    "    '''Получение процентной ставки для выбранного клиента'''\n",
    "    int_rate_ind = \\\n",
    "        (reg_date > interest_rates.index).sum()\n",
    "    \n",
    "    possible_rates = interest_rates.iloc[int_rate_ind - 1]\n",
    "    \n",
    "    if term < 365:\n",
    "        rate = possible_rates[0]\n",
    "    else:\n",
    "        rate = possible_rates[1]\n",
    "        \n",
    "    return rate\n",
    "\n",
    "def comput_vaits_return(def_inf, PV, FV):\n",
    "    '''\n",
    "        Вычисление того сколько ожидается возврата от клиента.\n",
    "        Предполагается, что любой клиент с просрочкой ниже 60 дн.\n",
    "        рано или поздно вернет кредит потому это будет наращенная сумма.\n",
    "        Для \"безнадежных\" клиентов предполагаеются потери в размере\n",
    "        разницы суммы того, что он должен был вернуть и успел вернуть.\n",
    "    '''\n",
    "    if def_inf <= 60:\n",
    "        return FV - PV\n",
    "    \n",
    "    \n",
    "    #client_info[]"
   ]
  },
  {
   "cell_type": "code",
   "execution_count": 56,
   "id": "4c4b3353-ff27-4fc7-b594-f30ad4b739aa",
   "metadata": {},
   "outputs": [
    {
     "data": {
      "text/plain": [
       "datetime.date(2020, 12, 27)"
      ]
     },
     "execution_count": 56,
     "metadata": {},
     "output_type": "execute_result"
    }
   ],
   "source": [
    "from datetime import date, timedelta\n",
    "date(2021, 1,1) - timedelta(days = 5)"
   ]
  },
  {
   "cell_type": "markdown",
   "id": "be4ec352-c77b-4195-89a6-9b256ff7b53c",
   "metadata": {},
   "source": [
    "# Применяем вычисления ко всему множеству строк в DataFrame\n",
    "Удалив только наблюдения, что имеют пропуск в \"дата пранируемого закрытия\" - это почти всегда \"Овердрафт\" и сохраняем результат."
   ]
  },
  {
   "cell_type": "code",
   "execution_count": 45,
   "id": "c070ef1b-0503-4c47-93b2-d79eb11b9831",
   "metadata": {},
   "outputs": [],
   "source": [
    "data = data.dropna(subset = \"Дата планируемого закрытия\")\n",
    "\n",
    "data['Срок кредита дн.'] = \\\n",
    "    (data[\"Дата планируемого закрытия\"] - data[\"Дата регистрации договора\"]).\\\n",
    "    astype('timedelta64[D]')\n",
    "data['Процентная ставка'] = data.apply(\n",
    "    lambda client_info: get_int_rate(client_info[\"Дата регистрации договора\"],\n",
    "                                    client_info[\"Срок кредита дн.\"]),\n",
    "    axis = 1)\n",
    "data[\"Сумма к возврату\"] = \\\n",
    "    data['Сумма договора']*(1 + data['Процентная ставка']/36000)**\\\n",
    "    data['Срок кредита дн.']\n",
    "\n",
    "\n",
    "# # compute_profit(data.iloc[1])\n",
    "# # data.iloc[1][\"Сумма договора\"]\n",
    "# data[\"Сумма возврата\"] = data.apply(compute_profit, axis = 1)\n",
    "\n",
    "# data[[\"Сумма договора\", \"Сумма возврата\"]].\\\n",
    "#     to_csv(\"/home/dranik/KFA/university/proc_ret_sum.csv\")"
   ]
  }
 ],
 "metadata": {
  "kernelspec": {
   "display_name": "Python 3 (ipykernel)",
   "language": "python",
   "name": "python3"
  },
  "language_info": {
   "codemirror_mode": {
    "name": "ipython",
    "version": 3
   },
   "file_extension": ".py",
   "mimetype": "text/x-python",
   "name": "python",
   "nbconvert_exporter": "python",
   "pygments_lexer": "ipython3",
   "version": "3.10.4"
  }
 },
 "nbformat": 4,
 "nbformat_minor": 5
}
