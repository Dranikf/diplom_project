{
 "cells": [
  {
   "cell_type": "markdown",
   "id": "70029c20-225f-41fe-bf82-59315f740c54",
   "metadata": {},
   "source": [
    "# One hot encoding и train test split"
   ]
  },
  {
   "cell_type": "code",
   "execution_count": 1,
   "id": "f9a902a8-840d-451a-b384-34660b31972d",
   "metadata": {},
   "outputs": [],
   "source": [
    "import pandas as pd\n",
    "import numpy as np\n",
    "\n",
    "\n",
    "import os\n",
    "import os.path as os_path\n",
    "\n",
    "from sklearn.preprocessing import OneHotEncoder\n",
    "from sklearn.model_selection import train_test_split\n",
    "from sklearn.preprocessing import normalize\n",
    "\n",
    "# current project file name\n",
    "cpfn = \"diplom_project\"\n",
    "\n",
    "curr_dir = os.getcwd()\n",
    "curr_dir = os_path.join(curr_dir[:curr_dir.find(cpfn)], cpfn)\n",
    "data_storage = os_path.join(curr_dir, \"data_storage\")\n",
    "model_data_dir = os_path.join(data_storage, \"proc_2\")\n",
    "fresh_data_dir = os_path.join(data_storage, \"proc_old_model\")\n",
    "fiting_and_valid_fold = os_path.join(data_storage, \"fiting_and_valid\")\n",
    "\n",
    "prog_fold = os_path.join(curr_dir, \"prog\")\n",
    "data_proc_fold = os_path.join(prog_fold, \"data_processing\")\n",
    "result_fold = os_path.join(data_proc_fold, 'result')\n",
    "data_struct_dir = os_path.join(result_fold, \"data_struct_by_default\")"
   ]
  },
  {
   "cell_type": "markdown",
   "id": "788ec4ee-4099-4b21-bfb8-aae326d3e093",
   "metadata": {},
   "source": [
    "# Загрузка данных"
   ]
  },
  {
   "cell_type": "code",
   "execution_count": 2,
   "id": "796acf9c-1cdc-426b-a7a4-5ac1f66dc8f8",
   "metadata": {},
   "outputs": [],
   "source": [
    "model_data = pd.read_csv(model_data_dir + '.csv', index_col = 0)\n",
    "fresh_data = pd.read_csv(fresh_data_dir + '.csv', index_col = 0)\n",
    "\n",
    "\n",
    "model_Y = model_data['Y']\n",
    "fresh_Y = model_data['Y']\n",
    "\n",
    "model_X = model_data.drop('Y', axis = 1)\n",
    "fresh_X = fresh_data.drop('Y', axis = 1)\n"
   ]
  },
  {
   "cell_type": "markdown",
   "id": "5258afa9-5bfd-4677-9b5c-96dd3f08b4b4",
   "metadata": {},
   "source": [
    "# One hot encoding"
   ]
  },
  {
   "cell_type": "code",
   "execution_count": 3,
   "id": "08ac930f-615f-43e4-aaa1-0e6082c7380e",
   "metadata": {},
   "outputs": [],
   "source": [
    "ohe = OneHotEncoder(sparse = False).fit(\n",
    "    model_X\\\n",
    "    .loc[:,model_X.dtypes == \"O\"]\n",
    ")\n",
    "\n",
    "\n",
    "model_X_ohe = pd.concat([\n",
    "    pd.DataFrame(\n",
    "        ohe.transform(model_X.loc[:,model_X.dtypes == \"O\"]),\n",
    "        columns = ohe.get_feature_names_out(),\n",
    "        index = model_X.index),\n",
    "    model_X.loc[:, model_X.dtypes != \"O\"]],\n",
    "    axis = 1)\n",
    "\n",
    "fresh_X_ohe = pd.concat([\n",
    "    pd.DataFrame(\n",
    "        ohe.transform(fresh_X.loc[:,fresh_X.dtypes == \"O\"]),\n",
    "        columns = ohe.get_feature_names_out(),\n",
    "        index = fresh_X.index),\n",
    "    fresh_X.loc[:, fresh_X.dtypes != 'O']],\n",
    "    axis = 1)"
   ]
  },
  {
   "cell_type": "markdown",
   "id": "c62389ff-b75f-4acf-91a1-50fa3bf942e0",
   "metadata": {},
   "source": [
    "# Normalization"
   ]
  },
  {
   "cell_type": "code",
   "execution_count": 4,
   "id": "06ffd563-fba7-484f-a7a0-cb802c80c0f4",
   "metadata": {},
   "outputs": [],
   "source": [
    "model_X_ohe = pd.DataFrame(\n",
    "    normalize(model_X_ohe.to_numpy()), columns = model_X_ohe.columns, \n",
    "    index = model_X_ohe.index)"
   ]
  },
  {
   "cell_type": "markdown",
   "id": "3edf6c3e-d0e5-4a8f-8fd8-ed33fdccaa8b",
   "metadata": {},
   "source": [
    "# Train test split"
   ]
  },
  {
   "cell_type": "code",
   "execution_count": 5,
   "id": "9d925069-d6b2-4894-832f-f3f32ebc5e71",
   "metadata": {},
   "outputs": [],
   "source": [
    "model_X_train, model_X_test, model_Y_train, model_Y_test = train_test_split(\n",
    "    model_X_ohe, model_Y, random_state = 0, stratify = model_Y)"
   ]
  },
  {
   "cell_type": "markdown",
   "id": "27eefb20-b0db-441f-b43e-1658abb9ec9f",
   "metadata": {},
   "source": [
    "# Сохранение результата"
   ]
  },
  {
   "cell_type": "code",
   "execution_count": 6,
   "id": "c0a88a05-304b-40ee-a3aa-88478ed597ec",
   "metadata": {},
   "outputs": [],
   "source": [
    "model_X_train.to_csv(os_path.join(fiting_and_valid_fold, \"X_train.csv\"))\n",
    "model_X_test.to_csv(os_path.join(fiting_and_valid_fold, \"X_test.csv\"))\n",
    "model_Y_train.to_csv(os_path.join(fiting_and_valid_fold, \"Y_train.csv\"))\n",
    "model_Y_test.to_csv(os_path.join(fiting_and_valid_fold, \"Y_test.csv\"))\n",
    "\n",
    "fresh_X_ohe.to_csv(os_path.join(fiting_and_valid_fold, \"fresh_X.csv\"))\n",
    "fresh_Y.to_csv(os_path.join(fiting_and_valid_fold, \"fresh_Y.csv\"))"
   ]
  },
  {
   "cell_type": "markdown",
   "id": "05523f61-3b1e-4ab8-9a36-8de6177f4400",
   "metadata": {},
   "source": [
    "# Узнаем и запомним структуру полученных данных по дефолтам"
   ]
  },
  {
   "cell_type": "code",
   "execution_count": 7,
   "id": "6a2bcf0f-143c-4d6a-91fc-522b49661723",
   "metadata": {},
   "outputs": [
    {
     "data": {
      "text/html": [
       "<div>\n",
       "<style scoped>\n",
       "    .dataframe tbody tr th:only-of-type {\n",
       "        vertical-align: middle;\n",
       "    }\n",
       "\n",
       "    .dataframe tbody tr th {\n",
       "        vertical-align: top;\n",
       "    }\n",
       "\n",
       "    .dataframe thead tr th {\n",
       "        text-align: left;\n",
       "    }\n",
       "</style>\n",
       "<table border=\"1\" class=\"dataframe\">\n",
       "  <thead>\n",
       "    <tr>\n",
       "      <th></th>\n",
       "      <th colspan=\"2\" halign=\"left\">Полные данные</th>\n",
       "      <th colspan=\"2\" halign=\"left\">Тренировочные данные</th>\n",
       "      <th colspan=\"2\" halign=\"left\">Тестовые данные</th>\n",
       "    </tr>\n",
       "    <tr>\n",
       "      <th></th>\n",
       "      <th>Количество</th>\n",
       "      <th>Доля%</th>\n",
       "      <th>Количество</th>\n",
       "      <th>Доля%</th>\n",
       "      <th>Количество</th>\n",
       "      <th>Доля%</th>\n",
       "    </tr>\n",
       "  </thead>\n",
       "  <tbody>\n",
       "    <tr>\n",
       "      <th>Не дефолт</th>\n",
       "      <td>209401</td>\n",
       "      <td>96.78</td>\n",
       "      <td>157051</td>\n",
       "      <td>96.78</td>\n",
       "      <td>52350</td>\n",
       "      <td>96.78</td>\n",
       "    </tr>\n",
       "    <tr>\n",
       "      <th>Дефолт</th>\n",
       "      <td>6963</td>\n",
       "      <td>3.22</td>\n",
       "      <td>5222</td>\n",
       "      <td>3.22</td>\n",
       "      <td>1741</td>\n",
       "      <td>3.22</td>\n",
       "    </tr>\n",
       "  </tbody>\n",
       "</table>\n",
       "</div>"
      ],
      "text/plain": [
       "          Полные данные        Тренировочные данные        Тестовые данные  \\\n",
       "             Количество  Доля%           Количество  Доля%      Количество   \n",
       "Не дефолт        209401  96.78               157051  96.78           52350   \n",
       "Дефолт             6963   3.22                 5222   3.22            1741   \n",
       "\n",
       "                  \n",
       "           Доля%  \n",
       "Не дефолт  96.78  \n",
       "Дефолт      3.22  "
      ]
     },
     "execution_count": 7,
     "metadata": {},
     "output_type": "execute_result"
    }
   ],
   "source": [
    "col_ind = pd.MultiIndex.from_product([\n",
    "    [\"Полные данные\",\"Тренировочные данные\", \"Тестовые данные\"],\n",
    "    [\"Количество\", \"Доля%\"]])\n",
    "\n",
    "result_df = pd.DataFrame(columns = col_ind)\n",
    "\n",
    "train_counts = model_Y_train.value_counts()\n",
    "test_counts = model_Y_test.value_counts()\n",
    "\n",
    "result_df[('Тренировочные данные', 'Количество')] = train_counts\n",
    "result_df[('Тестовые данные', 'Количество')] = test_counts\n",
    "result_df[('Полные данные', 'Количество')] = test_counts + train_counts\n",
    "\n",
    "for data_type in result_df.columns.levels[0]:\n",
    "    \n",
    "    curr_counts = result_df[(data_type, \"Количество\")]\n",
    "    result_df[(data_type, \"Доля%\")] = (curr_counts*100/curr_counts.sum()).round(2)\n",
    "    \n",
    "result_df.index = [\"Не дефолт\", \"Дефолт\"]\n",
    "result_df.to_excel(data_struct_dir + \".xlsx\")\n",
    "result_df"
   ]
  }
 ],
 "metadata": {
  "kernelspec": {
   "display_name": "Python 3 (ipykernel)",
   "language": "python",
   "name": "python3"
  },
  "language_info": {
   "codemirror_mode": {
    "name": "ipython",
    "version": 3
   },
   "file_extension": ".py",
   "mimetype": "text/x-python",
   "name": "python",
   "nbconvert_exporter": "python",
   "pygments_lexer": "ipython3",
   "version": "3.10.4"
  }
 },
 "nbformat": 4,
 "nbformat_minor": 5
}
