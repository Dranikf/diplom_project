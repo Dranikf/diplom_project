{
 "cells": [
  {
   "cell_type": "markdown",
   "id": "70029c20-225f-41fe-bf82-59315f740c54",
   "metadata": {},
   "source": [
    "# One hot encoding и train test split"
   ]
  },
  {
   "cell_type": "code",
   "execution_count": 1,
   "id": "f9a902a8-840d-451a-b384-34660b31972d",
   "metadata": {},
   "outputs": [],
   "source": [
    "import pandas as pd\n",
    "import numpy as np\n",
    "\n",
    "\n",
    "import os\n",
    "import os.path as os_path\n",
    "\n",
    "from sklearn.preprocessing import OneHotEncoder\n",
    "from sklearn.model_selection import train_test_split\n",
    "from sklearn.preprocessing import normalize\n",
    "\n",
    "# current project file name\n",
    "cpfn = \"diplom_project\"\n",
    "\n",
    "curr_dir = os.getcwd()\n",
    "curr_dir = os_path.join(curr_dir[:curr_dir.find(cpfn)], cpfn)\n",
    "data_storage = os_path.join(curr_dir, \"data_storage\")\n",
    "model_data_dir = os_path.join(data_storage, \"proc_2\")\n",
    "fresh_data_dir = os_path.join(data_storage, \"proc_old_model\")\n",
    "fiting_and_valid_fold = os_path.join(data_storage, \"fiting_and_valid\")"
   ]
  },
  {
   "cell_type": "markdown",
   "id": "788ec4ee-4099-4b21-bfb8-aae326d3e093",
   "metadata": {},
   "source": [
    "# Загрузка данных"
   ]
  },
  {
   "cell_type": "code",
   "execution_count": 2,
   "id": "796acf9c-1cdc-426b-a7a4-5ac1f66dc8f8",
   "metadata": {},
   "outputs": [],
   "source": [
    "model_data = pd.read_csv(model_data_dir + '.csv', index_col = 0)\n",
    "fresh_data = pd.read_csv(fresh_data_dir + '.csv', index_col = 0)\n",
    "\n",
    "\n",
    "model_Y = model_data['Y']\n",
    "fresh_Y = model_data['Y']\n",
    "\n",
    "model_X = model_data.drop('Y', axis = 1)\n",
    "fresh_X = fresh_data.drop('Y', axis = 1)\n"
   ]
  },
  {
   "cell_type": "markdown",
   "id": "5258afa9-5bfd-4677-9b5c-96dd3f08b4b4",
   "metadata": {},
   "source": [
    "# One hot encoding"
   ]
  },
  {
   "cell_type": "code",
   "execution_count": 3,
   "id": "08ac930f-615f-43e4-aaa1-0e6082c7380e",
   "metadata": {},
   "outputs": [],
   "source": [
    "ohe = OneHotEncoder(sparse = False).fit(\n",
    "    model_X\\\n",
    "    .loc[:,model_X.dtypes == \"O\"]\n",
    ")\n",
    "\n",
    "\n",
    "model_X_ohe = pd.concat([\n",
    "    pd.DataFrame(\n",
    "        ohe.transform(model_X.loc[:,model_X.dtypes == \"O\"]),\n",
    "        columns = ohe.get_feature_names_out(),\n",
    "        index = model_X.index),\n",
    "    model_X.loc[:, model_X.dtypes != \"O\"]],\n",
    "    axis = 1)\n",
    "\n",
    "fresh_X_ohe = pd.concat([\n",
    "    pd.DataFrame(\n",
    "        ohe.transform(fresh_X.loc[:,fresh_X.dtypes == \"O\"]),\n",
    "        columns = ohe.get_feature_names_out(),\n",
    "        index = fresh_X.index),\n",
    "    fresh_X.loc[:, fresh_X.dtypes != 'O']],\n",
    "    axis = 1)"
   ]
  },
  {
   "cell_type": "markdown",
   "id": "c62389ff-b75f-4acf-91a1-50fa3bf942e0",
   "metadata": {},
   "source": [
    "# Normalization"
   ]
  },
  {
   "cell_type": "code",
   "execution_count": 4,
   "id": "06ffd563-fba7-484f-a7a0-cb802c80c0f4",
   "metadata": {},
   "outputs": [],
   "source": [
    "model_X_ohe = pd.DataFrame(\n",
    "    normalize(model_X_ohe.to_numpy()), columns = model_X_ohe.columns, \n",
    "    index = model_X_ohe.index)"
   ]
  },
  {
   "cell_type": "markdown",
   "id": "3edf6c3e-d0e5-4a8f-8fd8-ed33fdccaa8b",
   "metadata": {},
   "source": [
    "# Train test split"
   ]
  },
  {
   "cell_type": "code",
   "execution_count": 5,
   "id": "9d925069-d6b2-4894-832f-f3f32ebc5e71",
   "metadata": {},
   "outputs": [],
   "source": [
    "model_X_train, model_X_test, model_Y_train, model_Y_test = train_test_split(\n",
    "    model_X_ohe, model_Y, random_state = 0, stratify = model_Y)"
   ]
  },
  {
   "cell_type": "markdown",
   "id": "27eefb20-b0db-441f-b43e-1658abb9ec9f",
   "metadata": {},
   "source": [
    "# Сохранение результата"
   ]
  },
  {
   "cell_type": "code",
   "execution_count": 6,
   "id": "c0a88a05-304b-40ee-a3aa-88478ed597ec",
   "metadata": {},
   "outputs": [],
   "source": [
    "model_X_train.to_csv(os_path.join(fiting_and_valid_fold, \"X_train.csv\"))\n",
    "model_X_test.to_csv(os_path.join(fiting_and_valid_fold, \"X_test.csv\"))\n",
    "model_Y_train.to_csv(os_path.join(fiting_and_valid_fold, \"Y_train.csv\"))\n",
    "model_Y_test.to_csv(os_path.join(fiting_and_valid_fold, \"Y_test.csv\"))\n",
    "\n",
    "fresh_X_ohe.to_csv(os_path.join(fiting_and_valid_fold, \"fresh_X.csv\"))\n",
    "fresh_Y.to_csv(os_path.join(fiting_and_valid_fold, \"fresh_Y.csv\"))"
   ]
  }
 ],
 "metadata": {
  "kernelspec": {
   "display_name": "Python 3 (ipykernel)",
   "language": "python",
   "name": "python3"
  },
  "language_info": {
   "codemirror_mode": {
    "name": "ipython",
    "version": 3
   },
   "file_extension": ".py",
   "mimetype": "text/x-python",
   "name": "python",
   "nbconvert_exporter": "python",
   "pygments_lexer": "ipython3",
   "version": "3.10.4"
  }
 },
 "nbformat": 4,
 "nbformat_minor": 5
}
