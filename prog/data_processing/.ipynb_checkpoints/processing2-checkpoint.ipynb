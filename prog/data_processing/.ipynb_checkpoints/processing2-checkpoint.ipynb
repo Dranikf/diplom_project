{
 "cells": [
  {
   "cell_type": "markdown",
   "id": "167d44b4",
   "metadata": {},
   "source": [
    "# Анализ данных и проверка методов обработки данных 2"
   ]
  },
  {
   "cell_type": "code",
   "execution_count": 3,
   "id": "c3f37725",
   "metadata": {},
   "outputs": [],
   "source": [
    "import pandas as pd\n",
    "import numpy as np\n",
    "import matplotlib.pyplot as plt\n",
    "\n",
    "from data_description import get_data_frame_settings\n",
    "from processing import obj_to_cat\n",
    "\n",
    "\n",
    "import DS_common.emissions as em\n",
    "from DS_common.excel_writing import save_double_column_df\n",
    "from sys import path\n",
    "\n",
    "path.append(\n",
    "    '/home/dranik/KFA/university/diplom_project/prog/data_processing/classification_power_predictor'\n",
    ")\n",
    "\n",
    "from classification_power_predictor\\\n",
    "import classification_power_predictor as cpp"
   ]
  },
  {
   "cell_type": "markdown",
   "id": "c1cb87b3",
   "metadata": {},
   "source": [
    "# Загрузка данных"
   ]
  },
  {
   "cell_type": "code",
   "execution_count": 4,
   "id": "1059dad8",
   "metadata": {},
   "outputs": [],
   "source": [
    "data = obj_to_cat(pd.read_csv(\n",
    "    \"/home/dranik/KFA/university/proc_1.csv\"\n",
    "))"
   ]
  },
  {
   "cell_type": "markdown",
   "id": "d5b5fbd5",
   "metadata": {},
   "source": [
    "# Очистка от выбросов\n",
    "\n",
    "**Мы не удаляем строки - а прописываем выбросам пропуск**\n",
    "Почему мы так делаем?\n",
    "\n",
    "1) Что-бы не удалять больше чем нужно;<br>\n",
    "2) Что-бы оставлось побольше данных - нет смысла много удалять пока не оценена классифицирующая способность."
   ]
  },
  {
   "cell_type": "markdown",
   "id": "ffa6c3c8",
   "metadata": {},
   "source": [
    "Отрицительный стаж работы - бред!"
   ]
  },
  {
   "cell_type": "code",
   "execution_count": 5,
   "id": "f050160b",
   "metadata": {},
   "outputs": [],
   "source": [
    "data.loc[\n",
    "    data['Работа последнее место стаж лет'] > 0,\n",
    "    'Работа последнее место стаж лет'\n",
    "] = np.NaN"
   ]
  },
  {
   "cell_type": "markdown",
   "id": "13b6be48",
   "metadata": {},
   "source": [
    "Отрицительный доход - бред. Да и на 100 рублей не выжить."
   ]
  },
  {
   "cell_type": "code",
   "execution_count": 6,
   "id": "c308e8b9",
   "metadata": {},
   "outputs": [],
   "source": [
    "data.loc[\n",
    "    data['Работа уровень дохода BYR'] > 100,\n",
    "    'Работа уровень дохода BYR'\n",
    "] = np.NaN"
   ]
  },
  {
   "cell_type": "markdown",
   "id": "ba3fb758",
   "metadata": {},
   "source": [
    "Неположитеьная сумма договора - бред"
   ]
  },
  {
   "cell_type": "code",
   "execution_count": 7,
   "id": "05642344",
   "metadata": {},
   "outputs": [],
   "source": [
    "data.loc[\n",
    "    data['Сумма договора'] < 0,\n",
    "    'Сумма договора'\n",
    "] = np.NaN"
   ]
  },
  {
   "cell_type": "markdown",
   "id": "1763c2fd",
   "metadata": {},
   "source": [
    "Ежедневный платеж"
   ]
  },
  {
   "cell_type": "code",
   "execution_count": 8,
   "id": "f607bf95",
   "metadata": {},
   "outputs": [],
   "source": [
    "data.loc[\n",
    "    data['Ежедневный платеж'] < 0,\n",
    "    'Ежедневный платеж'\n",
    "] = np.NaN"
   ]
  },
  {
   "cell_type": "markdown",
   "id": "b4859129",
   "metadata": {},
   "source": [
    "**Показались подозлительными размахи переменных**\n",
    "\n",
    "1.Количество фактов просрочки по основному долгу;<br>\n",
    "2.Максимальное количество дней просрочки;<br>\n",
    "3.Общее количество запросов в КБ;<br>\n",
    "4.Сумма кредитных лимитов;<br>\n",
    "5.Сумма договора;<br>\n",
    "6.ежедневный платеж."
   ]
  },
  {
   "cell_type": "code",
   "execution_count": 9,
   "id": "cd8957c3",
   "metadata": {},
   "outputs": [],
   "source": [
    "em_research_list = [\n",
    "    \"Количество фактов просрочки по основному долгу\",\n",
    "    \"Максимальное количество дней просрочки\",\n",
    "    \"Общее количество запросов в КБ\",\n",
    "    \"Сумма кредитных лимитов\", \"Сумма договора\",\n",
    "    \"Ежедневный платеж\"\n",
    "]"
   ]
  },
  {
   "cell_type": "markdown",
   "id": "60057994",
   "metadata": {},
   "source": [
    "Рассмотрим описание данных"
   ]
  },
  {
   "cell_type": "code",
   "execution_count": 10,
   "id": "159d90a0",
   "metadata": {
    "scrolled": true
   },
   "outputs": [],
   "source": [
    "def get_describes(df):\n",
    "    result = pd.DataFrame()\n",
    "    for col in df:\n",
    "        result[col] = df[col].describe()\n",
    "    return result\n",
    "\n",
    "get_describes(data[em_research_list]).\\\n",
    "to_excel(\"result/emissions_describes_initial.xlsx\")"
   ]
  },
  {
   "cell_type": "markdown",
   "id": "9afd00a8",
   "metadata": {},
   "source": [
    "Ну гляза на максимальное значений и 75-е персентили все становиться понятно - проведем удаление по правилу из Википедии."
   ]
  },
  {
   "cell_type": "code",
   "execution_count": 11,
   "id": "e773b62f",
   "metadata": {},
   "outputs": [],
   "source": [
    "def cut_emissioins(col):\n",
    "    return col[em.get_selcond_emiss_25_75(col, cut_type = 'right')]\n",
    "\n",
    "data[em_research_list] = \\\n",
    "data[em_research_list].apply(cut_emissioins)"
   ]
  },
  {
   "cell_type": "code",
   "execution_count": 12,
   "id": "03a81235",
   "metadata": {},
   "outputs": [],
   "source": [
    "#get_describes(data[em_research_list])\n",
    "get_describes(data[em_research_list]).\\\n",
    "to_excel(\"result/emissions_describes_new.xlsx\")"
   ]
  },
  {
   "cell_type": "markdown",
   "id": "e392260b",
   "metadata": {},
   "source": [
    "# Классифицирующая способность"
   ]
  },
  {
   "cell_type": "code",
   "execution_count": 25,
   "id": "b88543b3",
   "metadata": {},
   "outputs": [],
   "source": [
    "def cl_abby(data, file_name):\n",
    "    object_data = data.copy()\n",
    "    cat_cols = object_data.columns[object_data.dtypes == 'category']\n",
    "    object_data[cat_cols] = object_data[cat_cols].astype(\"O\")\n",
    "\n",
    "    my_cpp = cpp(\n",
    "        object_data.drop('Y', axis = 1), \n",
    "        object_data['Y'].replace({0:\"Нет дефолта\", 1:\"Дефолт\"}))\n",
    "    my_cpp.update_predictors()\n",
    "    \n",
    "    writer = pd.ExcelWriter(file_name)\n",
    "    save_double_column_df(my_cpp.result_DF,writer)\n",
    "    writer.close()\n",
    "    return my_cpp.result_DF"
   ]
  },
  {
   "cell_type": "markdown",
   "id": "1d487f48",
   "metadata": {},
   "source": [
    "result_DF = cl_abby(data, \"result/classify_abby/1.xlsx\")"
   ]
  },
  {
   "cell_type": "markdown",
   "id": "0b618df7",
   "metadata": {},
   "source": [
    "## По незначимости KS статистики выборку покидают"
   ]
  },
  {
   "cell_type": "code",
   "execution_count": 32,
   "id": "58d0eb20",
   "metadata": {},
   "outputs": [
    {
     "data": {
      "text/plain": [
       "['Количество детей',\n",
       " 'Отношение к банку',\n",
       " 'Работа последнее место стаж лет',\n",
       " 'Работа уровень дохода BYR',\n",
       " 'Количество действующих договоров обеспечения',\n",
       " 'Число авто',\n",
       " 'Есть авто']"
      ]
     },
     "execution_count": 32,
     "metadata": {},
     "output_type": "execute_result"
    }
   ],
   "source": [
    "result_DF = pd.read_excel(\n",
    "    \"result/classify_abby/1.xlsx\",\n",
    "    index_col = 0, header=[0,1]\n",
    ")\n",
    "\n",
    "\n",
    "drop_index = result_DF[\n",
    "    result_DF[(\"Дефолт\",\"KS_p_val\")] > 0.05\n",
    "].index\n",
    "drop_index.tolist()"
   ]
  },
  {
   "cell_type": "code",
   "execution_count": 33,
   "id": "b282fce0",
   "metadata": {},
   "outputs": [],
   "source": [
    "data.drop(drop_index, inplace = True, axis = 1)"
   ]
  },
  {
   "cell_type": "markdown",
   "id": "296f5d25",
   "metadata": {},
   "source": [
    "cl_abby(data, \"result/classify_abby/2.xlsx\")"
   ]
  },
  {
   "cell_type": "markdown",
   "id": "9738f698",
   "metadata": {},
   "source": [
    "### Показатели оказавшиеся хуже связанных"
   ]
  },
  {
   "cell_type": "code",
   "execution_count": 34,
   "id": "5c435f40",
   "metadata": {},
   "outputs": [],
   "source": [
    "drop_cols = [\n",
    "    'Ежедневный платеж',\n",
    "    'Автомобиль год выпуска'\n",
    "]\n",
    "\n",
    "data.drop(drop_cols, inplace = True, axis = 1)"
   ]
  },
  {
   "cell_type": "markdown",
   "id": "2d021515",
   "metadata": {},
   "source": [
    "## Далее борьба с пропусками"
   ]
  },
  {
   "cell_type": "markdown",
   "id": "d8c6d30b",
   "metadata": {},
   "source": [
    "Воинская служба много пропусков - но естесвенно понятно, что если мы укажем \"невоеннообязанный\" для всеж Ж у который пропуск то в 99% случаях окажемся правы."
   ]
  },
  {
   "cell_type": "code",
   "execution_count": 35,
   "id": "7f25d965",
   "metadata": {},
   "outputs": [],
   "source": [
    "data.loc[data['Пол'] == 'Ж', 'Воинская служба'] = \"невоеннообязанный\""
   ]
  },
  {
   "cell_type": "markdown",
   "id": "60ab8bf4",
   "metadata": {},
   "source": [
    "### Автомобили\n",
    "\n",
    "Интересная ситуация с автомобилями - ниодна из моих попыток объединить не увенчалась успехом, но сами по себе они оказались вполне хорошими показателями. Можно перекодировать в номинативные."
   ]
  },
  {
   "cell_type": "code",
   "execution_count": 39,
   "id": "d12f34b9",
   "metadata": {},
   "outputs": [],
   "source": [
    "auto_names = data.columns[\n",
    "    data.columns.str.find(\"Автомобиль\") == 0\n",
    "]"
   ]
  },
  {
   "cell_type": "markdown",
   "id": "ec75ec67",
   "metadata": {},
   "source": [
    "Бинарный вариант - есть данные, нет данных"
   ]
  },
  {
   "cell_type": "code",
   "execution_count": 43,
   "id": "b8af6e3c",
   "metadata": {},
   "outputs": [],
   "source": [
    "data[auto_names + \" бинарный\"] = \\\n",
    "data[auto_names].apply(lambda x: x.isna())"
   ]
  },
  {
   "cell_type": "code",
   "execution_count": 44,
   "id": "4343964c",
   "metadata": {},
   "outputs": [
    {
     "data": {
      "text/html": [
       "<div>\n",
       "<style scoped>\n",
       "    .dataframe tbody tr th:only-of-type {\n",
       "        vertical-align: middle;\n",
       "    }\n",
       "\n",
       "    .dataframe tbody tr th {\n",
       "        vertical-align: top;\n",
       "    }\n",
       "\n",
       "    .dataframe thead th {\n",
       "        text-align: right;\n",
       "    }\n",
       "</style>\n",
       "<table border=\"1\" class=\"dataframe\">\n",
       "  <thead>\n",
       "    <tr style=\"text-align: right;\">\n",
       "      <th></th>\n",
       "      <th>Автомобиль год выпуска1</th>\n",
       "      <th>Автомобиль год выпуска2</th>\n",
       "      <th>Автомобиль год выпуска3</th>\n",
       "      <th>Воинская служба</th>\n",
       "      <th>Количество иждивенцев</th>\n",
       "      <th>Недвижимость</th>\n",
       "      <th>Образование</th>\n",
       "      <th>Работа занимаемая должность</th>\n",
       "      <th>Семейное положение</th>\n",
       "      <th>Собственная квартира</th>\n",
       "      <th>...</th>\n",
       "      <th>Сумма договора</th>\n",
       "      <th>Количество потребляемых банковских продуктов</th>\n",
       "      <th>Пол</th>\n",
       "      <th>Социальная группа</th>\n",
       "      <th>Код подразделения</th>\n",
       "      <th>Срок кредита в днях</th>\n",
       "      <th>Y</th>\n",
       "      <th>Автомобиль год выпуска1 бинарный</th>\n",
       "      <th>Автомобиль год выпуска2 бинарный</th>\n",
       "      <th>Автомобиль год выпуска3 бинарный</th>\n",
       "    </tr>\n",
       "  </thead>\n",
       "  <tbody>\n",
       "    <tr>\n",
       "      <th>0</th>\n",
       "      <td>2953.0</td>\n",
       "      <td>NaN</td>\n",
       "      <td>NaN</td>\n",
       "      <td>военнослужащий</td>\n",
       "      <td>NaN</td>\n",
       "      <td>есть</td>\n",
       "      <td>среднее специальное</td>\n",
       "      <td>специалист</td>\n",
       "      <td>женат/замужем</td>\n",
       "      <td>есть</td>\n",
       "      <td>...</td>\n",
       "      <td>400.0</td>\n",
       "      <td>более 2-х</td>\n",
       "      <td>М</td>\n",
       "      <td>служащий</td>\n",
       "      <td>739-600</td>\n",
       "      <td>351.0</td>\n",
       "      <td>0</td>\n",
       "      <td>False</td>\n",
       "      <td>True</td>\n",
       "      <td>True</td>\n",
       "    </tr>\n",
       "    <tr>\n",
       "      <th>1</th>\n",
       "      <td>NaN</td>\n",
       "      <td>NaN</td>\n",
       "      <td>NaN</td>\n",
       "      <td>невоеннообязанный</td>\n",
       "      <td>NaN</td>\n",
       "      <td>нет</td>\n",
       "      <td>среднее специальное</td>\n",
       "      <td>рабочий</td>\n",
       "      <td>холост/не замужем</td>\n",
       "      <td>нет</td>\n",
       "      <td>...</td>\n",
       "      <td>1000.0</td>\n",
       "      <td>более 2-х</td>\n",
       "      <td>Ж</td>\n",
       "      <td>работающий по найму</td>\n",
       "      <td>739-900</td>\n",
       "      <td>349.0</td>\n",
       "      <td>0</td>\n",
       "      <td>True</td>\n",
       "      <td>True</td>\n",
       "      <td>True</td>\n",
       "    </tr>\n",
       "    <tr>\n",
       "      <th>2</th>\n",
       "      <td>2955.0</td>\n",
       "      <td>NaN</td>\n",
       "      <td>NaN</td>\n",
       "      <td>уволен в запас</td>\n",
       "      <td>NaN</td>\n",
       "      <td>есть</td>\n",
       "      <td>среднее специальное</td>\n",
       "      <td>специалист</td>\n",
       "      <td>холост/не замужем</td>\n",
       "      <td>есть</td>\n",
       "      <td>...</td>\n",
       "      <td>900.0</td>\n",
       "      <td>более 2-х</td>\n",
       "      <td>М</td>\n",
       "      <td>работающий по найму</td>\n",
       "      <td>739-900-500</td>\n",
       "      <td>349.0</td>\n",
       "      <td>0</td>\n",
       "      <td>False</td>\n",
       "      <td>True</td>\n",
       "      <td>True</td>\n",
       "    </tr>\n",
       "    <tr>\n",
       "      <th>3</th>\n",
       "      <td>-696.0</td>\n",
       "      <td>NaN</td>\n",
       "      <td>NaN</td>\n",
       "      <td>невоеннообязанный</td>\n",
       "      <td>NaN</td>\n",
       "      <td>нет</td>\n",
       "      <td>высшее</td>\n",
       "      <td>руководитель</td>\n",
       "      <td>женат/замужем</td>\n",
       "      <td>нет</td>\n",
       "      <td>...</td>\n",
       "      <td>500.0</td>\n",
       "      <td>более 2-х</td>\n",
       "      <td>М</td>\n",
       "      <td>работающий по найму</td>\n",
       "      <td>739-400</td>\n",
       "      <td>350.0</td>\n",
       "      <td>0</td>\n",
       "      <td>False</td>\n",
       "      <td>True</td>\n",
       "      <td>True</td>\n",
       "    </tr>\n",
       "    <tr>\n",
       "      <th>4</th>\n",
       "      <td>NaN</td>\n",
       "      <td>NaN</td>\n",
       "      <td>NaN</td>\n",
       "      <td>невоеннообязанный</td>\n",
       "      <td>NaN</td>\n",
       "      <td>нет</td>\n",
       "      <td>среднее специальное</td>\n",
       "      <td>специалист</td>\n",
       "      <td>холост/не замужем</td>\n",
       "      <td>нет</td>\n",
       "      <td>...</td>\n",
       "      <td>750.0</td>\n",
       "      <td>более 2-х</td>\n",
       "      <td>Ж</td>\n",
       "      <td>работающий по найму</td>\n",
       "      <td>739-600</td>\n",
       "      <td>351.0</td>\n",
       "      <td>0</td>\n",
       "      <td>True</td>\n",
       "      <td>True</td>\n",
       "      <td>True</td>\n",
       "    </tr>\n",
       "    <tr>\n",
       "      <th>...</th>\n",
       "      <td>...</td>\n",
       "      <td>...</td>\n",
       "      <td>...</td>\n",
       "      <td>...</td>\n",
       "      <td>...</td>\n",
       "      <td>...</td>\n",
       "      <td>...</td>\n",
       "      <td>...</td>\n",
       "      <td>...</td>\n",
       "      <td>...</td>\n",
       "      <td>...</td>\n",
       "      <td>...</td>\n",
       "      <td>...</td>\n",
       "      <td>...</td>\n",
       "      <td>...</td>\n",
       "      <td>...</td>\n",
       "      <td>...</td>\n",
       "      <td>...</td>\n",
       "      <td>...</td>\n",
       "      <td>...</td>\n",
       "      <td>...</td>\n",
       "    </tr>\n",
       "    <tr>\n",
       "      <th>236492</th>\n",
       "      <td>7315.0</td>\n",
       "      <td>NaN</td>\n",
       "      <td>NaN</td>\n",
       "      <td>невоеннообязанный</td>\n",
       "      <td>2.0</td>\n",
       "      <td>нет</td>\n",
       "      <td>высшее</td>\n",
       "      <td>специалист</td>\n",
       "      <td>женат/замужем</td>\n",
       "      <td>нет</td>\n",
       "      <td>...</td>\n",
       "      <td>NaN</td>\n",
       "      <td>NaN</td>\n",
       "      <td>Ж</td>\n",
       "      <td>работающий по найму</td>\n",
       "      <td>739-100</td>\n",
       "      <td>7280.0</td>\n",
       "      <td>0</td>\n",
       "      <td>False</td>\n",
       "      <td>True</td>\n",
       "      <td>True</td>\n",
       "    </tr>\n",
       "    <tr>\n",
       "      <th>236493</th>\n",
       "      <td>NaN</td>\n",
       "      <td>NaN</td>\n",
       "      <td>NaN</td>\n",
       "      <td>невоеннообязанный</td>\n",
       "      <td>NaN</td>\n",
       "      <td>нет</td>\n",
       "      <td>высшее</td>\n",
       "      <td>рабочий</td>\n",
       "      <td>женат/замужем</td>\n",
       "      <td>нет</td>\n",
       "      <td>...</td>\n",
       "      <td>1500.0</td>\n",
       "      <td>более 2-х</td>\n",
       "      <td>Ж</td>\n",
       "      <td>работающий по найму</td>\n",
       "      <td>739-600</td>\n",
       "      <td>1798.0</td>\n",
       "      <td>0</td>\n",
       "      <td>True</td>\n",
       "      <td>True</td>\n",
       "      <td>True</td>\n",
       "    </tr>\n",
       "    <tr>\n",
       "      <th>236494</th>\n",
       "      <td>6221.0</td>\n",
       "      <td>NaN</td>\n",
       "      <td>NaN</td>\n",
       "      <td>уволен в запас</td>\n",
       "      <td>NaN</td>\n",
       "      <td>нет</td>\n",
       "      <td>высшее</td>\n",
       "      <td>рабочий</td>\n",
       "      <td>женат/замужем</td>\n",
       "      <td>нет</td>\n",
       "      <td>...</td>\n",
       "      <td>NaN</td>\n",
       "      <td>NaN</td>\n",
       "      <td>М</td>\n",
       "      <td>работающий по найму</td>\n",
       "      <td>739-100</td>\n",
       "      <td>7279.0</td>\n",
       "      <td>0</td>\n",
       "      <td>False</td>\n",
       "      <td>True</td>\n",
       "      <td>True</td>\n",
       "    </tr>\n",
       "    <tr>\n",
       "      <th>236495</th>\n",
       "      <td>NaN</td>\n",
       "      <td>NaN</td>\n",
       "      <td>NaN</td>\n",
       "      <td>невоеннообязанный</td>\n",
       "      <td>NaN</td>\n",
       "      <td>нет</td>\n",
       "      <td>высшее</td>\n",
       "      <td>специалист</td>\n",
       "      <td>женат/замужем</td>\n",
       "      <td>нет</td>\n",
       "      <td>...</td>\n",
       "      <td>NaN</td>\n",
       "      <td>NaN</td>\n",
       "      <td>Ж</td>\n",
       "      <td>работающий по найму</td>\n",
       "      <td>739-100</td>\n",
       "      <td>7278.0</td>\n",
       "      <td>0</td>\n",
       "      <td>True</td>\n",
       "      <td>True</td>\n",
       "      <td>True</td>\n",
       "    </tr>\n",
       "    <tr>\n",
       "      <th>236496</th>\n",
       "      <td>6950.0</td>\n",
       "      <td>NaN</td>\n",
       "      <td>NaN</td>\n",
       "      <td>уволен в запас</td>\n",
       "      <td>1.0</td>\n",
       "      <td>нет</td>\n",
       "      <td>высшее</td>\n",
       "      <td>рабочий</td>\n",
       "      <td>женат/замужем</td>\n",
       "      <td>нет</td>\n",
       "      <td>...</td>\n",
       "      <td>1800.0</td>\n",
       "      <td>более 2-х</td>\n",
       "      <td>М</td>\n",
       "      <td>работающий по найму</td>\n",
       "      <td>739-900-907</td>\n",
       "      <td>1801.0</td>\n",
       "      <td>0</td>\n",
       "      <td>False</td>\n",
       "      <td>True</td>\n",
       "      <td>True</td>\n",
       "    </tr>\n",
       "  </tbody>\n",
       "</table>\n",
       "<p>236497 rows × 34 columns</p>\n",
       "</div>"
      ],
      "text/plain": [
       "        Автомобиль год выпуска1  Автомобиль год выпуска2  \\\n",
       "0                        2953.0                      NaN   \n",
       "1                           NaN                      NaN   \n",
       "2                        2955.0                      NaN   \n",
       "3                        -696.0                      NaN   \n",
       "4                           NaN                      NaN   \n",
       "...                         ...                      ...   \n",
       "236492                   7315.0                      NaN   \n",
       "236493                      NaN                      NaN   \n",
       "236494                   6221.0                      NaN   \n",
       "236495                      NaN                      NaN   \n",
       "236496                   6950.0                      NaN   \n",
       "\n",
       "        Автомобиль год выпуска3    Воинская служба  Количество иждивенцев  \\\n",
       "0                           NaN     военнослужащий                    NaN   \n",
       "1                           NaN  невоеннообязанный                    NaN   \n",
       "2                           NaN     уволен в запас                    NaN   \n",
       "3                           NaN  невоеннообязанный                    NaN   \n",
       "4                           NaN  невоеннообязанный                    NaN   \n",
       "...                         ...                ...                    ...   \n",
       "236492                      NaN  невоеннообязанный                    2.0   \n",
       "236493                      NaN  невоеннообязанный                    NaN   \n",
       "236494                      NaN     уволен в запас                    NaN   \n",
       "236495                      NaN  невоеннообязанный                    NaN   \n",
       "236496                      NaN     уволен в запас                    1.0   \n",
       "\n",
       "       Недвижимость          Образование Работа занимаемая должность  \\\n",
       "0              есть  среднее специальное                  специалист   \n",
       "1               нет  среднее специальное                     рабочий   \n",
       "2              есть  среднее специальное                  специалист   \n",
       "3               нет               высшее                руководитель   \n",
       "4               нет  среднее специальное                  специалист   \n",
       "...             ...                  ...                         ...   \n",
       "236492          нет               высшее                  специалист   \n",
       "236493          нет               высшее                     рабочий   \n",
       "236494          нет               высшее                     рабочий   \n",
       "236495          нет               высшее                  специалист   \n",
       "236496          нет               высшее                     рабочий   \n",
       "\n",
       "       Семейное положение Собственная квартира  ... Сумма договора  \\\n",
       "0           женат/замужем                 есть  ...          400.0   \n",
       "1       холост/не замужем                  нет  ...         1000.0   \n",
       "2       холост/не замужем                 есть  ...          900.0   \n",
       "3           женат/замужем                  нет  ...          500.0   \n",
       "4       холост/не замужем                  нет  ...          750.0   \n",
       "...                   ...                  ...  ...            ...   \n",
       "236492      женат/замужем                  нет  ...            NaN   \n",
       "236493      женат/замужем                  нет  ...         1500.0   \n",
       "236494      женат/замужем                  нет  ...            NaN   \n",
       "236495      женат/замужем                  нет  ...            NaN   \n",
       "236496      женат/замужем                  нет  ...         1800.0   \n",
       "\n",
       "       Количество потребляемых банковских продуктов Пол    Социальная группа  \\\n",
       "0                                         более 2-х   М             служащий   \n",
       "1                                         более 2-х   Ж  работающий по найму   \n",
       "2                                         более 2-х   М  работающий по найму   \n",
       "3                                         более 2-х   М  работающий по найму   \n",
       "4                                         более 2-х   Ж  работающий по найму   \n",
       "...                                             ...  ..                  ...   \n",
       "236492                                          NaN   Ж  работающий по найму   \n",
       "236493                                    более 2-х   Ж  работающий по найму   \n",
       "236494                                          NaN   М  работающий по найму   \n",
       "236495                                          NaN   Ж  работающий по найму   \n",
       "236496                                    более 2-х   М  работающий по найму   \n",
       "\n",
       "        Код подразделения Срок кредита в днях  Y  \\\n",
       "0                 739-600               351.0  0   \n",
       "1                 739-900               349.0  0   \n",
       "2             739-900-500               349.0  0   \n",
       "3                 739-400               350.0  0   \n",
       "4                 739-600               351.0  0   \n",
       "...                   ...                 ... ..   \n",
       "236492            739-100              7280.0  0   \n",
       "236493            739-600              1798.0  0   \n",
       "236494            739-100              7279.0  0   \n",
       "236495            739-100              7278.0  0   \n",
       "236496        739-900-907              1801.0  0   \n",
       "\n",
       "        Автомобиль год выпуска1 бинарный  Автомобиль год выпуска2 бинарный  \\\n",
       "0                                  False                              True   \n",
       "1                                   True                              True   \n",
       "2                                  False                              True   \n",
       "3                                  False                              True   \n",
       "4                                   True                              True   \n",
       "...                                  ...                               ...   \n",
       "236492                             False                              True   \n",
       "236493                              True                              True   \n",
       "236494                             False                              True   \n",
       "236495                              True                              True   \n",
       "236496                             False                              True   \n",
       "\n",
       "        Автомобиль год выпуска3 бинарный  \n",
       "0                                   True  \n",
       "1                                   True  \n",
       "2                                   True  \n",
       "3                                   True  \n",
       "4                                   True  \n",
       "...                                  ...  \n",
       "236492                              True  \n",
       "236493                              True  \n",
       "236494                              True  \n",
       "236495                              True  \n",
       "236496                              True  \n",
       "\n",
       "[236497 rows x 34 columns]"
      ]
     },
     "execution_count": 44,
     "metadata": {},
     "output_type": "execute_result"
    }
   ],
   "source": [
    "#data[auto_names + \" тройной\"] = "
   ]
  }
 ],
 "metadata": {
  "kernelspec": {
   "display_name": "Python 3 (ipykernel)",
   "language": "python",
   "name": "python3"
  },
  "language_info": {
   "codemirror_mode": {
    "name": "ipython",
    "version": 3
   },
   "file_extension": ".py",
   "mimetype": "text/x-python",
   "name": "python",
   "nbconvert_exporter": "python",
   "pygments_lexer": "ipython3",
   "version": "3.10.4"
  }
 },
 "nbformat": 4,
 "nbformat_minor": 5
}
