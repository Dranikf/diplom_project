{
 "cells": [
  {
   "cell_type": "markdown",
   "id": "697999f6-fd52-4269-99a0-87b2ab7918ec",
   "metadata": {},
   "source": [
    "# Расчет выйгрыша на каждом клиенте"
   ]
  },
  {
   "cell_type": "code",
   "execution_count": 10,
   "id": "4feeb948-83f7-432e-a722-2c4709abb360",
   "metadata": {},
   "outputs": [
    {
     "data": {
      "text/html": [
       "<div>\n",
       "<style scoped>\n",
       "    .dataframe tbody tr th:only-of-type {\n",
       "        vertical-align: middle;\n",
       "    }\n",
       "\n",
       "    .dataframe tbody tr th {\n",
       "        vertical-align: top;\n",
       "    }\n",
       "\n",
       "    .dataframe thead th {\n",
       "        text-align: right;\n",
       "    }\n",
       "</style>\n",
       "<table border=\"1\" class=\"dataframe\">\n",
       "  <thead>\n",
       "    <tr style=\"text-align: right;\">\n",
       "      <th></th>\n",
       "      <th>до года</th>\n",
       "      <th>свыше года</th>\n",
       "    </tr>\n",
       "  </thead>\n",
       "  <tbody>\n",
       "    <tr>\n",
       "      <th>2003-01-01</th>\n",
       "      <td>39.400000</td>\n",
       "      <td>39.500000</td>\n",
       "    </tr>\n",
       "    <tr>\n",
       "      <th>2003-02-01</th>\n",
       "      <td>38.900000</td>\n",
       "      <td>39.400000</td>\n",
       "    </tr>\n",
       "    <tr>\n",
       "      <th>2003-03-01</th>\n",
       "      <td>38.000000</td>\n",
       "      <td>39.600000</td>\n",
       "    </tr>\n",
       "    <tr>\n",
       "      <th>2003-04-01</th>\n",
       "      <td>37.100000</td>\n",
       "      <td>39.100000</td>\n",
       "    </tr>\n",
       "    <tr>\n",
       "      <th>2003-05-01</th>\n",
       "      <td>36.400000</td>\n",
       "      <td>38.100000</td>\n",
       "    </tr>\n",
       "    <tr>\n",
       "      <th>...</th>\n",
       "      <td>...</td>\n",
       "      <td>...</td>\n",
       "    </tr>\n",
       "    <tr>\n",
       "      <th>2020-08-01</th>\n",
       "      <td>11.747337</td>\n",
       "      <td>11.494557</td>\n",
       "    </tr>\n",
       "    <tr>\n",
       "      <th>2020-09-01</th>\n",
       "      <td>15.160468</td>\n",
       "      <td>11.649406</td>\n",
       "    </tr>\n",
       "    <tr>\n",
       "      <th>2020-10-01</th>\n",
       "      <td>16.872847</td>\n",
       "      <td>10.748919</td>\n",
       "    </tr>\n",
       "    <tr>\n",
       "      <th>2020-11-01</th>\n",
       "      <td>17.619200</td>\n",
       "      <td>10.061974</td>\n",
       "    </tr>\n",
       "    <tr>\n",
       "      <th>2020-12-01</th>\n",
       "      <td>18.170221</td>\n",
       "      <td>10.428690</td>\n",
       "    </tr>\n",
       "  </tbody>\n",
       "</table>\n",
       "<p>204 rows × 2 columns</p>\n",
       "</div>"
      ],
      "text/plain": [
       "              до года  свыше года\n",
       "2003-01-01  39.400000   39.500000\n",
       "2003-02-01  38.900000   39.400000\n",
       "2003-03-01  38.000000   39.600000\n",
       "2003-04-01  37.100000   39.100000\n",
       "2003-05-01  36.400000   38.100000\n",
       "...               ...         ...\n",
       "2020-08-01  11.747337   11.494557\n",
       "2020-09-01  15.160468   11.649406\n",
       "2020-10-01  16.872847   10.748919\n",
       "2020-11-01  17.619200   10.061974\n",
       "2020-12-01  18.170221   10.428690\n",
       "\n",
       "[204 rows x 2 columns]"
      ]
     },
     "execution_count": 10,
     "metadata": {},
     "output_type": "execute_result"
    }
   ],
   "source": [
    "import pandas as pd\n",
    "\n",
    "import os\n",
    "import os.path as os_path\n",
    "\n",
    "cpfn = \"diplom_project\"\n",
    "\n",
    "curr_dir = os.getcwd()\n",
    "curr_dir = os_path.join(curr_dir[:curr_dir.find(cpfn)], cpfn)\n",
    "data_storage = os_path.join(curr_dir, \"data_storage\")\n",
    "input_data_fold = os_path.join(data_storage, \"input_data_diplom\")\n",
    "int_rates_fold = os_path.join(\n",
    "    os_path.join(os_path.join(curr_dir, \"prog\"), \"interest rates\"), \"interest_rantes\"\n",
    ")\n",
    "\n",
    "# данные о каждом из клиентов\n",
    "data = pd.read_csv(\n",
    "    input_data_fold + '.csv', \n",
    "    na_values = ['-', 'нет информации'],\n",
    "    parse_dates = [\n",
    "        'Автомобиль год выпуска1',\n",
    "        'Автомобиль год выпуска2',\n",
    "        'Автомобиль год выпуска3',\n",
    "        'Дата регистрации договора',\n",
    "        'Дата рождения',\n",
    "        'Дата планируемого закрытия',\n",
    "        'Дата фактического закрытия'\n",
    "    ],\n",
    "    low_memory = False\n",
    ")\n",
    "\n",
    "# данные о процентных ставках\n",
    "interest_rates = pd.read_excel(\n",
    "    int_rates_fold + \".xlsx\",\n",
    "    index_col = 0)"
   ]
  },
  {
   "cell_type": "markdown",
   "id": "f4f9b51c-6498-4337-b9b9-a3fecf42da03",
   "metadata": {},
   "source": [
    "# Вычислительные функции"
   ]
  },
  {
   "cell_type": "code",
   "execution_count": 23,
   "id": "16409316-723b-48b3-8f78-4fe6973c16fc",
   "metadata": {},
   "outputs": [],
   "source": [
    "def get_int_rate(reg_date, term):\n",
    "    '''Получение процентной ставки для выбранного клиента'''\n",
    "    int_rate_ind = \\\n",
    "        (reg_date > interest_rates.index).sum()\n",
    "    \n",
    "    possible_rates = interest_rates.iloc[int_rate_ind - 1]\n",
    "    \n",
    "    if term < 12:\n",
    "        rate = possible_rates[0]\n",
    "    else:\n",
    "        rate = possible_rates[1]\n",
    "        \n",
    "    return rate\n",
    "\n",
    "def compute_loan_pay(loan_sum, rate, term):\n",
    "    '''\n",
    "        Получить размер одного платежа\n",
    "        в случае равных платежей подобно тому как\n",
    "        на сайте https://myfin.by/bank/belinvestbank/kredity/1362-kredit-na-tovary-otechestvennogo-proizvodstva?CreditsListCalcPotrebitelskieForm%5Bamount%5D=500&CreditsListCalcPotrebitelskieForm%5Bperiod%5D=3&CreditsListCalcPotrebitelskieForm%5Bpayment_type%5D=2&type_id=1&type=potrebitelskie&product_id=1362&app=&app-theme=#center=53.916782%2C27.555758&zoom=11&type=yandex%23map&balloon=\n",
    "    '''\n",
    "    # input:\n",
    "    # loan_sum - занимаемая сумма\n",
    "    # rate - ежемесячная ставка прцента\n",
    "    # term - срок кредита в месяцах\n",
    "    return (loan_sum*(1+rate)**term) / sum([(1+rate)**i for i in range(term)])\n",
    "\n"
   ]
  },
  {
   "cell_type": "code",
   "execution_count": 24,
   "id": "4c4b3353-ff27-4fc7-b594-f30ad4b739aa",
   "metadata": {},
   "outputs": [
    {
     "data": {
      "text/plain": [
       "datetime.date(2020, 12, 27)"
      ]
     },
     "execution_count": 24,
     "metadata": {},
     "output_type": "execute_result"
    }
   ],
   "source": [
    "from datetime import date, timedelta\n",
    "date(2021, 1,1) - timedelta(days = 5)"
   ]
  },
  {
   "cell_type": "markdown",
   "id": "be4ec352-c77b-4195-89a6-9b256ff7b53c",
   "metadata": {},
   "source": [
    "# Применяем вычисления ко всему множеству строк в DataFrame\n",
    "Удалив только наблюдения, что имеют пропуск в \"дата пранируемого закрытия\" - это почти всегда \"Овердрафт\" и сохраняем результат."
   ]
  },
  {
   "cell_type": "code",
   "execution_count": 26,
   "id": "c070ef1b-0503-4c47-93b2-d79eb11b9831",
   "metadata": {},
   "outputs": [],
   "source": [
    "data = data.dropna(subset = \"Дата планируемого закрытия\")\n",
    "\n",
    "data['Срок кредита мес.'] = \\\n",
    "    (data[\"Дата планируемого закрытия\"] - data[\"Дата регистрации договора\"]).\\\n",
    "    astype('timedelta64[M]')\n",
    "\n",
    "data['Процентная ставка'] = data.apply(\n",
    "    lambda client_info: \n",
    "        get_int_rate(client_info[\"Дата регистрации договора\"],\n",
    "                     client_info[\"Срок кредита мес.\"]),\n",
    "    axis = 1)\n",
    "\n",
    "\n",
    "def comp_pay_count(client):\n",
    "    '''\n",
    "        Число проведенных платежей\n",
    "    '''\n",
    "    if client['Дефолт'] < 60:\n",
    "        return client['Срок кредита мес.']\n",
    "    get_month(client['Дата регистрации договора'], datetime.datetime(2021, 1, 1))\n",
    "    \n",
    "# data[\"Сумма к возврату\"] = \\\n",
    "#     data['Сумма договора']*(1 + data['Процентная ставка']/36000)**\\\n",
    "#     data['Срок кредита дн.']\n",
    "\n",
    "\n",
    "# # compute_profit(data.iloc[1])\n",
    "# # data.iloc[1][\"Сумма договора\"]\n",
    "# data[\"Сумма возврата\"] = data.apply(compute_profit, axis = 1)\n",
    "\n",
    "# data[[\"Сумма договора\", \"Сумма возврата\"]].\\\n",
    "#     to_csv(\"/home/dranik/KFA/university/proc_ret_sum.csv\")"
   ]
  },
  {
   "cell_type": "code",
   "execution_count": 50,
   "id": "67757c33-468d-4622-96bd-97047b2353d8",
   "metadata": {},
   "outputs": [
    {
     "data": {
      "text/plain": [
       "Timestamp('2016-01-04 00:00:00')"
      ]
     },
     "execution_count": 50,
     "metadata": {},
     "output_type": "execute_result"
    }
   ],
   "source": [
    "import datetime\n",
    "\n",
    "datetime.datetime(2021, 1, 1).month\n",
    "#(datetime.datetime(2021, 1, 1).month - data.loc[0,'Дата регистрации договора'].month)\n",
    "get_month = lambda start_date, end_date:\\\n",
    "    (end_date.year - start_date.year) * 12 + (end_date.month - start_date.month)\n",
    "\n"
   ]
  }
 ],
 "metadata": {
  "kernelspec": {
   "display_name": "Python 3 (ipykernel)",
   "language": "python",
   "name": "python3"
  },
  "language_info": {
   "codemirror_mode": {
    "name": "ipython",
    "version": 3
   },
   "file_extension": ".py",
   "mimetype": "text/x-python",
   "name": "python",
   "nbconvert_exporter": "python",
   "pygments_lexer": "ipython3",
   "version": "3.10.4"
  }
 },
 "nbformat": 4,
 "nbformat_minor": 5
}
