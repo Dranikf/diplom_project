{
 "cells": [
  {
   "cell_type": "markdown",
   "id": "697999f6-fd52-4269-99a0-87b2ab7918ec",
   "metadata": {},
   "source": [
    "# Расчет выйгрыша на каждом клиенте"
   ]
  },
  {
   "cell_type": "code",
   "execution_count": 1,
   "id": "4feeb948-83f7-432e-a722-2c4709abb360",
   "metadata": {},
   "outputs": [],
   "source": [
    "import pandas as pd\n",
    "\n",
    "import os\n",
    "import os.path as os_path\n",
    "\n",
    "import datetime\n",
    "\n",
    "cpfn = \"diplom_project\"\n",
    "\n",
    "curr_dir = os.getcwd()\n",
    "curr_dir = os_path.join(curr_dir[:curr_dir.find(cpfn)], cpfn)\n",
    "data_storage = os_path.join(curr_dir, \"data_storage\")\n",
    "input_data_fold = os_path.join(data_storage, \"input_data_diplom\")\n",
    "int_rates_fold = os_path.join(\n",
    "    os_path.join(os_path.join(curr_dir, \"prog\"), \"interest rates\"), \"interest_rantes\"\n",
    ")\n",
    "inc_los_dir = os_path.join(data_storage, 'inc_los_data')\n",
    "fiting_and_valid_fold = os_path.join(data_storage, 'fiting_and_valid')\n",
    "fresh_data_dir = os_path.join(fiting_and_valid_fold, 'fresh_X')\n",
    "\n",
    "# данные о каждом из клиентов\n",
    "data = pd.read_csv(\n",
    "    input_data_fold + '.csv', \n",
    "    na_values = ['-', 'нет информации'],\n",
    "    parse_dates = [\n",
    "        'Автомобиль год выпуска1',\n",
    "        'Автомобиль год выпуска2',\n",
    "        'Автомобиль год выпуска3',\n",
    "        'Дата регистрации договора',\n",
    "        'Дата рождения',\n",
    "        'Дата планируемого закрытия',\n",
    "        'Дата фактического закрытия'\n",
    "    ],\n",
    "    low_memory = False\n",
    ")\n",
    "\n",
    "# данные о процентных ставках\n",
    "interest_rates = pd.read_excel(\n",
    "    int_rates_fold + \".xlsx\",\n",
    "    index_col = 0)"
   ]
  },
  {
   "cell_type": "markdown",
   "id": "f4f9b51c-6498-4337-b9b9-a3fecf42da03",
   "metadata": {},
   "source": [
    "# Вычислительные функции"
   ]
  },
  {
   "cell_type": "code",
   "execution_count": 2,
   "id": "16409316-723b-48b3-8f78-4fe6973c16fc",
   "metadata": {},
   "outputs": [],
   "source": [
    "def get_int_rate(reg_date, term):\n",
    "    '''Получение процентной ставки для выбранного клиента'''\n",
    "    int_rate_ind = \\\n",
    "        (reg_date > interest_rates.index).sum()\n",
    "    \n",
    "    possible_rates = interest_rates.iloc[int_rate_ind - 1]\n",
    "    \n",
    "    if term < 12:\n",
    "        rate = possible_rates[0]\n",
    "    else:\n",
    "        rate = possible_rates[1]\n",
    "        \n",
    "    return rate\n",
    "\n",
    "def compute_loan_pay(loan_sum, rate, term):\n",
    "    '''\n",
    "        Получить размер одного платежа\n",
    "        в случае равных платежей подобно тому как\n",
    "        на сайте https://myfin.by/bank/belinvestbank/kredity/1362-kredit-na-tovary-otechestvennogo-proizvodstva?CreditsListCalcPotrebitelskieForm%5Bamount%5D=500&CreditsListCalcPotrebitelskieForm%5Bperiod%5D=3&CreditsListCalcPotrebitelskieForm%5Bpayment_type%5D=2&type_id=1&type=potrebitelskie&product_id=1362&app=&app-theme=#center=53.916782%2C27.555758&zoom=11&type=yandex%23map&balloon=\n",
    "    '''\n",
    "    # input:\n",
    "    # loan_sum - занимаемая сумма\n",
    "    # rate - ежемесячная ставка прцента\n",
    "    # term - срок кредита в месяцах\n",
    "    return (loan_sum*(1+rate)**term) / sum([(1+rate)**i for i in range(term)])\n",
    "\n",
    "get_month = lambda start_date, end_date:\\\n",
    "    (end_date.year - start_date.year) * 12 + (end_date.month - start_date.month)\n",
    "\n",
    "def comp_pay_count(client):\n",
    "    '''\n",
    "        Число проведенных платежей\n",
    "    '''\n",
    "    # input:\n",
    "    # client_info - вся доступная информация о клиенте\n",
    "    # def_crit - бинарная переменная, что позволит определить дефолт ли\n",
    "    if client['Дефолт'] < 60:\n",
    "        return client['Срок кредита мес.']\n",
    "    \n",
    "    return get_month(client['Дата регистрации договора'], \n",
    "                datetime.datetime(2021, 1, 1)) - int(client['Дефолт']/30)"
   ]
  },
  {
   "cell_type": "markdown",
   "id": "be4ec352-c77b-4195-89a6-9b256ff7b53c",
   "metadata": {},
   "source": [
    "# Применяем вычисления ко всему множеству строк в DataFrame\n",
    "Удалив только наблюдения, что имеют пропуск в \"дата пранируемого закрытия\" - это почти всегда \"Овердрафт\" и сохраняем результат."
   ]
  },
  {
   "cell_type": "code",
   "execution_count": 3,
   "id": "c070ef1b-0503-4c47-93b2-d79eb11b9831",
   "metadata": {},
   "outputs": [],
   "source": [
    "data = data.dropna(subset = \"Дата планируемого закрытия\")\n",
    "\n",
    "data['Срок кредита мес.'] = \\\n",
    "    (data[\"Дата планируемого закрытия\"] - data[\"Дата регистрации договора\"]).\\\n",
    "    astype('timedelta64[M]').astype('int32')\n",
    "\n",
    "data['Процентная ставка'] = data.apply(\n",
    "    lambda client_info: \n",
    "        get_int_rate(\n",
    "            client_info[\"Дата регистрации договора\"],\n",
    "            client_info[\"Срок кредита мес.\"]),\n",
    "    axis = 1\n",
    ")\n",
    "    \n",
    "data['Внесенные платежи'] = data.apply(comp_pay_count, axis = 1)\n",
    "data['Размер одного платежа'] = data.apply(\n",
    "    lambda client_info:\n",
    "        compute_loan_pay(\n",
    "            client_info['Сумма договора'],\n",
    "            client_info['Процентная ставка']/1200,\n",
    "            client_info['Срок кредита мес.']),\n",
    "    axis = 1\n",
    ")\n",
    "data['Внесенная сумма'] = data['Размер одного платежа']*data[\"Внесенные платежи\"]\n",
    "data['Выйгрыш_потеря'] = data['Внесенная сумма'] - data['Сумма договора']"
   ]
  },
  {
   "cell_type": "markdown",
   "id": "5f11f36d-9726-4ec5-974b-a79c401f5b8e",
   "metadata": {},
   "source": [
    "Сохранение подсчитанных результатов"
   ]
  },
  {
   "cell_type": "code",
   "execution_count": 4,
   "id": "bfa13c59-7ff3-4b7a-803f-6672e4a98e3a",
   "metadata": {},
   "outputs": [],
   "source": [
    "data[['Внесенные платежи', 'Выйгрыш_потеря']].to_csv(inc_los_dir + \".csv\")"
   ]
  },
  {
   "cell_type": "code",
   "execution_count": 10,
   "id": "e5341e34-8cc5-40ee-b6ec-ab235b584146",
   "metadata": {},
   "outputs": [
    {
     "data": {
      "text/plain": [
       "10.4286898298969"
      ]
     },
     "execution_count": 10,
     "metadata": {},
     "output_type": "execute_result"
    }
   ],
   "source": [
    "#data.tail()[[\"Выйгрыш_потеря\", \"Сумма договора\"]]#.query('`Дефолт` > 60')['Выйгрыш_потеря'].mode()\n",
    "client_info = data.loc[247061]\n",
    "\n",
    "rate = get_int_rate(\n",
    "    client_info[\"Дата регистрации договора\"],\n",
    "    client_info[\"Срок кредита мес.\"])"
   ]
  }
 ],
 "metadata": {
  "kernelspec": {
   "display_name": "Python 3 (ipykernel)",
   "language": "python",
   "name": "python3"
  },
  "language_info": {
   "codemirror_mode": {
    "name": "ipython",
    "version": 3
   },
   "file_extension": ".py",
   "mimetype": "text/x-python",
   "name": "python",
   "nbconvert_exporter": "python",
   "pygments_lexer": "ipython3",
   "version": "3.10.4"
  }
 },
 "nbformat": 4,
 "nbformat_minor": 5
}
