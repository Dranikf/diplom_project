{
 "cells": [
  {
   "cell_type": "markdown",
   "id": "70029c20-225f-41fe-bf82-59315f740c54",
   "metadata": {},
   "source": [
    "# One hot encoding и train test split"
   ]
  },
  {
   "cell_type": "code",
   "execution_count": 1,
   "id": "f9a902a8-840d-451a-b384-34660b31972d",
   "metadata": {},
   "outputs": [],
   "source": [
    "import pandas as pd\n",
    "import numpy as np\n",
    "\n",
    "\n",
    "import os\n",
    "import os.path as os_path\n",
    "\n",
    "from sklearn.preprocessing import OneHotEncoder\n",
    "from sklearn.model_selection import train_test_split\n",
    "from sklearn.preprocessing import normalize\n",
    "\n",
    "# current project file name\n",
    "cpfn = \"diplom_project\"\n",
    "\n",
    "curr_dir = os.getcwd()\n",
    "curr_dir = os_path.join(curr_dir[:curr_dir.find(cpfn)], cpfn)\n",
    "data_storage = os_path.join(curr_dir, \"data_storage\")\n",
    "model_data_dir = os_path.join(data_storage, \"proc_2\")\n",
    "fresh_data_dir = os_path.join(data_storage, \"proc_old_model\")\n",
    "fiting_and_valid_fold = os_path.join(data_storage, \"fiting_and_valid\")"
   ]
  },
  {
   "cell_type": "markdown",
   "id": "788ec4ee-4099-4b21-bfb8-aae326d3e093",
   "metadata": {},
   "source": [
    "# Загрузка данных"
   ]
  },
  {
   "cell_type": "code",
   "execution_count": 2,
   "id": "796acf9c-1cdc-426b-a7a4-5ac1f66dc8f8",
   "metadata": {},
   "outputs": [],
   "source": [
    "model_data = pd.read_csv(model_data_dir + '.csv', index_col = 0)\n",
    "fresh_data = pd.read_csv(fresh_data_dir + '.csv', index_col = 0)\n",
    "\n",
    "\n",
    "model_Y = model_data['Y']\n",
    "fresh_Y = model_data['Y']\n",
    "\n",
    "model_X = model_data.drop('Y', axis = 1)\n",
    "fresh_X = fresh_data.drop('Y', axis = 1)\n"
   ]
  },
  {
   "cell_type": "markdown",
   "id": "5258afa9-5bfd-4677-9b5c-96dd3f08b4b4",
   "metadata": {},
   "source": [
    "# One hot encoding"
   ]
  },
  {
   "cell_type": "code",
   "execution_count": 3,
   "id": "08ac930f-615f-43e4-aaa1-0e6082c7380e",
   "metadata": {},
   "outputs": [],
   "source": [
    "ohe = OneHotEncoder(sparse = False).fit(\n",
    "    model_X\\\n",
    "    .loc[:,model_X.dtypes == \"O\"]\n",
    ")\n",
    "\n",
    "\n",
    "model_X_ohe = pd.concat([\n",
    "    pd.DataFrame(\n",
    "        ohe.transform(model_X.loc[:,model_X.dtypes == \"O\"]),\n",
    "        columns = ohe.get_feature_names_out(),\n",
    "        index = model_X.index),\n",
    "    model_X.loc[:, model_X.dtypes != \"O\"]],\n",
    "    axis = 1)\n",
    "\n",
    "fresh_X_ohe = pd.concat([\n",
    "    pd.DataFrame(\n",
    "        ohe.transform(fresh_X.loc[:,fresh_X.dtypes == \"O\"]),\n",
    "        columns = ohe.get_feature_names_out(),\n",
    "        index = fresh_X.index),\n",
    "    fresh_X.loc[:, fresh_X.dtypes != 'O']],\n",
    "    axis = 1)"
   ]
  },
  {
   "cell_type": "markdown",
   "id": "c62389ff-b75f-4acf-91a1-50fa3bf942e0",
   "metadata": {},
   "source": [
    "# Normalization"
   ]
  },
  {
   "cell_type": "code",
   "execution_count": 4,
   "id": "06ffd563-fba7-484f-a7a0-cb802c80c0f4",
   "metadata": {},
   "outputs": [],
   "source": [
    "model_X_ohe = pd.DataFrame(\n",
    "    normalize(model_X_ohe.to_numpy()), columns = model_X_ohe.columns, \n",
    "    index = model_X_ohe.index)"
   ]
  },
  {
   "cell_type": "markdown",
   "id": "3edf6c3e-d0e5-4a8f-8fd8-ed33fdccaa8b",
   "metadata": {},
   "source": [
    "# Train test split"
   ]
  },
  {
   "cell_type": "code",
   "execution_count": 5,
   "id": "9d925069-d6b2-4894-832f-f3f32ebc5e71",
   "metadata": {},
   "outputs": [],
   "source": [
    "model_X_train, model_X_test, model_Y_train, model_Y_test = train_test_split(\n",
    "    model_X_ohe, model_Y, random_state = 0, stratify = model_Y)"
   ]
  },
  {
   "cell_type": "markdown",
   "id": "27eefb20-b0db-441f-b43e-1658abb9ec9f",
   "metadata": {},
   "source": [
    "# Сохранение результата"
   ]
  },
  {
   "cell_type": "code",
   "execution_count": 6,
   "id": "c0a88a05-304b-40ee-a3aa-88478ed597ec",
   "metadata": {},
   "outputs": [],
   "source": [
    "model_X_train.to_csv(os_path.join(fiting_and_valid_fold, \"X_train.csv\"))\n",
    "model_X_test.to_csv(os_path.join(fiting_and_valid_fold, \"X_test.csv\"))\n",
    "model_Y_train.to_csv(os_path.join(fiting_and_valid_fold, \"Y_train.csv\"))\n",
    "model_Y_test.to_csv(os_path.join(fiting_and_valid_fold, \"Y_test.csv\"))\n",
    "\n",
    "fresh_X_ohe.to_csv(os_path.join(fiting_and_valid_fold, \"fresh_X.csv\"))\n",
    "fresh_Y.to_csv(os_path.join(fiting_and_valid_fold, \"fresh_Y.csv\"))"
   ]
  },
  {
   "cell_type": "code",
   "execution_count": 10,
   "id": "31a23741-7fcc-487b-8f98-5a6285a7ab8e",
   "metadata": {},
   "outputs": [
    {
     "ename": "KeyError",
     "evalue": "59616",
     "output_type": "error",
     "traceback": [
      "\u001b[0;31m---------------------------------------------------------------------------\u001b[0m",
      "\u001b[0;31mKeyError\u001b[0m                                  Traceback (most recent call last)",
      "File \u001b[0;32m~/.local/lib/python3.10/site-packages/pandas/core/indexes/base.py:3621\u001b[0m, in \u001b[0;36mIndex.get_loc\u001b[0;34m(self, key, method, tolerance)\u001b[0m\n\u001b[1;32m   3620\u001b[0m \u001b[38;5;28;01mtry\u001b[39;00m:\n\u001b[0;32m-> 3621\u001b[0m     \u001b[38;5;28;01mreturn\u001b[39;00m \u001b[38;5;28;43mself\u001b[39;49m\u001b[38;5;241;43m.\u001b[39;49m\u001b[43m_engine\u001b[49m\u001b[38;5;241;43m.\u001b[39;49m\u001b[43mget_loc\u001b[49m\u001b[43m(\u001b[49m\u001b[43mcasted_key\u001b[49m\u001b[43m)\u001b[49m\n\u001b[1;32m   3622\u001b[0m \u001b[38;5;28;01mexcept\u001b[39;00m \u001b[38;5;167;01mKeyError\u001b[39;00m \u001b[38;5;28;01mas\u001b[39;00m err:\n",
      "File \u001b[0;32m~/.local/lib/python3.10/site-packages/pandas/_libs/index.pyx:136\u001b[0m, in \u001b[0;36mpandas._libs.index.IndexEngine.get_loc\u001b[0;34m()\u001b[0m\n",
      "File \u001b[0;32m~/.local/lib/python3.10/site-packages/pandas/_libs/index.pyx:163\u001b[0m, in \u001b[0;36mpandas._libs.index.IndexEngine.get_loc\u001b[0;34m()\u001b[0m\n",
      "File \u001b[0;32mpandas/_libs/hashtable_class_helper.pxi:5198\u001b[0m, in \u001b[0;36mpandas._libs.hashtable.PyObjectHashTable.get_item\u001b[0;34m()\u001b[0m\n",
      "File \u001b[0;32mpandas/_libs/hashtable_class_helper.pxi:5206\u001b[0m, in \u001b[0;36mpandas._libs.hashtable.PyObjectHashTable.get_item\u001b[0;34m()\u001b[0m\n",
      "\u001b[0;31mKeyError\u001b[0m: 59616",
      "\nThe above exception was the direct cause of the following exception:\n",
      "\u001b[0;31mKeyError\u001b[0m                                  Traceback (most recent call last)",
      "Input \u001b[0;32mIn [10]\u001b[0m, in \u001b[0;36m<module>\u001b[0;34m\u001b[0m\n\u001b[0;32m----> 1\u001b[0m \u001b[43mmodel_X\u001b[49m\u001b[43m[\u001b[49m\u001b[43mmodel_X_train\u001b[49m\u001b[38;5;241;43m.\u001b[39;49m\u001b[43mindex\u001b[49m\u001b[43m[\u001b[49m\u001b[38;5;241;43m0\u001b[39;49m\u001b[43m]\u001b[49m\u001b[43m]\u001b[49m\n",
      "File \u001b[0;32m~/.local/lib/python3.10/site-packages/pandas/core/frame.py:3506\u001b[0m, in \u001b[0;36mDataFrame.__getitem__\u001b[0;34m(self, key)\u001b[0m\n\u001b[1;32m   3504\u001b[0m \u001b[38;5;28;01mif\u001b[39;00m \u001b[38;5;28mself\u001b[39m\u001b[38;5;241m.\u001b[39mcolumns\u001b[38;5;241m.\u001b[39mnlevels \u001b[38;5;241m>\u001b[39m \u001b[38;5;241m1\u001b[39m:\n\u001b[1;32m   3505\u001b[0m     \u001b[38;5;28;01mreturn\u001b[39;00m \u001b[38;5;28mself\u001b[39m\u001b[38;5;241m.\u001b[39m_getitem_multilevel(key)\n\u001b[0;32m-> 3506\u001b[0m indexer \u001b[38;5;241m=\u001b[39m \u001b[38;5;28;43mself\u001b[39;49m\u001b[38;5;241;43m.\u001b[39;49m\u001b[43mcolumns\u001b[49m\u001b[38;5;241;43m.\u001b[39;49m\u001b[43mget_loc\u001b[49m\u001b[43m(\u001b[49m\u001b[43mkey\u001b[49m\u001b[43m)\u001b[49m\n\u001b[1;32m   3507\u001b[0m \u001b[38;5;28;01mif\u001b[39;00m is_integer(indexer):\n\u001b[1;32m   3508\u001b[0m     indexer \u001b[38;5;241m=\u001b[39m [indexer]\n",
      "File \u001b[0;32m~/.local/lib/python3.10/site-packages/pandas/core/indexes/base.py:3623\u001b[0m, in \u001b[0;36mIndex.get_loc\u001b[0;34m(self, key, method, tolerance)\u001b[0m\n\u001b[1;32m   3621\u001b[0m     \u001b[38;5;28;01mreturn\u001b[39;00m \u001b[38;5;28mself\u001b[39m\u001b[38;5;241m.\u001b[39m_engine\u001b[38;5;241m.\u001b[39mget_loc(casted_key)\n\u001b[1;32m   3622\u001b[0m \u001b[38;5;28;01mexcept\u001b[39;00m \u001b[38;5;167;01mKeyError\u001b[39;00m \u001b[38;5;28;01mas\u001b[39;00m err:\n\u001b[0;32m-> 3623\u001b[0m     \u001b[38;5;28;01mraise\u001b[39;00m \u001b[38;5;167;01mKeyError\u001b[39;00m(key) \u001b[38;5;28;01mfrom\u001b[39;00m \u001b[38;5;21;01merr\u001b[39;00m\n\u001b[1;32m   3624\u001b[0m \u001b[38;5;28;01mexcept\u001b[39;00m \u001b[38;5;167;01mTypeError\u001b[39;00m:\n\u001b[1;32m   3625\u001b[0m     \u001b[38;5;66;03m# If we have a listlike key, _check_indexing_error will raise\u001b[39;00m\n\u001b[1;32m   3626\u001b[0m     \u001b[38;5;66;03m#  InvalidIndexError. Otherwise we fall through and re-raise\u001b[39;00m\n\u001b[1;32m   3627\u001b[0m     \u001b[38;5;66;03m#  the TypeError.\u001b[39;00m\n\u001b[1;32m   3628\u001b[0m     \u001b[38;5;28mself\u001b[39m\u001b[38;5;241m.\u001b[39m_check_indexing_error(key)\n",
      "\u001b[0;31mKeyError\u001b[0m: 59616"
     ]
    }
   ],
   "source": [
    "model_X.loc[model_X_train.index[0], ;]"
   ]
  }
 ],
 "metadata": {
  "kernelspec": {
   "display_name": "Python 3 (ipykernel)",
   "language": "python",
   "name": "python3"
  },
  "language_info": {
   "codemirror_mode": {
    "name": "ipython",
    "version": 3
   },
   "file_extension": ".py",
   "mimetype": "text/x-python",
   "name": "python",
   "nbconvert_exporter": "python",
   "pygments_lexer": "ipython3",
   "version": "3.10.4"
  }
 },
 "nbformat": 4,
 "nbformat_minor": 5
}
