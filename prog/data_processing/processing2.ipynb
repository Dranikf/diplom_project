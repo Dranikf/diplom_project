{
 "cells": [
  {
   "cell_type": "markdown",
   "id": "167d44b4",
   "metadata": {},
   "source": [
    "# Анализ данных и проверка методов обработки данных 2"
   ]
  },
  {
   "cell_type": "code",
   "execution_count": 3,
   "id": "c3f37725",
   "metadata": {},
   "outputs": [],
   "source": [
    "import pandas as pd\n",
    "import numpy as np\n",
    "import matplotlib.pyplot as plt\n",
    "\n",
    "from data_description import get_data_frame_settings\n",
    "from processing import obj_to_cat\n",
    "\n",
    "\n",
    "import DS_common.emissions as em\n",
    "from DS_common.excel_writing import save_double_column_df\n",
    "from sys import path\n",
    "\n",
    "path.append(\n",
    "    '/home/dranik/KFA/university/diplom_project/prog/data_processing/classification_power_predictor'\n",
    ")\n",
    "\n",
    "from classification_power_predictor\\\n",
    "import classification_power_predictor as cpp\n",
    "from sklearn.metrics import roc_curve\n",
    "\n",
    "\n",
    "import os\n",
    "import os.path as os_path\n",
    "\n",
    "# current project file name\n",
    "cpfn = \"diplom_project\"\n",
    "\n",
    "curr_dir = os.getcwd()\n",
    "curr_dir = os_path.join(curr_dir[:curr_dir.find(cpfn)], cpfn)\n",
    "data_storage = os_path.join(curr_dir, \"data_storage\")\n",
    "input_filename = os_path.join(data_storage, \"proc_1\")\n",
    "result_filename2 = os_path.join(data_storage, \"proc_2\")\n",
    "result_filename3 = os_path.join(data_storage, \"proc_3\")"
   ]
  },
  {
   "cell_type": "markdown",
   "id": "c1cb87b3",
   "metadata": {},
   "source": [
    "# Загрузка данных"
   ]
  },
  {
   "cell_type": "code",
   "execution_count": 4,
   "id": "1059dad8",
   "metadata": {},
   "outputs": [],
   "source": [
    "data = pd.read_csv(\n",
    "    input_filename + \".csv\",\n",
    "    index_col = 0\n",
    ")"
   ]
  },
  {
   "cell_type": "markdown",
   "id": "d5b5fbd5",
   "metadata": {},
   "source": [
    "# Очистка от выбросов\n",
    "\n",
    "**Мы не удаляем строки - а прописываем выбросам пропуск**\n",
    "Почему мы так делаем?\n",
    "\n",
    "1) Что-бы не удалять больше чем нужно;<br>\n",
    "2) Что-бы оставлось побольше данных - нет смысла много удалять пока не оценена классифицирующая способность."
   ]
  },
  {
   "cell_type": "markdown",
   "id": "ffa6c3c8",
   "metadata": {},
   "source": [
    "Отрицительный стаж работы - бред!"
   ]
  },
  {
   "cell_type": "code",
   "execution_count": 5,
   "id": "f050160b",
   "metadata": {},
   "outputs": [],
   "source": [
    "data.loc[\n",
    "    data['Работа последнее место стаж лет'] > 0,\n",
    "    'Работа последнее место стаж лет'\n",
    "] = np.NaN"
   ]
  },
  {
   "cell_type": "markdown",
   "id": "13b6be48",
   "metadata": {},
   "source": [
    "Отрицительный доход - бред. Да и на 100 рублей не выжить."
   ]
  },
  {
   "cell_type": "code",
   "execution_count": 6,
   "id": "c308e8b9",
   "metadata": {},
   "outputs": [],
   "source": [
    "data.loc[\n",
    "    data['Работа уровень дохода BYR'] > 100,\n",
    "    'Работа уровень дохода BYR'\n",
    "] = np.NaN"
   ]
  },
  {
   "cell_type": "markdown",
   "id": "ba3fb758",
   "metadata": {},
   "source": [
    "Неположитеьная сумма договора - бред"
   ]
  },
  {
   "cell_type": "code",
   "execution_count": 7,
   "id": "05642344",
   "metadata": {},
   "outputs": [],
   "source": [
    "data.loc[\n",
    "    data['Сумма договора'] < 0,\n",
    "    'Сумма договора'\n",
    "] = np.NaN"
   ]
  },
  {
   "cell_type": "markdown",
   "id": "1763c2fd",
   "metadata": {},
   "source": [
    "Ежедневный платеж"
   ]
  },
  {
   "cell_type": "code",
   "execution_count": 8,
   "id": "f607bf95",
   "metadata": {},
   "outputs": [],
   "source": [
    "data.loc[\n",
    "    data['Ежедневный платеж'] < 0,\n",
    "    'Ежедневный платеж'\n",
    "] = np.NaN"
   ]
  },
  {
   "cell_type": "markdown",
   "id": "b4859129",
   "metadata": {},
   "source": [
    "**Показались подозлительными размахи переменных**\n",
    "\n",
    "1.Количество фактов просрочки по основному долгу;<br>\n",
    "2.Максимальное количество дней просрочки;<br>\n",
    "3.Общее количество запросов в КБ;<br>\n",
    "4.Сумма кредитных лимитов;<br>\n",
    "5.Сумма договора;<br>\n",
    "6.ежедневный платеж."
   ]
  },
  {
   "cell_type": "code",
   "execution_count": 9,
   "id": "cd8957c3",
   "metadata": {},
   "outputs": [],
   "source": [
    "em_research_list = [\n",
    "    \"Количество фактов просрочки по основному долгу\",\n",
    "    \"Максимальное количество дней просрочки\",\n",
    "    \"Общее количество запросов в КБ\",\n",
    "    \"Сумма кредитных лимитов\", \"Сумма договора\",\n",
    "    \"Ежедневный платеж\"\n",
    "]"
   ]
  },
  {
   "cell_type": "markdown",
   "id": "60057994",
   "metadata": {},
   "source": [
    "Рассмотрим описание данных"
   ]
  },
  {
   "cell_type": "code",
   "execution_count": 10,
   "id": "159d90a0",
   "metadata": {
    "scrolled": true
   },
   "outputs": [],
   "source": [
    "def get_describes(df):\n",
    "    result = pd.DataFrame()\n",
    "    for col in df:\n",
    "        result[col] = df[col].describe()\n",
    "    return result\n",
    "\n",
    "get_describes(data[em_research_list]).\\\n",
    "to_excel(\"result/emissions_research/emissions_describes_initial.xlsx\")"
   ]
  },
  {
   "cell_type": "markdown",
   "id": "9afd00a8",
   "metadata": {},
   "source": [
    "Ну глядя на максимальное значений и 75-е персентили все становиться понятно - проведем удаление по правилу из Википедии."
   ]
  },
  {
   "cell_type": "code",
   "execution_count": 11,
   "id": "e773b62f",
   "metadata": {},
   "outputs": [],
   "source": [
    "def cut_emissioins(col):\n",
    "    return col[em.get_selcond_emiss_25_75(col, cut_type = 'right')]\n",
    "\n",
    "data[em_research_list] = \\\n",
    "data[em_research_list].apply(cut_emissioins)"
   ]
  },
  {
   "cell_type": "code",
   "execution_count": 12,
   "id": "03a81235",
   "metadata": {},
   "outputs": [],
   "source": [
    "#get_describes(data[em_research_list])\n",
    "get_describes(data[em_research_list]).\\\n",
    "to_excel(\"result/emissions_research/emissions_describes_new.xlsx\")"
   ]
  },
  {
   "cell_type": "code",
   "execution_count": 13,
   "id": "71bd40ce",
   "metadata": {},
   "outputs": [],
   "source": [
    "get_data_frame_settings(data).to_excel(\n",
    "    \"result/describe_predictors/4_emissions_drop.xlsx\")"
   ]
  },
  {
   "cell_type": "markdown",
   "id": "e392260b",
   "metadata": {},
   "source": [
    "# Классифицирующая способность"
   ]
  },
  {
   "cell_type": "code",
   "execution_count": 14,
   "id": "678e1d17",
   "metadata": {},
   "outputs": [],
   "source": [
    "def cl_abby(data, file_name):\n",
    "    object_data = data.copy()\n",
    "    cat_cols = object_data.columns[object_data.dtypes == 'category']\n",
    "    object_data[cat_cols] = object_data[cat_cols].astype(\"O\")\n",
    "\n",
    "    my_cpp = cpp(\n",
    "        object_data.drop('Y', axis = 1), \n",
    "        object_data['Y'].replace({0:\"Нет дефолта\", 1:\"Дефолт\"}))\n",
    "    my_cpp.update_predictors()\n",
    "    \n",
    "    writer = pd.ExcelWriter(file_name)\n",
    "    save_double_column_df(my_cpp.result_DF,writer)\n",
    "    writer.close()\n",
    "    return my_cpp.result_DF"
   ]
  },
  {
   "cell_type": "markdown",
   "id": "29c13706",
   "metadata": {},
   "source": [
    "result_DF = cl_abby(data, \"result/classify_abby/1.xlsx\")"
   ]
  },
  {
   "cell_type": "markdown",
   "id": "0b618df7",
   "metadata": {},
   "source": [
    "## По незначимости KS статистики выборку покидают"
   ]
  },
  {
   "cell_type": "code",
   "execution_count": 15,
   "id": "58d0eb20",
   "metadata": {},
   "outputs": [
    {
     "data": {
      "text/plain": [
       "['Автомобиль год выпуска3',\n",
       " 'Количество детей',\n",
       " 'Отношение к банку',\n",
       " 'Работа последнее место стаж лет',\n",
       " 'Работа уровень дохода BYR',\n",
       " 'Количество действующих договоров обеспечения',\n",
       " 'Число авто',\n",
       " 'Есть авто']"
      ]
     },
     "execution_count": 15,
     "metadata": {},
     "output_type": "execute_result"
    }
   ],
   "source": [
    "result_DF = pd.read_excel(\n",
    "    \"result/classify_abby/1.xlsx\",\n",
    "    index_col = 0, header=[0,1]\n",
    ")\n",
    "\n",
    "\n",
    "drop_index = result_DF[\n",
    "    result_DF[(\"Дефолт\",\"KS_p_val\")] > 0.01\n",
    "].index\n",
    "drop_index.tolist()"
   ]
  },
  {
   "cell_type": "code",
   "execution_count": 16,
   "id": "b282fce0",
   "metadata": {},
   "outputs": [],
   "source": [
    "data.drop(drop_index, inplace = True, axis = 1)"
   ]
  },
  {
   "cell_type": "markdown",
   "id": "f35fa8a5",
   "metadata": {},
   "source": [
    "cl_abby(data, \"result/classify_abby/2.xlsx\")"
   ]
  },
  {
   "cell_type": "markdown",
   "id": "9738f698",
   "metadata": {},
   "source": [
    "### Показатели оказавшиеся хуже связанных"
   ]
  },
  {
   "cell_type": "code",
   "execution_count": 17,
   "id": "5c435f40",
   "metadata": {},
   "outputs": [],
   "source": [
    "drop_cols = [\n",
    "    'Ежедневный платеж',\n",
    "    'Автомобиль год выпуска'\n",
    "]\n",
    "\n",
    "data.drop(drop_cols, inplace = True, axis = 1)"
   ]
  },
  {
   "cell_type": "markdown",
   "id": "bade443d",
   "metadata": {},
   "source": [
    "Показатели \"Столица\", \"Областной центр\" и \"Адрес проживания - Населенный пункт\" хоть и созданы в отрыве от показателя \"Тип насеренного пункта\" очевидно с ним взаимосвязаны и заметно ему уступают, потому проиведем их удаление."
   ]
  },
  {
   "cell_type": "code",
   "execution_count": 18,
   "id": "9dd34246",
   "metadata": {},
   "outputs": [],
   "source": [
    "data.drop([\n",
    "    \"Столица\", \"Областной центр\", \n",
    "     \"Адрес проживания - Населенный пункт\"\n",
    "], axis = 1, inplace = True)"
   ]
  },
  {
   "cell_type": "markdown",
   "id": "2d021515",
   "metadata": {},
   "source": [
    "## Далее борьба с пропусками"
   ]
  },
  {
   "cell_type": "markdown",
   "id": "d8c6d30b",
   "metadata": {},
   "source": [
    "Воинская служба много пропусков - но естесвенно понятно, что если мы укажем \"невоеннообязанный\" для всеж Ж у который пропуск то в 99% случаях окажемся правы."
   ]
  },
  {
   "cell_type": "code",
   "execution_count": 19,
   "id": "7f25d965",
   "metadata": {},
   "outputs": [],
   "source": [
    "data.loc[data['Пол'] == 'Ж', 'Воинская служба'] = \"невоеннообязанный\""
   ]
  },
  {
   "cell_type": "markdown",
   "id": "dbc48f7a",
   "metadata": {},
   "source": [
    "### Пропуски в числовых переменных"
   ]
  },
  {
   "cell_type": "markdown",
   "id": "fda57c2d",
   "metadata": {},
   "source": [
    "Найдем числовые переменные"
   ]
  },
  {
   "cell_type": "code",
   "execution_count": 20,
   "id": "ed69d547",
   "metadata": {},
   "outputs": [
    {
     "data": {
      "text/plain": [
       "Index(['Автомобиль год выпуска1', 'Автомобиль год выпуска2',\n",
       "       'Количество иждивенцев', 'Количество действующих кредитных договоров',\n",
       "       'Количество запросов в КБ за последние 30 дней',\n",
       "       'Количество фактов просрочки по основному долгу',\n",
       "       'Максимальное количество дней просрочки',\n",
       "       'Максимальный срок, на который заключался договор, в годах',\n",
       "       'Общее количество запросов в КБ', 'Сумма кредитных лимитов',\n",
       "       'Сумма договора', 'Срок кредита в днях'],\n",
       "      dtype='object')"
      ]
     },
     "execution_count": 20,
     "metadata": {},
     "output_type": "execute_result"
    }
   ],
   "source": [
    "numeric_cols = data.columns[\n",
    "    (data.dtypes.apply(pd.api.types.is_numeric_dtype) & \\\n",
    "    np.invert(data.dtypes.apply(pd.api.types.is_bool_dtype)))\n",
    "].drop(['Y', 'Дата рождения'])\n",
    "numeric_cols"
   ]
  },
  {
   "cell_type": "markdown",
   "id": "43a61c72",
   "metadata": {},
   "source": [
    "#### Пропуски в нули\n",
    "\n",
    "Говорим что пропуски равны нулю"
   ]
  },
  {
   "cell_type": "code",
   "execution_count": 21,
   "id": "0ab00a73",
   "metadata": {},
   "outputs": [],
   "source": [
    "data[numeric_cols + '(пропуск => 0)'] = data[numeric_cols].apply(lambda x: x.fillna(0))"
   ]
  },
  {
   "cell_type": "markdown",
   "id": "33c0fa97",
   "metadata": {},
   "source": [
    "#### Перекодировка в бинарный\n",
    "\n",
    "Если пропуск то false"
   ]
  },
  {
   "cell_type": "code",
   "execution_count": 22,
   "id": "74327929",
   "metadata": {},
   "outputs": [],
   "source": [
    "data[numeric_cols + '(бинарный)'] \\\n",
    "= data[numeric_cols].apply(lambda x: x.isna())"
   ]
  },
  {
   "cell_type": "markdown",
   "id": "9c666243",
   "metadata": {},
   "source": [
    "#### Перекодировка на два класса по точке соотвесвтующей KS статистике и пропуски как отдельный уровень"
   ]
  },
  {
   "cell_type": "code",
   "execution_count": 23,
   "id": "73db85fc",
   "metadata": {},
   "outputs": [],
   "source": [
    "def get_trio_col(col, y):\n",
    "    \n",
    "    # определение точки прелома\n",
    "    norm_col = (col - np.min(col))/(np.max(col) - np.min(col))\n",
    "    not_na_cond = np.invert(norm_col.isna())\n",
    "    fpr, tpr, thresholds = roc_curve(y[not_na_cond], norm_col[not_na_cond])\n",
    "    col_thres = col[thresholds[np.argmax(np.abs(fpr - tpr))] == norm_col].iloc[0]\n",
    "    \n",
    "    # распределение классов\n",
    "    result = col.copy()\n",
    "    result[not_na_cond & (col <= col_thres)] = \"<=\" + str(col_thres)\n",
    "    result[not_na_cond & (col > col_thres)] = \">\" + str(col_thres)\n",
    "    \n",
    "    return result\n",
    "\n",
    "data[numeric_cols + '(разбивка по KS)'] = data[numeric_cols].apply(get_trio_col, y = data['Y'])"
   ]
  },
  {
   "cell_type": "markdown",
   "id": "3f0c51b1",
   "metadata": {},
   "source": [
    "Сохраняем - только численные переменные и их свежие производные"
   ]
  },
  {
   "cell_type": "code",
   "execution_count": 24,
   "id": "2329cb16",
   "metadata": {},
   "outputs": [],
   "source": [
    "numeric_and_derivative = numeric_cols.to_list() +\\\n",
    "(numeric_cols + '(пропуск => 0)').to_list() +\\\n",
    "(numeric_cols + '(бинарный)').to_list() +\\\n",
    "(numeric_cols + '(разбивка по KS)').to_list() + ['Y']"
   ]
  },
  {
   "cell_type": "markdown",
   "id": "ffe6fa32",
   "metadata": {},
   "source": [
    "numeric_and_altern = cl_abby(\n",
    "    data[\n",
    "        numeric_and_derivative\n",
    "    ],\n",
    "    \"result/classify_abby/3.xlsx\"\n",
    ")"
   ]
  },
  {
   "cell_type": "markdown",
   "id": "e722e9a4",
   "metadata": {},
   "source": [
    "numeric_and_altern.sort_index().to_excel(\"result/classify_abby/3.xlsx\")"
   ]
  },
  {
   "cell_type": "markdown",
   "id": "781a9128",
   "metadata": {},
   "source": [
    "## Удаление лишних столбоцов\n",
    "\n",
    "Постепенно из списка numeric_and_derivative будем выбрасывать столбцы что еще пригодяться"
   ]
  },
  {
   "cell_type": "code",
   "execution_count": 25,
   "id": "8aee18e3",
   "metadata": {},
   "outputs": [],
   "source": [
    "def save_col(col_name):\n",
    "    numeric_and_derivative.remove(col_name)"
   ]
  },
  {
   "cell_type": "markdown",
   "id": "d4a3417b",
   "metadata": {},
   "source": [
    "Автомобили - хороший показатель, только очень много пропусков."
   ]
  },
  {
   "cell_type": "code",
   "execution_count": 26,
   "id": "270bb263",
   "metadata": {},
   "outputs": [],
   "source": [
    "save_col('Автомобиль год выпуска1(разбивка по KS)')"
   ]
  },
  {
   "cell_type": "markdown",
   "id": "434d9c71",
   "metadata": {},
   "source": [
    "Количесво дейсвующих кредитных договоров - лучше всего обнулять пропуски"
   ]
  },
  {
   "cell_type": "code",
   "execution_count": 27,
   "id": "2974fead",
   "metadata": {},
   "outputs": [],
   "source": [
    "save_col(\"Количество действующих кредитных договоров(пропуск => 0)\")"
   ]
  },
  {
   "cell_type": "markdown",
   "id": "87cfda66",
   "metadata": {},
   "source": [
    "И так далее по аналогии: количество иждивенцев не сохранить; сумма договора - по числам пропуск в ноль, но логически оказалось, что нулевая сумма договора - бред, там мало пропусков, потому оставим в изначальном виде."
   ]
  },
  {
   "cell_type": "code",
   "execution_count": 28,
   "id": "99cc6881",
   "metadata": {},
   "outputs": [],
   "source": [
    "save_col(\"Количество запросов в КБ за последние 30 дней(разбивка по KS)\")\n",
    "save_col(\"Количество фактов просрочки по основному долгу(пропуск => 0)\")\n",
    "save_col(\"Максимальное количество дней просрочки(пропуск => 0)\")\n",
    "save_col(\"Максимальный срок, на который заключался договор, в годах(разбивка по KS)\")\n",
    "save_col(\"Общее количество запросов в КБ(разбивка по KS)\")\n",
    "save_col(\"Срок кредита в днях(разбивка по KS)\")\n",
    "save_col(\"Сумма договора\")\n",
    "save_col(\"Сумма кредитных лимитов(пропуск => 0)\")\n",
    "save_col('Y')"
   ]
  },
  {
   "cell_type": "code",
   "execution_count": 29,
   "id": "ce44dc80",
   "metadata": {},
   "outputs": [],
   "source": [
    "data.drop(numeric_and_derivative, inplace = True, axis = 1)"
   ]
  },
  {
   "cell_type": "markdown",
   "id": "44794117",
   "metadata": {},
   "source": [
    "Вернем производным столбцам названия их \"родителей\""
   ]
  },
  {
   "cell_type": "code",
   "execution_count": 30,
   "id": "9bf87e20",
   "metadata": {},
   "outputs": [],
   "source": [
    "\n",
    "br_emptys = data.columns.str.find(\"(\")\n",
    "cond = (br_emptys != -1)\n",
    "\n",
    "data.rename(columns = dict(zip(\n",
    "    data.columns[cond],\n",
    "    list(map(\n",
    "        lambda x: x[0][:x[1]], zip(data.columns[cond], br_emptys[cond])\n",
    "    ))\n",
    ")), inplace = True)"
   ]
  },
  {
   "cell_type": "markdown",
   "id": "376bf7d7",
   "metadata": {},
   "source": [
    "## Удаляем то что осталось от пропусков"
   ]
  },
  {
   "cell_type": "markdown",
   "id": "923f2702",
   "metadata": {},
   "source": [
    "По тем, что остались численными надо удалить строки "
   ]
  },
  {
   "cell_type": "code",
   "execution_count": 31,
   "id": "18a57ddd",
   "metadata": {},
   "outputs": [],
   "source": [
    "data.drop(data.loc[\n",
    "    data[\n",
    "        data.columns[data.dtypes.apply(pd.api.types.is_numeric_dtype)]\n",
    "    ].apply(lambda x: any(x.isna()), axis = 1),:\n",
    "].index, inplace = True)"
   ]
  },
  {
   "cell_type": "markdown",
   "id": "1ff507c5",
   "metadata": {},
   "source": [
    "Всем оставшимся делаем - нет данных"
   ]
  },
  {
   "cell_type": "code",
   "execution_count": 32,
   "id": "72d1c0d7",
   "metadata": {},
   "outputs": [],
   "source": [
    "no_data_marker = \"нет данных\"\n",
    "cat_cols = data.columns[data.dtypes == 'object']\n",
    "\n",
    "data.fillna(no_data_marker, inplace = True)"
   ]
  },
  {
   "cell_type": "markdown",
   "id": "7471d006",
   "metadata": {},
   "source": [
    "# Отчеты на момент удаленный пропусков"
   ]
  },
  {
   "cell_type": "code",
   "execution_count": 33,
   "id": "902a2c3e",
   "metadata": {},
   "outputs": [],
   "source": [
    "class_emp_del = cl_abby(data, \"result/classify_abby/4.xlsx\")"
   ]
  },
  {
   "cell_type": "code",
   "execution_count": 34,
   "id": "8c071964",
   "metadata": {},
   "outputs": [],
   "source": [
    "get_data_frame_settings(data).to_excel('result/describe_predictors/5 emp del.xlsx')"
   ]
  },
  {
   "cell_type": "code",
   "execution_count": 35,
   "id": "7ed27439",
   "metadata": {},
   "outputs": [],
   "source": [
    "data.to_csv(result_filename2 + \".csv\")"
   ]
  },
  {
   "cell_type": "markdown",
   "id": "c182214f",
   "metadata": {},
   "source": [
    "# В результате моделирования было решено также ввести критерий по AUC"
   ]
  },
  {
   "cell_type": "code",
   "execution_count": 34,
   "id": "ae19523b",
   "metadata": {},
   "outputs": [],
   "source": [
    "save_index = class_emp_del.index[\n",
    "    class_emp_del.loc[:, ('Нет дефолта', 'AUC')] > 0.6\n",
    "]\n",
    "\n",
    "data[list(save_index) + ['Y']].to_csv(result_filename3 + \".csv\")"
   ]
  }
 ],
 "metadata": {
  "kernelspec": {
   "display_name": "Python 3 (ipykernel)",
   "language": "python",
   "name": "python3"
  },
  "language_info": {
   "codemirror_mode": {
    "name": "ipython",
    "version": 3
   },
   "file_extension": ".py",
   "mimetype": "text/x-python",
   "name": "python",
   "nbconvert_exporter": "python",
   "pygments_lexer": "ipython3",
   "version": "3.10.4"
  }
 },
 "nbformat": 4,
 "nbformat_minor": 5
}
